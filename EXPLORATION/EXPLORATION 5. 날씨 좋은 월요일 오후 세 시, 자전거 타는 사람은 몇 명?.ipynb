{
 "cells": [
  {
   "cell_type": "markdown",
   "metadata": {},
   "source": [
    "# 프로젝트 1 : 손수 설계하는 선형회귀, 당뇨병 수치를 맞춰보자!"
   ]
  },
  {
   "cell_type": "markdown",
   "metadata": {},
   "source": [
    "---"
   ]
  },
  {
   "cell_type": "markdown",
   "metadata": {},
   "source": [
    "## Import"
   ]
  },
  {
   "cell_type": "code",
   "execution_count": 1,
   "metadata": {},
   "outputs": [],
   "source": [
    "from sklearn.datasets import load_diabetes\n",
    "from sklearn.model_selection import train_test_split\n",
    "import pandas as pd\n",
    "import numpy as np\n",
    "import matplotlib.pyplot as plt"
   ]
  },
  {
   "cell_type": "markdown",
   "metadata": {},
   "source": [
    "## Load data"
   ]
  },
  {
   "cell_type": "code",
   "execution_count": 2,
   "metadata": {},
   "outputs": [
    {
     "data": {
      "text/plain": [
       "['DESCR',\n",
       " 'data',\n",
       " 'data_filename',\n",
       " 'feature_names',\n",
       " 'frame',\n",
       " 'target',\n",
       " 'target_filename']"
      ]
     },
     "execution_count": 2,
     "metadata": {},
     "output_type": "execute_result"
    }
   ],
   "source": [
    "diabetes = load_diabetes()\n",
    "dir(diabetes)"
   ]
  },
  {
   "cell_type": "code",
   "execution_count": 3,
   "metadata": {},
   "outputs": [],
   "source": [
    "dfX = pd.DataFrame(diabetes.data, columns=diabetes.feature_names)\n",
    "dfy = pd.DataFrame(diabetes.target, columns=['target'])"
   ]
  },
  {
   "cell_type": "code",
   "execution_count": 4,
   "metadata": {},
   "outputs": [
    {
     "data": {
      "text/html": [
       "<div>\n",
       "<style scoped>\n",
       "    .dataframe tbody tr th:only-of-type {\n",
       "        vertical-align: middle;\n",
       "    }\n",
       "\n",
       "    .dataframe tbody tr th {\n",
       "        vertical-align: top;\n",
       "    }\n",
       "\n",
       "    .dataframe thead th {\n",
       "        text-align: right;\n",
       "    }\n",
       "</style>\n",
       "<table border=\"1\" class=\"dataframe\">\n",
       "  <thead>\n",
       "    <tr style=\"text-align: right;\">\n",
       "      <th></th>\n",
       "      <th>age</th>\n",
       "      <th>sex</th>\n",
       "      <th>bmi</th>\n",
       "      <th>bp</th>\n",
       "      <th>s1</th>\n",
       "      <th>s2</th>\n",
       "      <th>s3</th>\n",
       "      <th>s4</th>\n",
       "      <th>s5</th>\n",
       "      <th>s6</th>\n",
       "    </tr>\n",
       "  </thead>\n",
       "  <tbody>\n",
       "    <tr>\n",
       "      <th>0</th>\n",
       "      <td>0.038076</td>\n",
       "      <td>0.050680</td>\n",
       "      <td>0.061696</td>\n",
       "      <td>0.021872</td>\n",
       "      <td>-0.044223</td>\n",
       "      <td>-0.034821</td>\n",
       "      <td>-0.043401</td>\n",
       "      <td>-0.002592</td>\n",
       "      <td>0.019908</td>\n",
       "      <td>-0.017646</td>\n",
       "    </tr>\n",
       "    <tr>\n",
       "      <th>1</th>\n",
       "      <td>-0.001882</td>\n",
       "      <td>-0.044642</td>\n",
       "      <td>-0.051474</td>\n",
       "      <td>-0.026328</td>\n",
       "      <td>-0.008449</td>\n",
       "      <td>-0.019163</td>\n",
       "      <td>0.074412</td>\n",
       "      <td>-0.039493</td>\n",
       "      <td>-0.068330</td>\n",
       "      <td>-0.092204</td>\n",
       "    </tr>\n",
       "    <tr>\n",
       "      <th>2</th>\n",
       "      <td>0.085299</td>\n",
       "      <td>0.050680</td>\n",
       "      <td>0.044451</td>\n",
       "      <td>-0.005671</td>\n",
       "      <td>-0.045599</td>\n",
       "      <td>-0.034194</td>\n",
       "      <td>-0.032356</td>\n",
       "      <td>-0.002592</td>\n",
       "      <td>0.002864</td>\n",
       "      <td>-0.025930</td>\n",
       "    </tr>\n",
       "    <tr>\n",
       "      <th>3</th>\n",
       "      <td>-0.089063</td>\n",
       "      <td>-0.044642</td>\n",
       "      <td>-0.011595</td>\n",
       "      <td>-0.036656</td>\n",
       "      <td>0.012191</td>\n",
       "      <td>0.024991</td>\n",
       "      <td>-0.036038</td>\n",
       "      <td>0.034309</td>\n",
       "      <td>0.022692</td>\n",
       "      <td>-0.009362</td>\n",
       "    </tr>\n",
       "    <tr>\n",
       "      <th>4</th>\n",
       "      <td>0.005383</td>\n",
       "      <td>-0.044642</td>\n",
       "      <td>-0.036385</td>\n",
       "      <td>0.021872</td>\n",
       "      <td>0.003935</td>\n",
       "      <td>0.015596</td>\n",
       "      <td>0.008142</td>\n",
       "      <td>-0.002592</td>\n",
       "      <td>-0.031991</td>\n",
       "      <td>-0.046641</td>\n",
       "    </tr>\n",
       "    <tr>\n",
       "      <th>...</th>\n",
       "      <td>...</td>\n",
       "      <td>...</td>\n",
       "      <td>...</td>\n",
       "      <td>...</td>\n",
       "      <td>...</td>\n",
       "      <td>...</td>\n",
       "      <td>...</td>\n",
       "      <td>...</td>\n",
       "      <td>...</td>\n",
       "      <td>...</td>\n",
       "    </tr>\n",
       "    <tr>\n",
       "      <th>437</th>\n",
       "      <td>0.041708</td>\n",
       "      <td>0.050680</td>\n",
       "      <td>0.019662</td>\n",
       "      <td>0.059744</td>\n",
       "      <td>-0.005697</td>\n",
       "      <td>-0.002566</td>\n",
       "      <td>-0.028674</td>\n",
       "      <td>-0.002592</td>\n",
       "      <td>0.031193</td>\n",
       "      <td>0.007207</td>\n",
       "    </tr>\n",
       "    <tr>\n",
       "      <th>438</th>\n",
       "      <td>-0.005515</td>\n",
       "      <td>0.050680</td>\n",
       "      <td>-0.015906</td>\n",
       "      <td>-0.067642</td>\n",
       "      <td>0.049341</td>\n",
       "      <td>0.079165</td>\n",
       "      <td>-0.028674</td>\n",
       "      <td>0.034309</td>\n",
       "      <td>-0.018118</td>\n",
       "      <td>0.044485</td>\n",
       "    </tr>\n",
       "    <tr>\n",
       "      <th>439</th>\n",
       "      <td>0.041708</td>\n",
       "      <td>0.050680</td>\n",
       "      <td>-0.015906</td>\n",
       "      <td>0.017282</td>\n",
       "      <td>-0.037344</td>\n",
       "      <td>-0.013840</td>\n",
       "      <td>-0.024993</td>\n",
       "      <td>-0.011080</td>\n",
       "      <td>-0.046879</td>\n",
       "      <td>0.015491</td>\n",
       "    </tr>\n",
       "    <tr>\n",
       "      <th>440</th>\n",
       "      <td>-0.045472</td>\n",
       "      <td>-0.044642</td>\n",
       "      <td>0.039062</td>\n",
       "      <td>0.001215</td>\n",
       "      <td>0.016318</td>\n",
       "      <td>0.015283</td>\n",
       "      <td>-0.028674</td>\n",
       "      <td>0.026560</td>\n",
       "      <td>0.044528</td>\n",
       "      <td>-0.025930</td>\n",
       "    </tr>\n",
       "    <tr>\n",
       "      <th>441</th>\n",
       "      <td>-0.045472</td>\n",
       "      <td>-0.044642</td>\n",
       "      <td>-0.073030</td>\n",
       "      <td>-0.081414</td>\n",
       "      <td>0.083740</td>\n",
       "      <td>0.027809</td>\n",
       "      <td>0.173816</td>\n",
       "      <td>-0.039493</td>\n",
       "      <td>-0.004220</td>\n",
       "      <td>0.003064</td>\n",
       "    </tr>\n",
       "  </tbody>\n",
       "</table>\n",
       "<p>442 rows × 10 columns</p>\n",
       "</div>"
      ],
      "text/plain": [
       "          age       sex       bmi        bp        s1        s2        s3  \\\n",
       "0    0.038076  0.050680  0.061696  0.021872 -0.044223 -0.034821 -0.043401   \n",
       "1   -0.001882 -0.044642 -0.051474 -0.026328 -0.008449 -0.019163  0.074412   \n",
       "2    0.085299  0.050680  0.044451 -0.005671 -0.045599 -0.034194 -0.032356   \n",
       "3   -0.089063 -0.044642 -0.011595 -0.036656  0.012191  0.024991 -0.036038   \n",
       "4    0.005383 -0.044642 -0.036385  0.021872  0.003935  0.015596  0.008142   \n",
       "..        ...       ...       ...       ...       ...       ...       ...   \n",
       "437  0.041708  0.050680  0.019662  0.059744 -0.005697 -0.002566 -0.028674   \n",
       "438 -0.005515  0.050680 -0.015906 -0.067642  0.049341  0.079165 -0.028674   \n",
       "439  0.041708  0.050680 -0.015906  0.017282 -0.037344 -0.013840 -0.024993   \n",
       "440 -0.045472 -0.044642  0.039062  0.001215  0.016318  0.015283 -0.028674   \n",
       "441 -0.045472 -0.044642 -0.073030 -0.081414  0.083740  0.027809  0.173816   \n",
       "\n",
       "           s4        s5        s6  \n",
       "0   -0.002592  0.019908 -0.017646  \n",
       "1   -0.039493 -0.068330 -0.092204  \n",
       "2   -0.002592  0.002864 -0.025930  \n",
       "3    0.034309  0.022692 -0.009362  \n",
       "4   -0.002592 -0.031991 -0.046641  \n",
       "..        ...       ...       ...  \n",
       "437 -0.002592  0.031193  0.007207  \n",
       "438  0.034309 -0.018118  0.044485  \n",
       "439 -0.011080 -0.046879  0.015491  \n",
       "440  0.026560  0.044528 -0.025930  \n",
       "441 -0.039493 -0.004220  0.003064  \n",
       "\n",
       "[442 rows x 10 columns]"
      ]
     },
     "execution_count": 4,
     "metadata": {},
     "output_type": "execute_result"
    }
   ],
   "source": [
    "dfX"
   ]
  },
  {
   "cell_type": "code",
   "execution_count": 5,
   "metadata": {},
   "outputs": [
    {
     "data": {
      "text/html": [
       "<div>\n",
       "<style scoped>\n",
       "    .dataframe tbody tr th:only-of-type {\n",
       "        vertical-align: middle;\n",
       "    }\n",
       "\n",
       "    .dataframe tbody tr th {\n",
       "        vertical-align: top;\n",
       "    }\n",
       "\n",
       "    .dataframe thead th {\n",
       "        text-align: right;\n",
       "    }\n",
       "</style>\n",
       "<table border=\"1\" class=\"dataframe\">\n",
       "  <thead>\n",
       "    <tr style=\"text-align: right;\">\n",
       "      <th></th>\n",
       "      <th>target</th>\n",
       "    </tr>\n",
       "  </thead>\n",
       "  <tbody>\n",
       "    <tr>\n",
       "      <th>0</th>\n",
       "      <td>151.0</td>\n",
       "    </tr>\n",
       "    <tr>\n",
       "      <th>1</th>\n",
       "      <td>75.0</td>\n",
       "    </tr>\n",
       "    <tr>\n",
       "      <th>2</th>\n",
       "      <td>141.0</td>\n",
       "    </tr>\n",
       "    <tr>\n",
       "      <th>3</th>\n",
       "      <td>206.0</td>\n",
       "    </tr>\n",
       "    <tr>\n",
       "      <th>4</th>\n",
       "      <td>135.0</td>\n",
       "    </tr>\n",
       "    <tr>\n",
       "      <th>...</th>\n",
       "      <td>...</td>\n",
       "    </tr>\n",
       "    <tr>\n",
       "      <th>437</th>\n",
       "      <td>178.0</td>\n",
       "    </tr>\n",
       "    <tr>\n",
       "      <th>438</th>\n",
       "      <td>104.0</td>\n",
       "    </tr>\n",
       "    <tr>\n",
       "      <th>439</th>\n",
       "      <td>132.0</td>\n",
       "    </tr>\n",
       "    <tr>\n",
       "      <th>440</th>\n",
       "      <td>220.0</td>\n",
       "    </tr>\n",
       "    <tr>\n",
       "      <th>441</th>\n",
       "      <td>57.0</td>\n",
       "    </tr>\n",
       "  </tbody>\n",
       "</table>\n",
       "<p>442 rows × 1 columns</p>\n",
       "</div>"
      ],
      "text/plain": [
       "     target\n",
       "0     151.0\n",
       "1      75.0\n",
       "2     141.0\n",
       "3     206.0\n",
       "4     135.0\n",
       "..      ...\n",
       "437   178.0\n",
       "438   104.0\n",
       "439   132.0\n",
       "440   220.0\n",
       "441    57.0\n",
       "\n",
       "[442 rows x 1 columns]"
      ]
     },
     "execution_count": 5,
     "metadata": {},
     "output_type": "execute_result"
    }
   ],
   "source": [
    "dfy"
   ]
  },
  {
   "cell_type": "code",
   "execution_count": 6,
   "metadata": {},
   "outputs": [],
   "source": [
    "X = dfX.values\n",
    "y = dfy['target'].values"
   ]
  },
  {
   "cell_type": "code",
   "execution_count": 7,
   "metadata": {},
   "outputs": [],
   "source": [
    "X_train, X_test, y_train, y_test = train_test_split(X, y, test_size=0.2, random_state=1)"
   ]
  },
  {
   "cell_type": "markdown",
   "metadata": {},
   "source": [
    "## Model"
   ]
  },
  {
   "cell_type": "code",
   "execution_count": 8,
   "metadata": {},
   "outputs": [],
   "source": [
    "W = np.random.rand(10)\n",
    "b = np.random.rand()"
   ]
  },
  {
   "cell_type": "code",
   "execution_count": 9,
   "metadata": {},
   "outputs": [
    {
     "data": {
      "text/plain": [
       "array([0.27006344, 0.74506016, 0.56395758, 0.8907705 , 0.08553655,\n",
       "       0.50063463, 0.77837307, 0.98421692, 0.84001236, 0.65093915])"
      ]
     },
     "execution_count": 9,
     "metadata": {},
     "output_type": "execute_result"
    }
   ],
   "source": [
    "W"
   ]
  },
  {
   "cell_type": "code",
   "execution_count": 10,
   "metadata": {},
   "outputs": [
    {
     "data": {
      "text/plain": [
       "0.5320504722847357"
      ]
     },
     "execution_count": 10,
     "metadata": {},
     "output_type": "execute_result"
    }
   ],
   "source": [
    "b"
   ]
  },
  {
   "cell_type": "code",
   "execution_count": 11,
   "metadata": {},
   "outputs": [],
   "source": [
    "def model(X,W,b):\n",
    "    predictions = 0\n",
    "    for i in range(10):\n",
    "        predictions += X[:,i]*W[i]\n",
    "    predictions += b\n",
    "    return predictions"
   ]
  },
  {
   "cell_type": "markdown",
   "metadata": {},
   "source": [
    "## Loss function"
   ]
  },
  {
   "cell_type": "code",
   "execution_count": 12,
   "metadata": {},
   "outputs": [],
   "source": [
    "def MSE(a,b):\n",
    "    mse = ((a-b)**2).mean()\n",
    "    return mse"
   ]
  },
  {
   "cell_type": "code",
   "execution_count": 13,
   "metadata": {},
   "outputs": [],
   "source": [
    "def loss(X,W,b,y):\n",
    "    predictions = model(X,W,b)\n",
    "    Loss = MSE(predictions,y)\n",
    "    return Loss"
   ]
  },
  {
   "cell_type": "markdown",
   "metadata": {},
   "source": [
    "## Gradient function"
   ]
  },
  {
   "cell_type": "code",
   "execution_count": 14,
   "metadata": {},
   "outputs": [],
   "source": [
    "def gradient(X,W,b,y):\n",
    "    N = len(W)\n",
    "    y_pred = model(X,W,b)\n",
    "    \n",
    "    dW = 1/N * 2 * (X.T).dot(y_pred-y)\n",
    "    db = 2 * (y_pred-y).mean()\n",
    "    return dW, db"
   ]
  },
  {
   "cell_type": "markdown",
   "metadata": {},
   "source": [
    "## Train"
   ]
  },
  {
   "cell_type": "code",
   "execution_count": 15,
   "metadata": {},
   "outputs": [],
   "source": [
    "learning_rate = 0.001"
   ]
  },
  {
   "cell_type": "code",
   "execution_count": 16,
   "metadata": {},
   "outputs": [
    {
     "name": "stdout",
     "output_type": "stream",
     "text": [
      "Iteration 10 : Loss 27959.7026\n",
      "Iteration 20 : Loss 27055.6696\n",
      "Iteration 30 : Loss 26186.5425\n",
      "Iteration 40 : Loss 25350.9550\n",
      "Iteration 50 : Loss 24547.5947\n",
      "Iteration 60 : Loss 23775.2007\n",
      "Iteration 70 : Loss 23032.5615\n",
      "Iteration 80 : Loss 22318.5133\n",
      "Iteration 90 : Loss 21631.9379\n",
      "Iteration 100 : Loss 20971.7609\n",
      "Iteration 110 : Loss 20336.9504\n",
      "Iteration 120 : Loss 19726.5147\n",
      "Iteration 130 : Loss 19139.5010\n",
      "Iteration 140 : Loss 18574.9942\n",
      "Iteration 150 : Loss 18032.1148\n",
      "Iteration 160 : Loss 17510.0181\n",
      "Iteration 170 : Loss 17007.8923\n",
      "Iteration 180 : Loss 16524.9576\n",
      "Iteration 190 : Loss 16060.4647\n",
      "Iteration 200 : Loss 15613.6939\n",
      "Iteration 210 : Loss 15183.9536\n",
      "Iteration 220 : Loss 14770.5792\n",
      "Iteration 230 : Loss 14372.9325\n",
      "Iteration 240 : Loss 13990.4001\n",
      "Iteration 250 : Loss 13622.3927\n",
      "Iteration 260 : Loss 13268.3442\n",
      "Iteration 270 : Loss 12927.7106\n",
      "Iteration 280 : Loss 12599.9692\n",
      "Iteration 290 : Loss 12284.6181\n",
      "Iteration 300 : Loss 11981.1748\n",
      "Iteration 310 : Loss 11689.1757\n",
      "Iteration 320 : Loss 11408.1755\n",
      "Iteration 330 : Loss 11137.7464\n",
      "Iteration 340 : Loss 10877.4773\n",
      "Iteration 350 : Loss 10626.9732\n",
      "Iteration 360 : Loss 10385.8546\n",
      "Iteration 370 : Loss 10153.7568\n",
      "Iteration 380 : Loss 9930.3297\n",
      "Iteration 390 : Loss 9715.2365\n",
      "Iteration 400 : Loss 9508.1538\n",
      "Iteration 410 : Loss 9308.7710\n",
      "Iteration 420 : Loss 9116.7895\n",
      "Iteration 430 : Loss 8931.9223\n",
      "Iteration 440 : Loss 8753.8939\n",
      "Iteration 450 : Loss 8582.4395\n",
      "Iteration 460 : Loss 8417.3045\n",
      "Iteration 470 : Loss 8258.2445\n",
      "Iteration 480 : Loss 8105.0245\n",
      "Iteration 490 : Loss 7957.4189\n",
      "Iteration 500 : Loss 7815.2107\n",
      "Iteration 510 : Loss 7678.1915\n",
      "Iteration 520 : Loss 7546.1611\n",
      "Iteration 530 : Loss 7418.9271\n",
      "Iteration 540 : Loss 7296.3045\n",
      "Iteration 550 : Loss 7178.1158\n",
      "Iteration 560 : Loss 7064.1902\n",
      "Iteration 570 : Loss 6954.3637\n",
      "Iteration 580 : Loss 6848.4787\n",
      "Iteration 590 : Loss 6746.3836\n",
      "Iteration 600 : Loss 6647.9331\n",
      "Iteration 610 : Loss 6552.9871\n",
      "Iteration 620 : Loss 6461.4114\n",
      "Iteration 630 : Loss 6373.0768\n",
      "Iteration 640 : Loss 6287.8592\n",
      "Iteration 650 : Loss 6205.6393\n",
      "Iteration 660 : Loss 6126.3026\n",
      "Iteration 670 : Loss 6049.7389\n",
      "Iteration 680 : Loss 5975.8424\n",
      "Iteration 690 : Loss 5904.5115\n",
      "Iteration 700 : Loss 5835.6483\n",
      "Iteration 710 : Loss 5769.1589\n",
      "Iteration 720 : Loss 5704.9532\n",
      "Iteration 730 : Loss 5642.9443\n",
      "Iteration 740 : Loss 5583.0489\n",
      "Iteration 750 : Loss 5525.1869\n",
      "Iteration 760 : Loss 5469.2812\n",
      "Iteration 770 : Loss 5415.2579\n",
      "Iteration 780 : Loss 5363.0459\n",
      "Iteration 790 : Loss 5312.5768\n",
      "Iteration 800 : Loss 5263.7849\n",
      "Iteration 810 : Loss 5216.6071\n",
      "Iteration 820 : Loss 5170.9826\n",
      "Iteration 830 : Loss 5126.8532\n",
      "Iteration 840 : Loss 5084.1628\n",
      "Iteration 850 : Loss 5042.8575\n",
      "Iteration 860 : Loss 5002.8855\n",
      "Iteration 870 : Loss 4964.1969\n",
      "Iteration 880 : Loss 4926.7441\n",
      "Iteration 890 : Loss 4890.4809\n",
      "Iteration 900 : Loss 4855.3631\n",
      "Iteration 910 : Loss 4821.3483\n",
      "Iteration 920 : Loss 4788.3955\n",
      "Iteration 930 : Loss 4756.4655\n",
      "Iteration 940 : Loss 4725.5205\n",
      "Iteration 950 : Loss 4695.5243\n",
      "Iteration 960 : Loss 4666.4418\n",
      "Iteration 970 : Loss 4638.2396\n",
      "Iteration 980 : Loss 4610.8854\n",
      "Iteration 990 : Loss 4584.3482\n",
      "Iteration 1000 : Loss 4558.5982\n",
      "Iteration 1010 : Loss 4533.6066\n",
      "Iteration 1020 : Loss 4509.3460\n",
      "Iteration 1030 : Loss 4485.7898\n",
      "Iteration 1040 : Loss 4462.9125\n",
      "Iteration 1050 : Loss 4440.6896\n",
      "Iteration 1060 : Loss 4419.0976\n",
      "Iteration 1070 : Loss 4398.1138\n",
      "Iteration 1080 : Loss 4377.7164\n",
      "Iteration 1090 : Loss 4357.8844\n",
      "Iteration 1100 : Loss 4338.5977\n",
      "Iteration 1110 : Loss 4319.8369\n",
      "Iteration 1120 : Loss 4301.5833\n",
      "Iteration 1130 : Loss 4283.8191\n",
      "Iteration 1140 : Loss 4266.5269\n",
      "Iteration 1150 : Loss 4249.6902\n",
      "Iteration 1160 : Loss 4233.2930\n",
      "Iteration 1170 : Loss 4217.3200\n",
      "Iteration 1180 : Loss 4201.7563\n",
      "Iteration 1190 : Loss 4186.5879\n",
      "Iteration 1200 : Loss 4171.8009\n",
      "Iteration 1210 : Loss 4157.3823\n",
      "Iteration 1220 : Loss 4143.3195\n",
      "Iteration 1230 : Loss 4129.6001\n",
      "Iteration 1240 : Loss 4116.2126\n",
      "Iteration 1250 : Loss 4103.1456\n",
      "Iteration 1260 : Loss 4090.3884\n",
      "Iteration 1270 : Loss 4077.9303\n",
      "Iteration 1280 : Loss 4065.7615\n",
      "Iteration 1290 : Loss 4053.8723\n",
      "Iteration 1300 : Loss 4042.2532\n",
      "Iteration 1310 : Loss 4030.8955\n",
      "Iteration 1320 : Loss 4019.7904\n",
      "Iteration 1330 : Loss 4008.9296\n",
      "Iteration 1340 : Loss 3998.3052\n",
      "Iteration 1350 : Loss 3987.9094\n",
      "Iteration 1360 : Loss 3977.7349\n",
      "Iteration 1370 : Loss 3967.7745\n",
      "Iteration 1380 : Loss 3958.0213\n",
      "Iteration 1390 : Loss 3948.4688\n",
      "Iteration 1400 : Loss 3939.1105\n",
      "Iteration 1410 : Loss 3929.9403\n",
      "Iteration 1420 : Loss 3920.9524\n",
      "Iteration 1430 : Loss 3912.1409\n",
      "Iteration 1440 : Loss 3903.5005\n",
      "Iteration 1450 : Loss 3895.0258\n",
      "Iteration 1460 : Loss 3886.7117\n",
      "Iteration 1470 : Loss 3878.5534\n",
      "Iteration 1480 : Loss 3870.5461\n",
      "Iteration 1490 : Loss 3862.6852\n",
      "Iteration 1500 : Loss 3854.9664\n",
      "Iteration 1510 : Loss 3847.3854\n",
      "Iteration 1520 : Loss 3839.9382\n",
      "Iteration 1530 : Loss 3832.6208\n",
      "Iteration 1540 : Loss 3825.4294\n",
      "Iteration 1550 : Loss 3818.3603\n",
      "Iteration 1560 : Loss 3811.4101\n",
      "Iteration 1570 : Loss 3804.5753\n",
      "Iteration 1580 : Loss 3797.8527\n",
      "Iteration 1590 : Loss 3791.2390\n",
      "Iteration 1600 : Loss 3784.7312\n",
      "Iteration 1610 : Loss 3778.3265\n",
      "Iteration 1620 : Loss 3772.0219\n",
      "Iteration 1630 : Loss 3765.8146\n",
      "Iteration 1640 : Loss 3759.7021\n",
      "Iteration 1650 : Loss 3753.6818\n",
      "Iteration 1660 : Loss 3747.7513\n",
      "Iteration 1670 : Loss 3741.9080\n",
      "Iteration 1680 : Loss 3736.1498\n",
      "Iteration 1690 : Loss 3730.4745\n",
      "Iteration 1700 : Loss 3724.8798\n",
      "Iteration 1710 : Loss 3719.3636\n",
      "Iteration 1720 : Loss 3713.9241\n",
      "Iteration 1730 : Loss 3708.5593\n",
      "Iteration 1740 : Loss 3703.2672\n",
      "Iteration 1750 : Loss 3698.0461\n",
      "Iteration 1760 : Loss 3692.8943\n",
      "Iteration 1770 : Loss 3687.8100\n",
      "Iteration 1780 : Loss 3682.7916\n",
      "Iteration 1790 : Loss 3677.8376\n",
      "Iteration 1800 : Loss 3672.9464\n",
      "Iteration 1810 : Loss 3668.1165\n",
      "Iteration 1820 : Loss 3663.3465\n",
      "Iteration 1830 : Loss 3658.6350\n",
      "Iteration 1840 : Loss 3653.9807\n",
      "Iteration 1850 : Loss 3649.3823\n",
      "Iteration 1860 : Loss 3644.8385\n",
      "Iteration 1870 : Loss 3640.3481\n",
      "Iteration 1880 : Loss 3635.9100\n",
      "Iteration 1890 : Loss 3631.5230\n",
      "Iteration 1900 : Loss 3627.1860\n",
      "Iteration 1910 : Loss 3622.8979\n",
      "Iteration 1920 : Loss 3618.6577\n",
      "Iteration 1930 : Loss 3614.4644\n",
      "Iteration 1940 : Loss 3610.3170\n",
      "Iteration 1950 : Loss 3606.2146\n",
      "Iteration 1960 : Loss 3602.1562\n",
      "Iteration 1970 : Loss 3598.1410\n",
      "Iteration 1980 : Loss 3594.1681\n",
      "Iteration 1990 : Loss 3590.2367\n",
      "Iteration 2000 : Loss 3586.3459\n",
      "Iteration 2010 : Loss 3582.4951\n",
      "Iteration 2020 : Loss 3578.6833\n",
      "Iteration 2030 : Loss 3574.9099\n",
      "Iteration 2040 : Loss 3571.1741\n",
      "Iteration 2050 : Loss 3567.4753\n",
      "Iteration 2060 : Loss 3563.8127\n",
      "Iteration 2070 : Loss 3560.1858\n",
      "Iteration 2080 : Loss 3556.5938\n",
      "Iteration 2090 : Loss 3553.0361\n",
      "Iteration 2100 : Loss 3549.5121\n",
      "Iteration 2110 : Loss 3546.0213\n",
      "Iteration 2120 : Loss 3542.5631\n",
      "Iteration 2130 : Loss 3539.1369\n",
      "Iteration 2140 : Loss 3535.7421\n",
      "Iteration 2150 : Loss 3532.3782\n",
      "Iteration 2160 : Loss 3529.0448\n",
      "Iteration 2170 : Loss 3525.7412\n",
      "Iteration 2180 : Loss 3522.4671\n",
      "Iteration 2190 : Loss 3519.2219\n",
      "Iteration 2200 : Loss 3516.0052\n",
      "Iteration 2210 : Loss 3512.8165\n",
      "Iteration 2220 : Loss 3509.6554\n",
      "Iteration 2230 : Loss 3506.5215\n",
      "Iteration 2240 : Loss 3503.4143\n",
      "Iteration 2250 : Loss 3500.3334\n",
      "Iteration 2260 : Loss 3497.2784\n",
      "Iteration 2270 : Loss 3494.2490\n",
      "Iteration 2280 : Loss 3491.2447\n",
      "Iteration 2290 : Loss 3488.2652\n",
      "Iteration 2300 : Loss 3485.3102\n",
      "Iteration 2310 : Loss 3482.3792\n",
      "Iteration 2320 : Loss 3479.4719\n",
      "Iteration 2330 : Loss 3476.5880\n",
      "Iteration 2340 : Loss 3473.7271\n",
      "Iteration 2350 : Loss 3470.8890\n",
      "Iteration 2360 : Loss 3468.0732\n",
      "Iteration 2370 : Loss 3465.2796\n",
      "Iteration 2380 : Loss 3462.5078\n",
      "Iteration 2390 : Loss 3459.7575\n",
      "Iteration 2400 : Loss 3457.0284\n",
      "Iteration 2410 : Loss 3454.3203\n",
      "Iteration 2420 : Loss 3451.6328\n",
      "Iteration 2430 : Loss 3448.9657\n",
      "Iteration 2440 : Loss 3446.3187\n",
      "Iteration 2450 : Loss 3443.6916\n",
      "Iteration 2460 : Loss 3441.0841\n",
      "Iteration 2470 : Loss 3438.4959\n",
      "Iteration 2480 : Loss 3435.9269\n",
      "Iteration 2490 : Loss 3433.3767\n",
      "Iteration 2500 : Loss 3430.8452\n",
      "Iteration 2510 : Loss 3428.3321\n",
      "Iteration 2520 : Loss 3425.8372\n",
      "Iteration 2530 : Loss 3423.3602\n",
      "Iteration 2540 : Loss 3420.9010\n",
      "Iteration 2550 : Loss 3418.4593\n",
      "Iteration 2560 : Loss 3416.0350\n",
      "Iteration 2570 : Loss 3413.6277\n",
      "Iteration 2580 : Loss 3411.2374\n",
      "Iteration 2590 : Loss 3408.8638\n",
      "Iteration 2600 : Loss 3406.5068\n",
      "Iteration 2610 : Loss 3404.1661\n",
      "Iteration 2620 : Loss 3401.8415\n",
      "Iteration 2630 : Loss 3399.5329\n",
      "Iteration 2640 : Loss 3397.2401\n",
      "Iteration 2650 : Loss 3394.9629\n",
      "Iteration 2660 : Loss 3392.7011\n",
      "Iteration 2670 : Loss 3390.4546\n",
      "Iteration 2680 : Loss 3388.2232\n",
      "Iteration 2690 : Loss 3386.0068\n",
      "Iteration 2700 : Loss 3383.8051\n",
      "Iteration 2710 : Loss 3381.6180\n",
      "Iteration 2720 : Loss 3379.4453\n",
      "Iteration 2730 : Loss 3377.2870\n",
      "Iteration 2740 : Loss 3375.1428\n",
      "Iteration 2750 : Loss 3373.0126\n",
      "Iteration 2760 : Loss 3370.8962\n",
      "Iteration 2770 : Loss 3368.7936\n",
      "Iteration 2780 : Loss 3366.7045\n",
      "Iteration 2790 : Loss 3364.6288\n",
      "Iteration 2800 : Loss 3362.5664\n",
      "Iteration 2810 : Loss 3360.5171\n",
      "Iteration 2820 : Loss 3358.4809\n",
      "Iteration 2830 : Loss 3356.4575\n",
      "Iteration 2840 : Loss 3354.4469\n",
      "Iteration 2850 : Loss 3352.4489\n",
      "Iteration 2860 : Loss 3350.4634\n",
      "Iteration 2870 : Loss 3348.4902\n",
      "Iteration 2880 : Loss 3346.5293\n",
      "Iteration 2890 : Loss 3344.5806\n",
      "Iteration 2900 : Loss 3342.6438\n",
      "Iteration 2910 : Loss 3340.7189\n",
      "Iteration 2920 : Loss 3338.8058\n",
      "Iteration 2930 : Loss 3336.9044\n",
      "Iteration 2940 : Loss 3335.0145\n",
      "Iteration 2950 : Loss 3333.1360\n",
      "Iteration 2960 : Loss 3331.2689\n",
      "Iteration 2970 : Loss 3329.4130\n",
      "Iteration 2980 : Loss 3327.5682\n",
      "Iteration 2990 : Loss 3325.7344\n",
      "Iteration 3000 : Loss 3323.9115\n"
     ]
    }
   ],
   "source": [
    "losses = []\n",
    "\n",
    "for i in range(1, 3001):\n",
    "    dW, db = gradient(X_train, W, b, y_train)\n",
    "    W -= learning_rate*dW\n",
    "    b -= learning_rate*db\n",
    "    L = loss(X, W, b, y)\n",
    "    losses.append(L)\n",
    "    \n",
    "    if i % 10 == 0:\n",
    "        print('Iteration %d : Loss %0.4f' % (i, L))"
   ]
  },
  {
   "cell_type": "markdown",
   "metadata": {},
   "source": [
    "## Prediction"
   ]
  },
  {
   "cell_type": "code",
   "execution_count": 17,
   "metadata": {},
   "outputs": [
    {
     "data": {
      "text/plain": [
       "3270.8161892345042"
      ]
     },
     "execution_count": 17,
     "metadata": {},
     "output_type": "execute_result"
    }
   ],
   "source": [
    "predictions = model(X_test, W, b)\n",
    "mse = loss(X_test, W, b, y_test)\n",
    "mse"
   ]
  },
  {
   "cell_type": "markdown",
   "metadata": {},
   "source": [
    "## Visualization"
   ]
  },
  {
   "cell_type": "code",
   "execution_count": 18,
   "metadata": {},
   "outputs": [
    {
     "data": {
      "image/png": "[encoded data removed]",
      "text/plain": [
       "<Figure size 432x288 with 1 Axes>"
      ]
     },
     "metadata": {
      "needs_background": "light"
     },
     "output_type": "display_data"
    }
   ],
   "source": [
    "plt.plot(losses)\n",
    "plt.show()"
   ]
  },
  {
   "cell_type": "code",
   "execution_count": 19,
   "metadata": {
    "scrolled": true
   },
   "outputs": [
    {
     "data": {
      "image/png": "[encoded data removed]",
      "text/plain": [
       "<Figure size 432x288 with 1 Axes>"
      ]
     },
     "metadata": {
      "needs_background": "light"
     },
     "output_type": "display_data"
    }
   ],
   "source": [
    "plt.scatter(X_test[:, 0], y_test, label=\"true\")\n",
    "plt.scatter(X_test[:, 0], predictions, label=\"pred\")\n",
    "plt.legend()\n",
    "plt.show()"
   ]
  },
  {
   "cell_type": "code",
   "execution_count": null,
   "metadata": {},
   "outputs": [],
   "source": []
  },
  {
   "cell_type": "code",
   "execution_count": null,
   "metadata": {},
   "outputs": [],
   "source": []
  },
  {
   "cell_type": "code",
   "execution_count": null,
   "metadata": {},
   "outputs": [],
   "source": []
  },
  {
   "cell_type": "code",
   "execution_count": null,
   "metadata": {},
   "outputs": [],
   "source": []
  },
  {
   "cell_type": "markdown",
   "metadata": {},
   "source": [
    "# 프로젝트 2 : 날씨 좋은 월요일 오후 세 시, 자전거 타는 사람은 몇 명?"
   ]
  },
  {
   "cell_type": "markdown",
   "metadata": {},
   "source": [
    "---"
   ]
  },
  {
   "cell_type": "markdown",
   "metadata": {},
   "source": [
    "## Import"
   ]
  },
  {
   "cell_type": "code",
   "execution_count": 20,
   "metadata": {},
   "outputs": [],
   "source": [
    "from sklearn.model_selection import train_test_split\n",
    "from sklearn.linear_model import LinearRegression\n",
    "from sklearn.metrics import mean_squared_error\n",
    "\n",
    "import pandas as pd\n",
    "import numpy as np\n",
    "import matplotlib.pyplot as plt\n",
    "import seaborn as sns"
   ]
  },
  {
   "cell_type": "markdown",
   "metadata": {},
   "source": [
    "## Load data"
   ]
  },
  {
   "cell_type": "code",
   "execution_count": 21,
   "metadata": {},
   "outputs": [
    {
     "data": {
      "text/html": [
       "<div>\n",
       "<style scoped>\n",
       "    .dataframe tbody tr th:only-of-type {\n",
       "        vertical-align: middle;\n",
       "    }\n",
       "\n",
       "    .dataframe tbody tr th {\n",
       "        vertical-align: top;\n",
       "    }\n",
       "\n",
       "    .dataframe thead th {\n",
       "        text-align: right;\n",
       "    }\n",
       "</style>\n",
       "<table border=\"1\" class=\"dataframe\">\n",
       "  <thead>\n",
       "    <tr style=\"text-align: right;\">\n",
       "      <th></th>\n",
       "      <th>datetime</th>\n",
       "      <th>season</th>\n",
       "      <th>holiday</th>\n",
       "      <th>workingday</th>\n",
       "      <th>weather</th>\n",
       "      <th>temp</th>\n",
       "      <th>atemp</th>\n",
       "      <th>humidity</th>\n",
       "      <th>windspeed</th>\n",
       "      <th>casual</th>\n",
       "      <th>registered</th>\n",
       "      <th>count</th>\n",
       "    </tr>\n",
       "  </thead>\n",
       "  <tbody>\n",
       "    <tr>\n",
       "      <th>0</th>\n",
       "      <td>2011-01-01 00:00:00</td>\n",
       "      <td>1</td>\n",
       "      <td>0</td>\n",
       "      <td>0</td>\n",
       "      <td>1</td>\n",
       "      <td>9.84</td>\n",
       "      <td>14.395</td>\n",
       "      <td>81</td>\n",
       "      <td>0.0</td>\n",
       "      <td>3</td>\n",
       "      <td>13</td>\n",
       "      <td>16</td>\n",
       "    </tr>\n",
       "    <tr>\n",
       "      <th>1</th>\n",
       "      <td>2011-01-01 01:00:00</td>\n",
       "      <td>1</td>\n",
       "      <td>0</td>\n",
       "      <td>0</td>\n",
       "      <td>1</td>\n",
       "      <td>9.02</td>\n",
       "      <td>13.635</td>\n",
       "      <td>80</td>\n",
       "      <td>0.0</td>\n",
       "      <td>8</td>\n",
       "      <td>32</td>\n",
       "      <td>40</td>\n",
       "    </tr>\n",
       "    <tr>\n",
       "      <th>2</th>\n",
       "      <td>2011-01-01 02:00:00</td>\n",
       "      <td>1</td>\n",
       "      <td>0</td>\n",
       "      <td>0</td>\n",
       "      <td>1</td>\n",
       "      <td>9.02</td>\n",
       "      <td>13.635</td>\n",
       "      <td>80</td>\n",
       "      <td>0.0</td>\n",
       "      <td>5</td>\n",
       "      <td>27</td>\n",
       "      <td>32</td>\n",
       "    </tr>\n",
       "    <tr>\n",
       "      <th>3</th>\n",
       "      <td>2011-01-01 03:00:00</td>\n",
       "      <td>1</td>\n",
       "      <td>0</td>\n",
       "      <td>0</td>\n",
       "      <td>1</td>\n",
       "      <td>9.84</td>\n",
       "      <td>14.395</td>\n",
       "      <td>75</td>\n",
       "      <td>0.0</td>\n",
       "      <td>3</td>\n",
       "      <td>10</td>\n",
       "      <td>13</td>\n",
       "    </tr>\n",
       "    <tr>\n",
       "      <th>4</th>\n",
       "      <td>2011-01-01 04:00:00</td>\n",
       "      <td>1</td>\n",
       "      <td>0</td>\n",
       "      <td>0</td>\n",
       "      <td>1</td>\n",
       "      <td>9.84</td>\n",
       "      <td>14.395</td>\n",
       "      <td>75</td>\n",
       "      <td>0.0</td>\n",
       "      <td>0</td>\n",
       "      <td>1</td>\n",
       "      <td>1</td>\n",
       "    </tr>\n",
       "  </tbody>\n",
       "</table>\n",
       "</div>"
      ],
      "text/plain": [
       "              datetime  season  holiday  workingday  weather  temp   atemp  \\\n",
       "0  2011-01-01 00:00:00       1        0           0        1  9.84  14.395   \n",
       "1  2011-01-01 01:00:00       1        0           0        1  9.02  13.635   \n",
       "2  2011-01-01 02:00:00       1        0           0        1  9.02  13.635   \n",
       "3  2011-01-01 03:00:00       1        0           0        1  9.84  14.395   \n",
       "4  2011-01-01 04:00:00       1        0           0        1  9.84  14.395   \n",
       "\n",
       "   humidity  windspeed  casual  registered  count  \n",
       "0        81        0.0       3          13     16  \n",
       "1        80        0.0       8          32     40  \n",
       "2        80        0.0       5          27     32  \n",
       "3        75        0.0       3          10     13  \n",
       "4        75        0.0       0           1      1  "
      ]
     },
     "execution_count": 21,
     "metadata": {},
     "output_type": "execute_result"
    }
   ],
   "source": [
    "train = pd.read_csv(\"~/aiffel/Project/EXPLORATION/E5/train.csv\")\n",
    "train.head()"
   ]
  },
  {
   "cell_type": "markdown",
   "metadata": {},
   "source": [
    "## Create column"
   ]
  },
  {
   "cell_type": "code",
   "execution_count": 22,
   "metadata": {},
   "outputs": [],
   "source": [
    "train['datetime'] = pd.to_datetime(train['datetime'], format='%Y-%m-%d %H:%M:%S')"
   ]
  },
  {
   "cell_type": "code",
   "execution_count": 23,
   "metadata": {},
   "outputs": [],
   "source": [
    "train['year'] = pd.DatetimeIndex(train['datetime']).year\n",
    "train['month'] = pd.DatetimeIndex(train['datetime']).month\n",
    "train['day'] = pd.DatetimeIndex(train['datetime']).day\n",
    "train['hour'] = pd.DatetimeIndex(train['datetime']).hour\n",
    "train['minute'] = pd.DatetimeIndex(train['datetime']).minute\n",
    "train['second'] = pd.DatetimeIndex(train['datetime']).second"
   ]
  },
  {
   "cell_type": "code",
   "execution_count": 24,
   "metadata": {},
   "outputs": [
    {
     "data": {
      "text/html": [
       "<div>\n",
       "<style scoped>\n",
       "    .dataframe tbody tr th:only-of-type {\n",
       "        vertical-align: middle;\n",
       "    }\n",
       "\n",
       "    .dataframe tbody tr th {\n",
       "        vertical-align: top;\n",
       "    }\n",
       "\n",
       "    .dataframe thead th {\n",
       "        text-align: right;\n",
       "    }\n",
       "</style>\n",
       "<table border=\"1\" class=\"dataframe\">\n",
       "  <thead>\n",
       "    <tr style=\"text-align: right;\">\n",
       "      <th></th>\n",
       "      <th>datetime</th>\n",
       "      <th>season</th>\n",
       "      <th>holiday</th>\n",
       "      <th>workingday</th>\n",
       "      <th>weather</th>\n",
       "      <th>temp</th>\n",
       "      <th>atemp</th>\n",
       "      <th>humidity</th>\n",
       "      <th>windspeed</th>\n",
       "      <th>casual</th>\n",
       "      <th>registered</th>\n",
       "      <th>count</th>\n",
       "      <th>year</th>\n",
       "      <th>month</th>\n",
       "      <th>day</th>\n",
       "      <th>hour</th>\n",
       "      <th>minute</th>\n",
       "      <th>second</th>\n",
       "    </tr>\n",
       "  </thead>\n",
       "  <tbody>\n",
       "    <tr>\n",
       "      <th>0</th>\n",
       "      <td>2011-01-01 00:00:00</td>\n",
       "      <td>1</td>\n",
       "      <td>0</td>\n",
       "      <td>0</td>\n",
       "      <td>1</td>\n",
       "      <td>9.84</td>\n",
       "      <td>14.395</td>\n",
       "      <td>81</td>\n",
       "      <td>0.0</td>\n",
       "      <td>3</td>\n",
       "      <td>13</td>\n",
       "      <td>16</td>\n",
       "      <td>2011</td>\n",
       "      <td>1</td>\n",
       "      <td>1</td>\n",
       "      <td>0</td>\n",
       "      <td>0</td>\n",
       "      <td>0</td>\n",
       "    </tr>\n",
       "    <tr>\n",
       "      <th>1</th>\n",
       "      <td>2011-01-01 01:00:00</td>\n",
       "      <td>1</td>\n",
       "      <td>0</td>\n",
       "      <td>0</td>\n",
       "      <td>1</td>\n",
       "      <td>9.02</td>\n",
       "      <td>13.635</td>\n",
       "      <td>80</td>\n",
       "      <td>0.0</td>\n",
       "      <td>8</td>\n",
       "      <td>32</td>\n",
       "      <td>40</td>\n",
       "      <td>2011</td>\n",
       "      <td>1</td>\n",
       "      <td>1</td>\n",
       "      <td>1</td>\n",
       "      <td>0</td>\n",
       "      <td>0</td>\n",
       "    </tr>\n",
       "    <tr>\n",
       "      <th>2</th>\n",
       "      <td>2011-01-01 02:00:00</td>\n",
       "      <td>1</td>\n",
       "      <td>0</td>\n",
       "      <td>0</td>\n",
       "      <td>1</td>\n",
       "      <td>9.02</td>\n",
       "      <td>13.635</td>\n",
       "      <td>80</td>\n",
       "      <td>0.0</td>\n",
       "      <td>5</td>\n",
       "      <td>27</td>\n",
       "      <td>32</td>\n",
       "      <td>2011</td>\n",
       "      <td>1</td>\n",
       "      <td>1</td>\n",
       "      <td>2</td>\n",
       "      <td>0</td>\n",
       "      <td>0</td>\n",
       "    </tr>\n",
       "    <tr>\n",
       "      <th>3</th>\n",
       "      <td>2011-01-01 03:00:00</td>\n",
       "      <td>1</td>\n",
       "      <td>0</td>\n",
       "      <td>0</td>\n",
       "      <td>1</td>\n",
       "      <td>9.84</td>\n",
       "      <td>14.395</td>\n",
       "      <td>75</td>\n",
       "      <td>0.0</td>\n",
       "      <td>3</td>\n",
       "      <td>10</td>\n",
       "      <td>13</td>\n",
       "      <td>2011</td>\n",
       "      <td>1</td>\n",
       "      <td>1</td>\n",
       "      <td>3</td>\n",
       "      <td>0</td>\n",
       "      <td>0</td>\n",
       "    </tr>\n",
       "    <tr>\n",
       "      <th>4</th>\n",
       "      <td>2011-01-01 04:00:00</td>\n",
       "      <td>1</td>\n",
       "      <td>0</td>\n",
       "      <td>0</td>\n",
       "      <td>1</td>\n",
       "      <td>9.84</td>\n",
       "      <td>14.395</td>\n",
       "      <td>75</td>\n",
       "      <td>0.0</td>\n",
       "      <td>0</td>\n",
       "      <td>1</td>\n",
       "      <td>1</td>\n",
       "      <td>2011</td>\n",
       "      <td>1</td>\n",
       "      <td>1</td>\n",
       "      <td>4</td>\n",
       "      <td>0</td>\n",
       "      <td>0</td>\n",
       "    </tr>\n",
       "  </tbody>\n",
       "</table>\n",
       "</div>"
      ],
      "text/plain": [
       "             datetime  season  holiday  workingday  weather  temp   atemp  \\\n",
       "0 2011-01-01 00:00:00       1        0           0        1  9.84  14.395   \n",
       "1 2011-01-01 01:00:00       1        0           0        1  9.02  13.635   \n",
       "2 2011-01-01 02:00:00       1        0           0        1  9.02  13.635   \n",
       "3 2011-01-01 03:00:00       1        0           0        1  9.84  14.395   \n",
       "4 2011-01-01 04:00:00       1        0           0        1  9.84  14.395   \n",
       "\n",
       "   humidity  windspeed  casual  registered  count  year  month  day  hour  \\\n",
       "0        81        0.0       3          13     16  2011      1    1     0   \n",
       "1        80        0.0       8          32     40  2011      1    1     1   \n",
       "2        80        0.0       5          27     32  2011      1    1     2   \n",
       "3        75        0.0       3          10     13  2011      1    1     3   \n",
       "4        75        0.0       0           1      1  2011      1    1     4   \n",
       "\n",
       "   minute  second  \n",
       "0       0       0  \n",
       "1       0       0  \n",
       "2       0       0  \n",
       "3       0       0  \n",
       "4       0       0  "
      ]
     },
     "execution_count": 24,
     "metadata": {},
     "output_type": "execute_result"
    }
   ],
   "source": [
    "train.head()"
   ]
  },
  {
   "cell_type": "markdown",
   "metadata": {},
   "source": [
    "## Visualization"
   ]
  },
  {
   "cell_type": "code",
   "execution_count": 25,
   "metadata": {},
   "outputs": [
    {
     "data": {
      "image/png": "[encoded data removed]",
      "text/plain": [
       "<Figure size 1440x720 with 6 Axes>"
      ]
     },
     "metadata": {
      "needs_background": "light"
     },
     "output_type": "display_data"
    }
   ],
   "source": [
    "plt.figure(figsize=(20,10))\n",
    "plt.subplot(2,3,1)\n",
    "sns.countplot(x='year', data=train)\n",
    "\n",
    "plt.subplot(2,3,2)\n",
    "sns.countplot(x='month', data=train)\n",
    "\n",
    "plt.subplot(2,3,3)\n",
    "sns.countplot(x='day', data=train)\n",
    "\n",
    "plt.subplot(2,3,4)\n",
    "sns.countplot(x='hour', data=train)\n",
    "\n",
    "plt.subplot(2,3,5)\n",
    "sns.countplot(x='minute', data=train)\n",
    "\n",
    "plt.subplot(2,3,6)\n",
    "sns.countplot(x='second', data=train)\n",
    "\n",
    "plt.show()"
   ]
  },
  {
   "cell_type": "markdown",
   "metadata": {},
   "source": [
    "## Train Test split"
   ]
  },
  {
   "cell_type": "code",
   "execution_count": 26,
   "metadata": {},
   "outputs": [],
   "source": [
    "X = train[['season', 'workingday', 'weather', 'temp', 'atemp', 'humidity', 'windspeed', 'year', 'month', 'day', 'hour',]].values\n",
    "y = train[['count']].values"
   ]
  },
  {
   "cell_type": "code",
   "execution_count": 27,
   "metadata": {},
   "outputs": [],
   "source": [
    "X_train, X_test, y_train, y_test = train_test_split(X, y, test_size=0.2, random_state=2)"
   ]
  },
  {
   "cell_type": "markdown",
   "metadata": {},
   "source": [
    "## Train"
   ]
  },
  {
   "cell_type": "code",
   "execution_count": 28,
   "metadata": {},
   "outputs": [],
   "source": [
    "model = LinearRegression()"
   ]
  },
  {
   "cell_type": "code",
   "execution_count": 29,
   "metadata": {},
   "outputs": [
    {
     "data": {
      "text/plain": [
       "LinearRegression()"
      ]
     },
     "execution_count": 29,
     "metadata": {},
     "output_type": "execute_result"
    }
   ],
   "source": [
    "model.fit(X_train, y_train)"
   ]
  },
  {
   "cell_type": "markdown",
   "metadata": {},
   "source": [
    "## Prediction"
   ]
  },
  {
   "cell_type": "code",
   "execution_count": 30,
   "metadata": {},
   "outputs": [
    {
     "data": {
      "text/plain": [
       "array([[-33.96697339],\n",
       "       [ 59.23679918],\n",
       "       [112.62548605],\n",
       "       ...,\n",
       "       [195.79183719],\n",
       "       [197.74006566],\n",
       "       [294.24680107]])"
      ]
     },
     "execution_count": 30,
     "metadata": {},
     "output_type": "execute_result"
    }
   ],
   "source": [
    "predictions = model.predict(X_test)\n",
    "predictions"
   ]
  },
  {
   "cell_type": "code",
   "execution_count": 31,
   "metadata": {},
   "outputs": [
    {
     "data": {
      "text/plain": [
       "140.47528542723452"
      ]
     },
     "execution_count": 31,
     "metadata": {},
     "output_type": "execute_result"
    }
   ],
   "source": [
    "rmse = mean_squared_error(y_test, predictions, squared = False)\n",
    "rmse"
   ]
  },
  {
   "cell_type": "markdown",
   "metadata": {},
   "source": [
    "## Visualization"
   ]
  },
  {
   "cell_type": "code",
   "execution_count": 32,
   "metadata": {},
   "outputs": [],
   "source": [
    "col = ['season', 'workingday', 'weather', 'temp', 'atemp', 'humidity', 'windspeed', 'year', 'month', 'day', 'hour']\n",
    "X_test_df = pd.DataFrame(X_test, columns=col)\n",
    "X_test_df['predictions'] = predictions\n",
    "X_test_df['y_test'] = y_test"
   ]
  },
  {
   "cell_type": "code",
   "execution_count": 33,
   "metadata": {},
   "outputs": [
    {
     "data": {
      "text/html": [
       "<div>\n",
       "<style scoped>\n",
       "    .dataframe tbody tr th:only-of-type {\n",
       "        vertical-align: middle;\n",
       "    }\n",
       "\n",
       "    .dataframe tbody tr th {\n",
       "        vertical-align: top;\n",
       "    }\n",
       "\n",
       "    .dataframe thead th {\n",
       "        text-align: right;\n",
       "    }\n",
       "</style>\n",
       "<table border=\"1\" class=\"dataframe\">\n",
       "  <thead>\n",
       "    <tr style=\"text-align: right;\">\n",
       "      <th></th>\n",
       "      <th>season</th>\n",
       "      <th>workingday</th>\n",
       "      <th>weather</th>\n",
       "      <th>temp</th>\n",
       "      <th>atemp</th>\n",
       "      <th>humidity</th>\n",
       "      <th>windspeed</th>\n",
       "      <th>year</th>\n",
       "      <th>month</th>\n",
       "      <th>day</th>\n",
       "      <th>hour</th>\n",
       "      <th>predictions</th>\n",
       "      <th>y_test</th>\n",
       "    </tr>\n",
       "  </thead>\n",
       "  <tbody>\n",
       "    <tr>\n",
       "      <th>0</th>\n",
       "      <td>1.0</td>\n",
       "      <td>1.0</td>\n",
       "      <td>2.0</td>\n",
       "      <td>6.56</td>\n",
       "      <td>9.090</td>\n",
       "      <td>80.0</td>\n",
       "      <td>8.9981</td>\n",
       "      <td>2011.0</td>\n",
       "      <td>2.0</td>\n",
       "      <td>4.0</td>\n",
       "      <td>9.0</td>\n",
       "      <td>-33.966973</td>\n",
       "      <td>127</td>\n",
       "    </tr>\n",
       "    <tr>\n",
       "      <th>1</th>\n",
       "      <td>2.0</td>\n",
       "      <td>1.0</td>\n",
       "      <td>2.0</td>\n",
       "      <td>14.76</td>\n",
       "      <td>16.665</td>\n",
       "      <td>71.0</td>\n",
       "      <td>19.0012</td>\n",
       "      <td>2011.0</td>\n",
       "      <td>4.0</td>\n",
       "      <td>8.0</td>\n",
       "      <td>10.0</td>\n",
       "      <td>59.236799</td>\n",
       "      <td>73</td>\n",
       "    </tr>\n",
       "    <tr>\n",
       "      <th>2</th>\n",
       "      <td>3.0</td>\n",
       "      <td>1.0</td>\n",
       "      <td>3.0</td>\n",
       "      <td>24.60</td>\n",
       "      <td>27.275</td>\n",
       "      <td>88.0</td>\n",
       "      <td>8.9981</td>\n",
       "      <td>2011.0</td>\n",
       "      <td>9.0</td>\n",
       "      <td>7.0</td>\n",
       "      <td>9.0</td>\n",
       "      <td>112.625486</td>\n",
       "      <td>190</td>\n",
       "    </tr>\n",
       "    <tr>\n",
       "      <th>3</th>\n",
       "      <td>2.0</td>\n",
       "      <td>1.0</td>\n",
       "      <td>1.0</td>\n",
       "      <td>16.40</td>\n",
       "      <td>20.455</td>\n",
       "      <td>56.0</td>\n",
       "      <td>23.9994</td>\n",
       "      <td>2011.0</td>\n",
       "      <td>4.0</td>\n",
       "      <td>4.0</td>\n",
       "      <td>1.0</td>\n",
       "      <td>44.829705</td>\n",
       "      <td>11</td>\n",
       "    </tr>\n",
       "    <tr>\n",
       "      <th>4</th>\n",
       "      <td>4.0</td>\n",
       "      <td>1.0</td>\n",
       "      <td>2.0</td>\n",
       "      <td>22.14</td>\n",
       "      <td>25.760</td>\n",
       "      <td>49.0</td>\n",
       "      <td>8.9981</td>\n",
       "      <td>2012.0</td>\n",
       "      <td>10.0</td>\n",
       "      <td>17.0</td>\n",
       "      <td>13.0</td>\n",
       "      <td>303.039383</td>\n",
       "      <td>310</td>\n",
       "    </tr>\n",
       "    <tr>\n",
       "      <th>...</th>\n",
       "      <td>...</td>\n",
       "      <td>...</td>\n",
       "      <td>...</td>\n",
       "      <td>...</td>\n",
       "      <td>...</td>\n",
       "      <td>...</td>\n",
       "      <td>...</td>\n",
       "      <td>...</td>\n",
       "      <td>...</td>\n",
       "      <td>...</td>\n",
       "      <td>...</td>\n",
       "      <td>...</td>\n",
       "      <td>...</td>\n",
       "    </tr>\n",
       "    <tr>\n",
       "      <th>2173</th>\n",
       "      <td>1.0</td>\n",
       "      <td>1.0</td>\n",
       "      <td>1.0</td>\n",
       "      <td>12.30</td>\n",
       "      <td>13.635</td>\n",
       "      <td>61.0</td>\n",
       "      <td>19.9995</td>\n",
       "      <td>2012.0</td>\n",
       "      <td>3.0</td>\n",
       "      <td>7.0</td>\n",
       "      <td>1.0</td>\n",
       "      <td>76.753725</td>\n",
       "      <td>5</td>\n",
       "    </tr>\n",
       "    <tr>\n",
       "      <th>2174</th>\n",
       "      <td>1.0</td>\n",
       "      <td>1.0</td>\n",
       "      <td>1.0</td>\n",
       "      <td>28.70</td>\n",
       "      <td>31.820</td>\n",
       "      <td>39.0</td>\n",
       "      <td>16.9979</td>\n",
       "      <td>2012.0</td>\n",
       "      <td>3.0</td>\n",
       "      <td>15.0</td>\n",
       "      <td>17.0</td>\n",
       "      <td>356.228964</td>\n",
       "      <td>713</td>\n",
       "    </tr>\n",
       "    <tr>\n",
       "      <th>2175</th>\n",
       "      <td>2.0</td>\n",
       "      <td>1.0</td>\n",
       "      <td>1.0</td>\n",
       "      <td>18.86</td>\n",
       "      <td>22.725</td>\n",
       "      <td>72.0</td>\n",
       "      <td>15.0013</td>\n",
       "      <td>2011.0</td>\n",
       "      <td>5.0</td>\n",
       "      <td>6.0</td>\n",
       "      <td>22.0</td>\n",
       "      <td>195.791837</td>\n",
       "      <td>151</td>\n",
       "    </tr>\n",
       "    <tr>\n",
       "      <th>2176</th>\n",
       "      <td>1.0</td>\n",
       "      <td>1.0</td>\n",
       "      <td>1.0</td>\n",
       "      <td>12.30</td>\n",
       "      <td>13.635</td>\n",
       "      <td>42.0</td>\n",
       "      <td>31.0009</td>\n",
       "      <td>2012.0</td>\n",
       "      <td>1.0</td>\n",
       "      <td>18.0</td>\n",
       "      <td>13.0</td>\n",
       "      <td>197.740066</td>\n",
       "      <td>130</td>\n",
       "    </tr>\n",
       "    <tr>\n",
       "      <th>2177</th>\n",
       "      <td>3.0</td>\n",
       "      <td>1.0</td>\n",
       "      <td>1.0</td>\n",
       "      <td>26.24</td>\n",
       "      <td>30.305</td>\n",
       "      <td>65.0</td>\n",
       "      <td>16.9979</td>\n",
       "      <td>2011.0</td>\n",
       "      <td>9.0</td>\n",
       "      <td>1.0</td>\n",
       "      <td>23.0</td>\n",
       "      <td>294.246801</td>\n",
       "      <td>126</td>\n",
       "    </tr>\n",
       "  </tbody>\n",
       "</table>\n",
       "<p>2178 rows × 13 columns</p>\n",
       "</div>"
      ],
      "text/plain": [
       "      season  workingday  weather   temp   atemp  humidity  windspeed    year  \\\n",
       "0        1.0         1.0      2.0   6.56   9.090      80.0     8.9981  2011.0   \n",
       "1        2.0         1.0      2.0  14.76  16.665      71.0    19.0012  2011.0   \n",
       "2        3.0         1.0      3.0  24.60  27.275      88.0     8.9981  2011.0   \n",
       "3        2.0         1.0      1.0  16.40  20.455      56.0    23.9994  2011.0   \n",
       "4        4.0         1.0      2.0  22.14  25.760      49.0     8.9981  2012.0   \n",
       "...      ...         ...      ...    ...     ...       ...        ...     ...   \n",
       "2173     1.0         1.0      1.0  12.30  13.635      61.0    19.9995  2012.0   \n",
       "2174     1.0         1.0      1.0  28.70  31.820      39.0    16.9979  2012.0   \n",
       "2175     2.0         1.0      1.0  18.86  22.725      72.0    15.0013  2011.0   \n",
       "2176     1.0         1.0      1.0  12.30  13.635      42.0    31.0009  2012.0   \n",
       "2177     3.0         1.0      1.0  26.24  30.305      65.0    16.9979  2011.0   \n",
       "\n",
       "      month   day  hour  predictions  y_test  \n",
       "0       2.0   4.0   9.0   -33.966973     127  \n",
       "1       4.0   8.0  10.0    59.236799      73  \n",
       "2       9.0   7.0   9.0   112.625486     190  \n",
       "3       4.0   4.0   1.0    44.829705      11  \n",
       "4      10.0  17.0  13.0   303.039383     310  \n",
       "...     ...   ...   ...          ...     ...  \n",
       "2173    3.0   7.0   1.0    76.753725       5  \n",
       "2174    3.0  15.0  17.0   356.228964     713  \n",
       "2175    5.0   6.0  22.0   195.791837     151  \n",
       "2176    1.0  18.0  13.0   197.740066     130  \n",
       "2177    9.0   1.0  23.0   294.246801     126  \n",
       "\n",
       "[2178 rows x 13 columns]"
      ]
     },
     "execution_count": 33,
     "metadata": {},
     "output_type": "execute_result"
    }
   ],
   "source": [
    "X_test_df"
   ]
  },
  {
   "cell_type": "code",
   "execution_count": 34,
   "metadata": {},
   "outputs": [
    {
     "data": {
      "image/png": "[encoded data removed]",
      "text/plain": [
       "<Figure size 1440x720 with 4 Axes>"
      ]
     },
     "metadata": {
      "needs_background": "light"
     },
     "output_type": "display_data"
    }
   ],
   "source": [
    "plt.figure(figsize=(20,10))\n",
    "plt.subplot(2,2,1)\n",
    "sns.lineplot(x=X_test_df['temp'], y=X_test_df['predictions'])\n",
    "\n",
    "plt.subplot(2,2,2)\n",
    "sns.lineplot(x=X_test_df['temp'], y=X_test_df['y_test'])\n",
    "\n",
    "plt.subplot(2,2,3)\n",
    "sns.lineplot(x=X_test_df['humidity'], y=X_test_df['predictions'])\n",
    "\n",
    "plt.subplot(2,2,4)\n",
    "sns.lineplot(x=X_test_df['humidity'], y=X_test_df['y_test'])\n",
    "\n",
    "plt.show()"
   ]
  }
 ],
 "metadata": {
  "kernelspec": {
   "display_name": "aiffel",
   "language": "python",
   "name": "aiffel"
  },
  "language_info": {
   "codemirror_mode": {
    "name": "ipython",
    "version": 3
   },
   "file_extension": ".py",
   "mimetype": "text/x-python",
   "name": "python",
   "nbconvert_exporter": "python",
   "pygments_lexer": "ipython3",
   "version": "3.7.6"
  },
  "toc": {
   "base_numbering": 1,
   "nav_menu": {},
   "number_sections": true,
   "sideBar": true,
   "skip_h1_title": false,
   "title_cell": "Table of Contents",
   "title_sidebar": "Contents",
   "toc_cell": false,
   "toc_position": {
    "height": "758px",
    "left": "1123.2px",
    "top": "54px",
    "width": "280.797px"
   },
   "toc_section_display": true,
   "toc_window_display": true
  }
 },
 "nbformat": 4,
 "nbformat_minor": 4
}
