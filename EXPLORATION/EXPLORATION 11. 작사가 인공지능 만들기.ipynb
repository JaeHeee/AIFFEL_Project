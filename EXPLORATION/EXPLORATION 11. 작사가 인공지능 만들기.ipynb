{
 "cells": [
  {
   "cell_type": "markdown",
   "metadata": {},
   "source": [
    "# EXPLORATION 11. 작사가 인공지능 만들기"
   ]
  },
  {
   "cell_type": "markdown",
   "metadata": {},
   "source": [
    "---"
   ]
  },
  {
   "cell_type": "markdown",
   "metadata": {},
   "source": [
    "## Import"
   ]
  },
  {
   "cell_type": "code",
   "execution_count": 1,
   "metadata": {},
   "outputs": [],
   "source": [
    "import os\n",
    "import glob\n",
    "import re\n",
    "import matplotlib.pyplot as plt\n",
    "import numpy as np\n",
    "\n",
    "import tensorflow as tf\n",
    "from sklearn.model_selection import train_test_split"
   ]
  },
  {
   "cell_type": "markdown",
   "metadata": {},
   "source": [
    "## utils"
   ]
  },
  {
   "cell_type": "code",
   "execution_count": 2,
   "metadata": {},
   "outputs": [],
   "source": [
    "def preprocess_sentence(sentence):\n",
    "    sentence = sentence.lower().strip()       # 소문자로 바꾸고 양쪽 공백을 삭제\n",
    "  \n",
    "    # 아래 3단계를 거쳐 sentence는 스페이스 1개를 delimeter로 하는 소문자 단어 시퀀스로 바뀝니다.\n",
    "    sentence = re.sub(r\"([?.!,¿])\", r\" \\1 \", sentence)        # 패턴의 특수문자를 만나면 특수문자 양쪽에 공백을 추가\n",
    "    sentence = re.sub(r'[\" \"]+', \" \", sentence)                  # 공백 패턴을 만나면 스페이스 1개로 치환\n",
    "    sentence = re.sub(r\"[^a-zA-Z?.!,¿]+\", \" \", sentence)  # a-zA-Z?.!,¿ 패턴을 제외한 모든 문자(공백문자까지도)를 스페이스 1개로 치환\n",
    "\n",
    "    sentence = sentence.strip()\n",
    "\n",
    "    sentence = '<start> ' + sentence + ' <end>'      # 이전 스텝에서 본 것처럼 문장 앞뒤로 <start>와 <end>를 단어처럼 붙여 줍니다\n",
    "    \n",
    "    return sentence"
   ]
  },
  {
   "cell_type": "code",
   "execution_count": 3,
   "metadata": {},
   "outputs": [],
   "source": [
    "def tokenize(corpus):\n",
    "    # 텐서플로우에서 제공하는 Tokenizer 패키지를 생성\n",
    "    tokenizer = tf.keras.preprocessing.text.Tokenizer(\n",
    "        num_words=7000,  # 전체 단어의 개수 \n",
    "        filters=' ',    # 별도로 전처리 로직을 추가할 수 있습니다. 이번에는 사용하지 않겠습니다.\n",
    "        oov_token=\"<unk>\"  # out-of-vocabulary, 사전에 없었던 단어는 어떤 토큰으로 대체할지\n",
    "    )\n",
    "    tokenizer.fit_on_texts(corpus)   # 우리가 구축한 corpus로부터 Tokenizer가 사전을 자동구축하게 됩니다.\n",
    "\n",
    "    # 이후 tokenizer를 활용하여 모델에 입력할 데이터셋을 구축하게 됩니다.\n",
    "    tensor = tokenizer.texts_to_sequences(corpus)   # tokenizer는 구축한 사전으로부터 corpus를 해석해 Tensor로 변환합니다.\n",
    "\n",
    "    # 입력 데이터의 시퀀스 길이를 일정하게 맞추기 위한 padding  메소드를 제공합니다.\n",
    "    # maxlen의 디폴트값은 None입니다. 이 경우 corpus의 가장 긴 문장을 기준으로 시퀀스 길이가 맞춰집니다.\n",
    "    tensor = tf.keras.preprocessing.sequence.pad_sequences(tensor, padding='post', maxlen=15)  \n",
    "\n",
    "    print(tensor,tokenizer)\n",
    "    return tensor, tokenizer"
   ]
  },
  {
   "cell_type": "code",
   "execution_count": 4,
   "metadata": {},
   "outputs": [],
   "source": [
    "def plot_curve(epochs, hist, list_of_metrics):\n",
    "    \n",
    "    fig, ax = plt.subplots(1,2,figsize = (12, 8))\n",
    "    \n",
    "    for i in range(len(ax)):\n",
    "        ax[i].set_xlabel('Epochs')\n",
    "        ax[i].set_ylabel('Value')\n",
    "        \n",
    "        for n in range(len(list_of_metrics)):\n",
    "            if i == 0:\n",
    "                y = hist[list_of_metrics[n]]\n",
    "                if n == 0:\n",
    "                    ax[i].plot(epochs, y, label=\"train\")\n",
    "                else:\n",
    "                    ax[i].plot(epochs, y, label=\"val\")\n",
    "                ax[i].set_title('Loss')\n",
    "                ax[i].legend(loc='upper right')\n",
    "                if n == 1:\n",
    "                    break\n",
    "            else:\n",
    "                if n >= 2:\n",
    "                    y = hist[list_of_metrics[n]]\n",
    "                    if n == 2:\n",
    "                        ax[i].plot(epochs, y, label=\"train\")\n",
    "                    else:\n",
    "                        ax[i].plot(epochs, y, label=\"val\")\n",
    "                    ax[i].set_title('Accuracy')\n",
    "                    ax[i].legend(loc='lower right')\n",
    "                    \n",
    "    plt.show()"
   ]
  },
  {
   "cell_type": "code",
   "execution_count": 5,
   "metadata": {},
   "outputs": [],
   "source": [
    "def generate_text(model, tokenizer, init_sentence=\"<start>\", max_len=20):\n",
    "    # 테스트를 위해서 입력받은 init_sentence도 일단 텐서로 변환합니다.\n",
    "    test_input = tokenizer.texts_to_sequences([init_sentence])\n",
    "    test_tensor = tf.convert_to_tensor(test_input, dtype=tf.int64)\n",
    "    end_token = tokenizer.word_index[\"<end>\"]\n",
    "\n",
    "    # 텍스트를 실제로 생성할때는 루프를 돌면서 단어 하나씩 생성해야 합니다. \n",
    "    while True:\n",
    "        predict = model(test_tensor)  # 입력받은 문장의 텐서를 입력합니다. \n",
    "        predict_word = tf.argmax(tf.nn.softmax(predict, axis=-1), axis=-1)[:, -1]   # 우리 모델이 예측한 마지막 단어가 바로 새롭게 생성한 단어가 됩니다. \n",
    "\n",
    "        # 우리 모델이 새롭게 예측한 단어를 입력 문장의 뒤에 붙여 줍니다. \n",
    "        test_tensor = tf.concat([test_tensor, \n",
    "        tf.expand_dims(predict_word, axis=0)], axis=-1)\n",
    "\n",
    "        # 우리 모델이 <END>를 예측했거나, max_len에 도달하지 않았다면  while 루프를 또 돌면서 다음 단어를 예측해야 합니다.\n",
    "        if predict_word.numpy()[0] == end_token: break\n",
    "        if test_tensor.shape[1] >= max_len: break\n",
    "\n",
    "    generated = \"\"\n",
    "    # 생성된 tensor 안에 있는 word index를 tokenizer.index_word 사전을 통해 실제 단어로 하나씩 변환합니다. \n",
    "    for word_index in test_tensor[0].numpy():\n",
    "        generated += tokenizer.index_word[word_index] + \" \"\n",
    "\n",
    "    return generated   # 이것이 최종적으로 모델이 생성한 자연어 문장입니다."
   ]
  },
  {
   "cell_type": "markdown",
   "metadata": {},
   "source": [
    "## Dataset"
   ]
  },
  {
   "cell_type": "code",
   "execution_count": 6,
   "metadata": {},
   "outputs": [
    {
     "name": "stdout",
     "output_type": "stream",
     "text": [
      "데이터 크기: 187088\n",
      "Examples:\n",
      " ['Hey, Vietnam, Vietnam, Vietnam, Vietnam', 'Vietnam, Vietnam, Vietnam Yesterday I got a letter from my friend', 'Fighting in Vietnam']\n"
     ]
    }
   ],
   "source": [
    "txt_file_path = os.getenv('HOME')+'/aiffel//lyricist/data/lyrics/*'\n",
    "\n",
    "txt_list = glob.glob(txt_file_path)\n",
    "\n",
    "raw_corpus = []\n",
    "\n",
    "# 여러개의 txt 파일을 모두 읽어서 raw_corpus 에 담습니다.\n",
    "for txt_file in txt_list:\n",
    "    with open(txt_file, \"r\") as f:\n",
    "        raw = f.read().splitlines()\n",
    "        raw_corpus.extend(raw)\n",
    "\n",
    "print(\"데이터 크기:\", len(raw_corpus))\n",
    "print(\"Examples:\\n\", raw_corpus[:3])"
   ]
  },
  {
   "cell_type": "markdown",
   "metadata": {},
   "source": [
    "## Data Preprocessing"
   ]
  },
  {
   "cell_type": "code",
   "execution_count": 7,
   "metadata": {},
   "outputs": [
    {
     "data": {
      "text/plain": [
       "['<start> hey , vietnam , vietnam , vietnam , vietnam <end>',\n",
       " '<start> vietnam , vietnam , vietnam yesterday i got a letter from my friend <end>',\n",
       " '<start> fighting in vietnam <end>',\n",
       " '<start> and this is what he had to say <end>',\n",
       " '<start> tell all my friends that i ll be coming home soon <end>',\n",
       " '<start> my time it ll be up some time in june <end>',\n",
       " '<start> don t forget , he said to tell my sweet mary <end>',\n",
       " '<start> her golden lips as sweet as cherries and it came from <end>',\n",
       " '<start> vietnam , vietnam , vietnam , vietnam <end>',\n",
       " '<start> vietnam , vietnam , vietnam it was just the next day his mother got a telegram <end>']"
      ]
     },
     "execution_count": 7,
     "metadata": {},
     "output_type": "execute_result"
    }
   ],
   "source": [
    "corpus = []\n",
    "\n",
    "for sentence in raw_corpus:\n",
    "    if len(sentence) == 0: continue\n",
    "    if sentence[-1] == \":\": continue\n",
    "        \n",
    "    corpus.append(preprocess_sentence(sentence))\n",
    "        \n",
    "corpus[:10]"
   ]
  },
  {
   "cell_type": "code",
   "execution_count": 8,
   "metadata": {},
   "outputs": [
    {
     "name": "stdout",
     "output_type": "stream",
     "text": [
      "[[   2  135    4 ...    0    0    0]\n",
      " [   2 1350    4 ...   13  308    3]\n",
      " [   2 1043   14 ...    0    0    0]\n",
      " ...\n",
      " [   2    5   61 ...    0    0    0]\n",
      " [   2  113  682 ...    0    0    0]\n",
      " [   2    8   50 ...    0    0    0]] <keras_preprocessing.text.Tokenizer object at 0x7f1714f8fa10>\n"
     ]
    }
   ],
   "source": [
    "tensor, tokenizer = tokenize(corpus)"
   ]
  },
  {
   "cell_type": "code",
   "execution_count": 9,
   "metadata": {},
   "outputs": [
    {
     "name": "stdout",
     "output_type": "stream",
     "text": [
      "[   2  135    4 1350    4 1350    4 1350    4 1350    3    0    0    0]\n",
      "[ 135    4 1350    4 1350    4 1350    4 1350    3    0    0    0    0]\n"
     ]
    }
   ],
   "source": [
    "src_input = tensor[:, :-1]  # tensor에서 마지막 토큰을 잘라내서 소스 문장을 생성합니다. 마지막 토큰은 <END>가 아니라 <pad>일 가능성이 높습니다.\n",
    "tgt_input = tensor[:, 1:]    # tensor에서 <START>를 잘라내서 타겟 문장을 생성합니다.\n",
    "\n",
    "print(src_input[0])\n",
    "print(tgt_input[0])"
   ]
  },
  {
   "cell_type": "code",
   "execution_count": 10,
   "metadata": {},
   "outputs": [],
   "source": [
    "enc_train, enc_val, dec_train, dec_val = train_test_split(src_input, tgt_input, test_size=0.2, random_state=2020)"
   ]
  },
  {
   "cell_type": "code",
   "execution_count": 11,
   "metadata": {},
   "outputs": [],
   "source": [
    "BUFFER_SIZE = len(src_input)\n",
    "BATCH_SIZE = 256\n",
    "steps_per_epoch = len(src_input) // BATCH_SIZE\n",
    "\n",
    "VOCAB_SIZE = tokenizer.num_words + 1    # tokenizer가 구축한 단어사전 내 7000개와, 여기 포함되지 않은 0:<pad>를 포함하여 7001개"
   ]
  },
  {
   "cell_type": "code",
   "execution_count": 12,
   "metadata": {},
   "outputs": [
    {
     "data": {
      "text/plain": [
       "<BatchDataset shapes: ((256, 14), (256, 14)), types: (tf.int32, tf.int32)>"
      ]
     },
     "execution_count": 12,
     "metadata": {},
     "output_type": "execute_result"
    }
   ],
   "source": [
    "dataset = tf.data.Dataset.from_tensor_slices((enc_train, dec_train)).shuffle(BUFFER_SIZE)\n",
    "dataset = dataset.batch(BATCH_SIZE, drop_remainder=True)\n",
    "dataset"
   ]
  },
  {
   "cell_type": "code",
   "execution_count": 13,
   "metadata": {},
   "outputs": [
    {
     "data": {
      "text/plain": [
       "<BatchDataset shapes: ((256, 14), (256, 14)), types: (tf.int32, tf.int32)>"
      ]
     },
     "execution_count": 13,
     "metadata": {},
     "output_type": "execute_result"
    }
   ],
   "source": [
    "val_dataset = tf.data.Dataset.from_tensor_slices((enc_val, dec_val)).shuffle(BUFFER_SIZE)\n",
    "val_dataset = val_dataset.batch(BATCH_SIZE, drop_remainder=True)\n",
    "val_dataset"
   ]
  },
  {
   "cell_type": "markdown",
   "metadata": {},
   "source": [
    "## Model"
   ]
  },
  {
   "cell_type": "code",
   "execution_count": 14,
   "metadata": {},
   "outputs": [],
   "source": [
    "class TextGenerator(tf.keras.Model):\n",
    "    def __init__(self, vocab_size, embedding_size, hidden_size):\n",
    "        super(TextGenerator, self).__init__()\n",
    "        \n",
    "        self.embedding = tf.keras.layers.Embedding(vocab_size, embedding_size)\n",
    "        self.rnn_1 = tf.keras.layers.LSTM(hidden_size, return_sequences=True)\n",
    "        self.drop1 = tf.keras.layers.Dropout(0.3)\n",
    "        self.rnn_2 = tf.keras.layers.LSTM(hidden_size, return_sequences=True)\n",
    "        self.linear = tf.keras.layers.Dense(vocab_size)\n",
    "        \n",
    "    def call(self, x):\n",
    "        out = self.embedding(x)\n",
    "        out = self.rnn_1(out)\n",
    "        out = self.drop1(out)\n",
    "        out = self.rnn_2(out)\n",
    "        out = self.linear(out)\n",
    "        \n",
    "        return out\n",
    "    \n",
    "embedding_size = 2048\n",
    "hidden_size = 2048\n",
    "model = TextGenerator(tokenizer.num_words + 1, embedding_size , hidden_size)"
   ]
  },
  {
   "cell_type": "code",
   "execution_count": 15,
   "metadata": {},
   "outputs": [
    {
     "data": {
      "text/plain": [
       "<tf.Tensor: shape=(256, 14, 7001), dtype=float32, numpy=\n",
       "array([[[ 1.3450939e-04,  1.9431842e-04,  6.5826345e-04, ...,\n",
       "          6.7252561e-04, -2.5257989e-04,  1.0152693e-03],\n",
       "        [-1.6151645e-04,  8.5445371e-04,  6.3464144e-04, ...,\n",
       "          1.1881832e-03, -2.7399493e-04,  1.5679382e-03],\n",
       "        [-3.9252752e-04,  6.3220767e-04,  8.5498398e-04, ...,\n",
       "          1.4483191e-03, -9.3175890e-04,  1.8981083e-03],\n",
       "        ...,\n",
       "        [ 3.9022549e-03,  1.5955748e-03,  1.8970459e-04, ...,\n",
       "          3.5897671e-04, -9.2148337e-05,  1.9062869e-03],\n",
       "        [ 4.0667811e-03,  1.3115890e-03, -2.7780482e-04, ...,\n",
       "          1.0592234e-04,  2.5221612e-04,  1.7512824e-03],\n",
       "        [ 3.4290787e-03,  7.4810215e-04, -7.5264013e-04, ...,\n",
       "         -5.5265392e-04,  1.1828416e-03,  2.2386902e-03]],\n",
       "\n",
       "       [[ 1.3450939e-04,  1.9431842e-04,  6.5826345e-04, ...,\n",
       "          6.7252561e-04, -2.5257989e-04,  1.0152693e-03],\n",
       "        [-6.8696530e-04, -7.1341189e-04,  1.0045312e-03, ...,\n",
       "          1.7465261e-03, -8.3888200e-04,  1.5486403e-03],\n",
       "        [-8.2833448e-04, -1.7398659e-03,  8.3019154e-04, ...,\n",
       "          1.7954031e-03, -1.2055320e-03,  2.1898146e-03],\n",
       "        ...,\n",
       "        [-1.2948883e-03, -3.9993445e-03, -1.2534321e-03, ...,\n",
       "         -2.7231500e-03,  5.6345146e-03,  4.2364146e-03],\n",
       "        [-1.7263282e-03, -4.4809030e-03, -1.3912532e-03, ...,\n",
       "         -3.9886227e-03,  6.5975836e-03,  5.7826969e-03],\n",
       "        [-2.0366788e-03, -4.9541630e-03, -1.4510246e-03, ...,\n",
       "         -5.2017937e-03,  7.3515037e-03,  7.3413234e-03]],\n",
       "\n",
       "       [[ 1.3450939e-04,  1.9431842e-04,  6.5826345e-04, ...,\n",
       "          6.7252561e-04, -2.5257989e-04,  1.0152693e-03],\n",
       "        [-1.6151645e-04,  8.5445371e-04,  6.3464144e-04, ...,\n",
       "          1.1881832e-03, -2.7399493e-04,  1.5679382e-03],\n",
       "        [ 6.6782944e-05,  2.3104174e-03,  5.4162613e-04, ...,\n",
       "          9.9611655e-04, -1.0417688e-03,  9.0497907e-04],\n",
       "        ...,\n",
       "        [-8.0262529e-05, -1.6905076e-04, -2.3874662e-04, ...,\n",
       "         -2.1839379e-03,  2.2557771e-03,  1.1943307e-03],\n",
       "        [-8.3167118e-04, -1.1789228e-03, -5.7587068e-04, ...,\n",
       "         -3.2669466e-03,  3.5289738e-03,  3.2040044e-03],\n",
       "        [-1.4508509e-03, -2.1531312e-03, -8.1860326e-04, ...,\n",
       "         -4.3523549e-03,  4.6602092e-03,  5.2094175e-03]],\n",
       "\n",
       "       ...,\n",
       "\n",
       "       [[ 1.3450939e-04,  1.9431842e-04,  6.5826345e-04, ...,\n",
       "          6.7252561e-04, -2.5257989e-04,  1.0152693e-03],\n",
       "        [ 3.7171389e-04, -1.7844359e-04,  3.4582618e-04, ...,\n",
       "          1.8330604e-03,  5.3297938e-04,  1.4624995e-03],\n",
       "        [ 4.6573003e-04, -6.9836696e-04,  1.0530804e-03, ...,\n",
       "          1.9795257e-03,  1.0253018e-04,  2.9105335e-03],\n",
       "        ...,\n",
       "        [ 1.2134666e-03, -3.3916526e-03, -1.7461932e-03, ...,\n",
       "         -2.0929223e-03,  4.2845905e-03,  3.4357670e-03],\n",
       "        [ 3.4030175e-04, -3.9708572e-03, -1.9584231e-03, ...,\n",
       "         -3.2081313e-03,  5.6069987e-03,  4.8073176e-03],\n",
       "        [-4.0537192e-04, -4.5428206e-03, -2.0644744e-03, ...,\n",
       "         -4.3288544e-03,  6.7030299e-03,  6.2830178e-03]],\n",
       "\n",
       "       [[ 1.3450939e-04,  1.9431842e-04,  6.5826345e-04, ...,\n",
       "          6.7252561e-04, -2.5257989e-04,  1.0152693e-03],\n",
       "        [-1.6151645e-04,  8.5445371e-04,  6.3464144e-04, ...,\n",
       "          1.1881832e-03, -2.7399493e-04,  1.5679382e-03],\n",
       "        [-4.1117321e-05,  9.1524969e-04,  4.5021577e-04, ...,\n",
       "          1.7758497e-03, -1.4138516e-04,  1.0144478e-03],\n",
       "        ...,\n",
       "        [-1.1542349e-03,  2.5190383e-03, -2.7552820e-03, ...,\n",
       "         -1.1187278e-03, -7.1458955e-04, -2.8003692e-03],\n",
       "        [ 1.0159365e-03,  2.3766442e-03, -2.6961949e-03, ...,\n",
       "         -1.2698271e-03, -1.3945791e-03, -4.2080944e-03],\n",
       "        [ 2.0043494e-03,  1.9516401e-03, -2.7839586e-03, ...,\n",
       "         -1.5520008e-03, -9.9816953e-04, -4.1264049e-03]],\n",
       "\n",
       "       [[ 1.3450939e-04,  1.9431842e-04,  6.5826345e-04, ...,\n",
       "          6.7252561e-04, -2.5257989e-04,  1.0152693e-03],\n",
       "        [ 2.2641444e-04, -9.2051101e-05,  7.1450032e-04, ...,\n",
       "          2.6143808e-04, -3.7541753e-04,  1.3495351e-03],\n",
       "        [-4.9780577e-04, -9.2131709e-04,  3.3080493e-04, ...,\n",
       "          4.2659434e-05, -4.4952723e-04,  1.5020686e-03],\n",
       "        ...,\n",
       "        [ 2.5158385e-03, -3.3051395e-03, -1.7769173e-03, ...,\n",
       "         -1.2499240e-03, -2.9406648e-03, -1.9939812e-03],\n",
       "        [ 2.4392256e-03, -3.5622136e-03, -2.1106920e-03, ...,\n",
       "         -1.8713351e-03, -1.6534531e-03, -1.3120663e-03],\n",
       "        [ 1.9852710e-03, -3.9218934e-03, -2.3530663e-03, ...,\n",
       "         -2.6956543e-03, -8.6609107e-05, -5.3011110e-05]]], dtype=float32)>"
      ]
     },
     "execution_count": 15,
     "metadata": {},
     "output_type": "execute_result"
    }
   ],
   "source": [
    "for src_sample, tgt_sample in dataset.take(1): break\n",
    "model(src_sample)"
   ]
  },
  {
   "cell_type": "code",
   "execution_count": 16,
   "metadata": {},
   "outputs": [
    {
     "name": "stdout",
     "output_type": "stream",
     "text": [
      "Model: \"text_generator\"\n",
      "_________________________________________________________________\n",
      "Layer (type)                 Output Shape              Param #   \n",
      "=================================================================\n",
      "embedding (Embedding)        multiple                  14338048  \n",
      "_________________________________________________________________\n",
      "lstm (LSTM)                  multiple                  33562624  \n",
      "_________________________________________________________________\n",
      "dropout (Dropout)            multiple                  0         \n",
      "_________________________________________________________________\n",
      "lstm_1 (LSTM)                multiple                  33562624  \n",
      "_________________________________________________________________\n",
      "dropout_1 (Dropout)          multiple                  0         \n",
      "_________________________________________________________________\n",
      "dense (Dense)                multiple                  14345049  \n",
      "=================================================================\n",
      "Total params: 95,808,345\n",
      "Trainable params: 95,808,345\n",
      "Non-trainable params: 0\n",
      "_________________________________________________________________\n"
     ]
    }
   ],
   "source": [
    "model.summary()"
   ]
  },
  {
   "cell_type": "markdown",
   "metadata": {},
   "source": [
    "## Train"
   ]
  },
  {
   "cell_type": "code",
   "execution_count": 17,
   "metadata": {},
   "outputs": [],
   "source": [
    "optimizer = tf.keras.optimizers.Adam(learning_rate=0.001)\n",
    "loss = tf.keras.losses.SparseCategoricalCrossentropy(\n",
    "    from_logits=True,\n",
    "    reduction='none'\n",
    ")\n",
    "\n",
    "model.compile(loss=loss, optimizer=optimizer, metrics=['accuracy'])"
   ]
  },
  {
   "cell_type": "code",
   "execution_count": 18,
   "metadata": {},
   "outputs": [
    {
     "name": "stdout",
     "output_type": "stream",
     "text": [
      "Epoch 1/7\n",
      "549/549 [==============================] - 288s 525ms/step - loss: 3.2488 - accuracy: 0.4806 - val_loss: 2.8874 - val_accuracy: 0.5103\n",
      "Epoch 2/7\n",
      "549/549 [==============================] - 289s 527ms/step - loss: 2.7417 - accuracy: 0.5219 - val_loss: 2.6394 - val_accuracy: 0.5355\n",
      "Epoch 3/7\n",
      "549/549 [==============================] - 289s 526ms/step - loss: 2.4669 - accuracy: 0.5491 - val_loss: 2.4792 - val_accuracy: 0.5569\n",
      "Epoch 4/7\n",
      "549/549 [==============================] - 289s 527ms/step - loss: 2.2227 - accuracy: 0.5777 - val_loss: 2.3597 - val_accuracy: 0.5769\n",
      "Epoch 5/7\n",
      "549/549 [==============================] - 289s 527ms/step - loss: 2.0015 - accuracy: 0.6075 - val_loss: 2.2731 - val_accuracy: 0.5948\n",
      "Epoch 6/7\n",
      "549/549 [==============================] - 290s 528ms/step - loss: 1.8090 - accuracy: 0.6369 - val_loss: 2.2132 - val_accuracy: 0.6091\n",
      "Epoch 7/7\n",
      "549/549 [==============================] - 290s 528ms/step - loss: 1.6495 - accuracy: 0.6638 - val_loss: 2.1772 - val_accuracy: 0.6212\n"
     ]
    }
   ],
   "source": [
    "history = model.fit(dataset,\n",
    "          epochs=7,\n",
    "          validation_data=val_dataset,\n",
    "          verbose=1)"
   ]
  },
  {
   "cell_type": "code",
   "execution_count": 19,
   "metadata": {},
   "outputs": [
    {
     "data": {
      "image/png": "[encoded data removed]",
      "text/plain": [
       "<Figure size 864x576 with 2 Axes>"
      ]
     },
     "metadata": {
      "needs_background": "light"
     },
     "output_type": "display_data"
    }
   ],
   "source": [
    "plot_curve(history.epoch, history.history, ['loss', 'val_loss', 'accuracy', 'val_accuracy'])"
   ]
  },
  {
   "cell_type": "markdown",
   "metadata": {},
   "source": [
    "## Generate lyrics"
   ]
  },
  {
   "cell_type": "code",
   "execution_count": 20,
   "metadata": {},
   "outputs": [
    {
     "data": {
      "text/plain": [
       "'<start> i love you , liberian girl <end> '"
      ]
     },
     "execution_count": 20,
     "metadata": {},
     "output_type": "execute_result"
    }
   ],
   "source": [
    "generate_text(model, tokenizer, init_sentence=\"<start> i love\", max_len=20)"
   ]
  },
  {
   "cell_type": "code",
   "execution_count": 23,
   "metadata": {},
   "outputs": [
    {
     "data": {
      "text/plain": [
       "'<start> i am not throwing away my shot <end> '"
      ]
     },
     "execution_count": 23,
     "metadata": {},
     "output_type": "execute_result"
    }
   ],
   "source": [
    "generate_text(model, tokenizer, init_sentence=\"<start> i am\", max_len=20)"
   ]
  },
  {
   "cell_type": "markdown",
   "metadata": {},
   "source": [
    "## Report"
   ]
  },
  {
   "cell_type": "markdown",
   "metadata": {},
   "source": [
    "Model  \n",
    "LSTM layer 사이에 Dropout(0.3)을 적용하였습니다.  \n",
    "embedding_size, hidden_size를 각각 다음과 같이 설정하였습니다.  \n",
    "embedding_size = 2048, hidden_size = 2048  \n",
    "\n",
    "<br>\n",
    "\n",
    "최종적으로 val_loss를 2.1772을 얻었습니다.  \n"
   ]
  }
 ],
 "metadata": {
  "kernelspec": {
   "display_name": "aiffel",
   "language": "python",
   "name": "aiffel"
  },
  "language_info": {
   "codemirror_mode": {
    "name": "ipython",
    "version": 3
   },
   "file_extension": ".py",
   "mimetype": "text/x-python",
   "name": "python",
   "nbconvert_exporter": "python",
   "pygments_lexer": "ipython3",
   "version": "3.7.6"
  },
  "toc": {
   "base_numbering": 1,
   "nav_menu": {},
   "number_sections": true,
   "sideBar": true,
   "skip_h1_title": true,
   "title_cell": "Table of Contents",
   "title_sidebar": "Contents",
   "toc_cell": false,
   "toc_position": {
    "height": "758px",
    "left": "168px",
    "top": "199px",
    "width": "280.797px"
   },
   "toc_section_display": true,
   "toc_window_display": true
  }
 },
 "nbformat": 4,
 "nbformat_minor": 4
}
