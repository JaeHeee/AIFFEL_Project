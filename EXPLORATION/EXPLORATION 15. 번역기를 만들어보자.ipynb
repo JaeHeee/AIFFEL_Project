{
 "cells": [
  {
   "cell_type": "markdown",
   "metadata": {},
   "source": [
    "# EXPLORATION 15. 번역기를 만들어보자"
   ]
  },
  {
   "cell_type": "markdown",
   "metadata": {},
   "source": [
    "## Import"
   ]
  },
  {
   "cell_type": "code",
   "execution_count": 1,
   "metadata": {},
   "outputs": [],
   "source": [
    "import os\n",
    "import pandas as pd\n",
    "import numpy as np\n",
    "import re\n",
    "\n",
    "from tensorflow.keras.preprocessing.text import Tokenizer\n",
    "from tensorflow.keras.preprocessing.sequence import pad_sequences\n",
    "from tensorflow.keras.utils import to_categorical\n",
    "from tensorflow.keras.layers import Input, LSTM, Embedding, Dense, Masking\n",
    "from tensorflow.keras.models import Model"
   ]
  },
  {
   "cell_type": "markdown",
   "metadata": {},
   "source": [
    "## Data"
   ]
  },
  {
   "cell_type": "code",
   "execution_count": 2,
   "metadata": {},
   "outputs": [
    {
     "name": "stdout",
     "output_type": "stream",
     "text": [
      "전체 샘플의 수 : 178009\n"
     ]
    },
    {
     "data": {
      "text/html": [
       "<div>\n",
       "<style scoped>\n",
       "    .dataframe tbody tr th:only-of-type {\n",
       "        vertical-align: middle;\n",
       "    }\n",
       "\n",
       "    .dataframe tbody tr th {\n",
       "        vertical-align: top;\n",
       "    }\n",
       "\n",
       "    .dataframe thead th {\n",
       "        text-align: right;\n",
       "    }\n",
       "</style>\n",
       "<table border=\"1\" class=\"dataframe\">\n",
       "  <thead>\n",
       "    <tr style=\"text-align: right;\">\n",
       "      <th></th>\n",
       "      <th>eng</th>\n",
       "      <th>fra</th>\n",
       "      <th>cc</th>\n",
       "    </tr>\n",
       "  </thead>\n",
       "  <tbody>\n",
       "    <tr>\n",
       "      <th>131022</th>\n",
       "      <td>I didn't really feel like going out.</td>\n",
       "      <td>Je n'avais pas vraiment envie de sortir.</td>\n",
       "      <td>CC-BY 2.0 (France) Attribution: tatoeba.org #5...</td>\n",
       "    </tr>\n",
       "    <tr>\n",
       "      <th>72046</th>\n",
       "      <td>Soak this sponge in water.</td>\n",
       "      <td>Fais tremper cette éponge dans l'eau.</td>\n",
       "      <td>CC-BY 2.0 (France) Attribution: tatoeba.org #2...</td>\n",
       "    </tr>\n",
       "    <tr>\n",
       "      <th>92046</th>\n",
       "      <td>I'll see if I can find a cab.</td>\n",
       "      <td>Je vais voir si je peux trouver un taxi.</td>\n",
       "      <td>CC-BY 2.0 (France) Attribution: tatoeba.org #2...</td>\n",
       "    </tr>\n",
       "    <tr>\n",
       "      <th>96564</th>\n",
       "      <td>Don't think about it too much.</td>\n",
       "      <td>N'y pensez pas trop.</td>\n",
       "      <td>CC-BY 2.0 (France) Attribution: tatoeba.org #1...</td>\n",
       "    </tr>\n",
       "    <tr>\n",
       "      <th>146247</th>\n",
       "      <td>I told you not to call me Tom, didn't I?</td>\n",
       "      <td>Je t'ai dit de ne pas m'appeler Tom, non ?</td>\n",
       "      <td>CC-BY 2.0 (France) Attribution: tatoeba.org #2...</td>\n",
       "    </tr>\n",
       "  </tbody>\n",
       "</table>\n",
       "</div>"
      ],
      "text/plain": [
       "                                             eng  \\\n",
       "131022      I didn't really feel like going out.   \n",
       "72046                 Soak this sponge in water.   \n",
       "92046              I'll see if I can find a cab.   \n",
       "96564             Don't think about it too much.   \n",
       "146247  I told you not to call me Tom, didn't I?   \n",
       "\n",
       "                                               fra  \\\n",
       "131022    Je n'avais pas vraiment envie de sortir.   \n",
       "72046        Fais tremper cette éponge dans l'eau.   \n",
       "92046     Je vais voir si je peux trouver un taxi.   \n",
       "96564                         N'y pensez pas trop.   \n",
       "146247  Je t'ai dit de ne pas m'appeler Tom, non ?   \n",
       "\n",
       "                                                       cc  \n",
       "131022  CC-BY 2.0 (France) Attribution: tatoeba.org #5...  \n",
       "72046   CC-BY 2.0 (France) Attribution: tatoeba.org #2...  \n",
       "92046   CC-BY 2.0 (France) Attribution: tatoeba.org #2...  \n",
       "96564   CC-BY 2.0 (France) Attribution: tatoeba.org #1...  \n",
       "146247  CC-BY 2.0 (France) Attribution: tatoeba.org #2...  "
      ]
     },
     "execution_count": 2,
     "metadata": {},
     "output_type": "execute_result"
    }
   ],
   "source": [
    "file_path = os.getenv('HOME')+'/aiffel/translator_seq2seq/data/fra.txt'\n",
    "lines = pd.read_csv(file_path, names=['eng', 'fra', 'cc'], sep='\\t')\n",
    "print('전체 샘플의 수 :',len(lines))\n",
    "lines.sample(5) #샘플 5개 출력"
   ]
  },
  {
   "cell_type": "code",
   "execution_count": 3,
   "metadata": {},
   "outputs": [
    {
     "data": {
      "text/html": [
       "<div>\n",
       "<style scoped>\n",
       "    .dataframe tbody tr th:only-of-type {\n",
       "        vertical-align: middle;\n",
       "    }\n",
       "\n",
       "    .dataframe tbody tr th {\n",
       "        vertical-align: top;\n",
       "    }\n",
       "\n",
       "    .dataframe thead th {\n",
       "        text-align: right;\n",
       "    }\n",
       "</style>\n",
       "<table border=\"1\" class=\"dataframe\">\n",
       "  <thead>\n",
       "    <tr style=\"text-align: right;\">\n",
       "      <th></th>\n",
       "      <th>eng</th>\n",
       "      <th>fra</th>\n",
       "    </tr>\n",
       "  </thead>\n",
       "  <tbody>\n",
       "    <tr>\n",
       "      <th>17203</th>\n",
       "      <td>We're here alone.</td>\n",
       "      <td>Nous sommes ici seules.</td>\n",
       "    </tr>\n",
       "    <tr>\n",
       "      <th>17364</th>\n",
       "      <td>What should I do?</td>\n",
       "      <td>Que devrais-je faire ?</td>\n",
       "    </tr>\n",
       "    <tr>\n",
       "      <th>26960</th>\n",
       "      <td>Tom works too much.</td>\n",
       "      <td>Thomas travaille trop.</td>\n",
       "    </tr>\n",
       "    <tr>\n",
       "      <th>27783</th>\n",
       "      <td>You intimidate Tom.</td>\n",
       "      <td>Vous intimidez Tom.</td>\n",
       "    </tr>\n",
       "    <tr>\n",
       "      <th>7518</th>\n",
       "      <td>Don't judge me.</td>\n",
       "      <td>Ne me jugez pas.</td>\n",
       "    </tr>\n",
       "  </tbody>\n",
       "</table>\n",
       "</div>"
      ],
      "text/plain": [
       "                       eng                      fra\n",
       "17203    We're here alone.  Nous sommes ici seules.\n",
       "17364    What should I do?   Que devrais-je faire ?\n",
       "26960  Tom works too much.   Thomas travaille trop.\n",
       "27783  You intimidate Tom.      Vous intimidez Tom.\n",
       "7518       Don't judge me.         Ne me jugez pas."
      ]
     },
     "execution_count": 3,
     "metadata": {},
     "output_type": "execute_result"
    }
   ],
   "source": [
    "lines = lines[['eng', 'fra']][:33000] # 5만개 샘플 사용\n",
    "lines.sample(5)"
   ]
  },
  {
   "cell_type": "markdown",
   "metadata": {},
   "source": [
    "## Preprocessing"
   ]
  },
  {
   "cell_type": "markdown",
   "metadata": {},
   "source": [
    "### preprocess sentence"
   ]
  },
  {
   "cell_type": "code",
   "execution_count": 4,
   "metadata": {},
   "outputs": [],
   "source": [
    "def preprocess_sentence(sentence):\n",
    "    sentence = sentence.lower().strip()\n",
    "  \n",
    "    sentence = re.sub(r\"([?.!,¿])\", r\" \\1 \", sentence)\n",
    "    sentence = re.sub(r'[\" \"]+', \" \", sentence)\n",
    "    sentence = re.sub(r\"[^a-zA-Z?.!]+\", \" \", sentence)\n",
    "    \n",
    "    sentence = sentence.strip()\n",
    "    sentence = sentence.split(\" \")\n",
    "    \n",
    "    return sentence"
   ]
  },
  {
   "cell_type": "code",
   "execution_count": 5,
   "metadata": {},
   "outputs": [],
   "source": [
    "def preprocess_sentence_decoder(sentence):\n",
    "    sentence = sentence.lower().strip()\n",
    "  \n",
    "    sentence = re.sub(r\"([?.!,¿])\", r\" \\1 \", sentence)\n",
    "    sentence = re.sub(r'[\" \"]+', \" \", sentence)\n",
    "    sentence = re.sub(r\"[^a-zA-Z?.!]+\", \" \", sentence)\n",
    "    \n",
    "    sentence = sentence.strip()\n",
    "    sentence = '<start> ' + sentence + ' <end>'\n",
    "    sentence = sentence.split(\" \")\n",
    "    \n",
    "    return sentence"
   ]
  },
  {
   "cell_type": "code",
   "execution_count": 6,
   "metadata": {},
   "outputs": [],
   "source": [
    "lines.eng = lines.eng.apply(lambda x : preprocess_sentence(x))\n",
    "lines.fra = lines.fra.apply(lambda x : preprocess_sentence_decoder(x))"
   ]
  },
  {
   "cell_type": "code",
   "execution_count": 7,
   "metadata": {},
   "outputs": [
    {
     "data": {
      "text/plain": [
       "8206          [i, need, to, know, .]\n",
       "28611    [does, it, even, matter, ?]\n",
       "26701     [tom, began, to, laugh, .]\n",
       "9691           [were, you, happy, ?]\n",
       "2559              [i, m, talking, .]\n",
       "Name: eng, dtype: object"
      ]
     },
     "execution_count": 7,
     "metadata": {},
     "output_type": "execute_result"
    }
   ],
   "source": [
    "lines.eng.sample(5)"
   ]
  },
  {
   "cell_type": "code",
   "execution_count": 8,
   "metadata": {},
   "outputs": [
    {
     "data": {
      "text/plain": [
       "29974    [<start>, il, faut, que, j, y, aille, maintena...\n",
       "25249    [<start>, le, chien, est, il, encha, n, ?, <end>]\n",
       "11430             [<start>, j, tais, horrifi, e, ., <end>]\n",
       "10299          [<start>, avez, vous, fait, ceci, ?, <end>]\n",
       "19820           [<start>, j, en, choisirai, une, ., <end>]\n",
       "Name: fra, dtype: object"
      ]
     },
     "execution_count": 8,
     "metadata": {},
     "output_type": "execute_result"
    }
   ],
   "source": [
    "lines.fra.sample(5)"
   ]
  },
  {
   "cell_type": "markdown",
   "metadata": {},
   "source": [
    "### Vocabulary"
   ]
  },
  {
   "cell_type": "code",
   "execution_count": 9,
   "metadata": {},
   "outputs": [],
   "source": [
    "eng_tokenizer = Tokenizer()\n",
    "eng_tokenizer.fit_on_texts(lines.eng)"
   ]
  },
  {
   "cell_type": "code",
   "execution_count": 10,
   "metadata": {},
   "outputs": [
    {
     "name": "stdout",
     "output_type": "stream",
     "text": [
      "{'.': 1, 'i': 2, 'you': 3, '?': 4, 'it': 5, 'a': 6, 's': 7, 'is': 8, 're': 9, 'we': 10, 'tom': 11, 't': 12, 'm': 13, 'the': 14, 'he': 15, 'that': 16, 'to': 17, 'this': 18, 'me': 19, 'are': 20, 'was': 21, 'do': 22, 'can': 23, 'they': 24, 'my': 25, 'have': 26, 'your': 27, 'not': 28, 'don': 29, 'go': 30, 'she': 31, '!': 32, 'what': 33, 'no': 34, 'll': 35, 'be': 36, 'did': 37, 'all': 38, 'like': 39, 'in': 40, 'here': 41, 'very': 42, 'let': 43, 'how': 44, 'on': 45, 'one': 46, 'up': 47, 'want': 48, 'need': 49, 'him': 50, 'of': 51, 'get': 52, 'there': 53, 'know': 54, 'love': 55, 'now': 56, 'just': 57, 'out': 58, 'so': 59, 'too': 60, 'who': 61, 'for': 62, 'come': 63, 'were': 64, 'good': 65, 'us': 66, 'got': 67, 've': 68, 'at': 69, 'has': 70, 'please': 71, 'look': 72, 'help': 73, 'stop': 74, 'see': 75, 'am': 76, 'will': 77, 'where': 78, 'had': 79, 'take': 80, 'her': 81, 'his': 82, 'why': 83, 'give': 84, 'didn': 85, 'feel': 86, 'must': 87, 'home': 88, 'back': 89, 'happy': 90, 'car': 91, 'made': 92, 'try': 93, 'an': 94, 'won': 95, 'work': 96, 'them': 97, 'alone': 98, 'right': 99, 'saw': 100, 'busy': 101, 'really': 102, 'hate': 103, 'leave': 104, 'dog': 105, 'may': 106, 'still': 107, 'with': 108, 'keep': 109, 'never': 110, 'big': 111, 'stay': 112, 'isn': 113, 'bad': 114, 'eat': 115, 'job': 116, 'ready': 117, 'time': 118, 'went': 119, 'nice': 120, 'again': 121, 'off': 122, 'make': 123, 'lost': 124, 'everyone': 125, 'french': 126, 'drink': 127, 'should': 128, 'think': 129, 'tell': 130, 'say': 131, 'old': 132, 'book': 133, 'about': 134, 'wait': 135, 'going': 136, 'felt': 137, 'well': 138, 'does': 139, 'enough': 140, 'fun': 141, 'down': 142, 'tired': 143, 'room': 144, 'some': 145, 'money': 146, 'done': 147, 'mine': 148, 'our': 149, 'new': 150, 'd': 151, 'could': 152, 'lot': 153, 'today': 154, 'wasn': 155, 'talk': 156, 'wrong': 157, 'safe': 158, 'hard': 159, 'left': 160, 'much': 161, 'hurt': 162, 'late': 163, 'funny': 164, 'mary': 165, 'call': 166, 'hear': 167, 'way': 168, 'said': 169, 'read': 170, 'gave': 171, 'door': 172, 'everybody': 173, 'find': 174, 'day': 175, 'likes': 176, 'idea': 177, 'open': 178, 'house': 179, 'cold': 180, 'hope': 181, 'over': 182, 'turn': 183, 'live': 184, 'both': 185, 'away': 186, 'man': 187, 'hurry': 188, 'yours': 189, 'came': 190, 'everything': 191, 'sure': 192, 'bed': 193, 'trust': 194, 'broke': 195, 'water': 196, 'anyone': 197, 'more': 198, 'show': 199, 'found': 200, 'sick': 201, 'nobody': 202, 'nothing': 203, 'ok': 204, 'died': 205, 'easy': 206, 'life': 207, 'miss': 208, 'looks': 209, 'yet': 210, 'careful': 211, 'better': 212, 'cat': 213, 'watch': 214, 'these': 215, 'loves': 216, 'teacher': 217, 'speak': 218, 'hungry': 219, 'sleep': 220, 'ask': 221, 'dead': 222, 'by': 223, 'true': 224, 'upset': 225, 'would': 226, 'crazy': 227, 'something': 228, 'been': 229, 'pay': 230, 'die': 231, 'took': 232, 'being': 233, 'stupid': 234, 'friend': 235, 'already': 236, 'sit': 237, 'answer': 238, 'mad': 239, 'gone': 240, 'bit': 241, 'buy': 242, 'heard': 243, 'seems': 244, 'friends': 245, 'when': 246, 'quit': 247, 'win': 248, 'early': 249, 'put': 250, 'from': 251, 'free': 252, 'knew': 253, 'lucky': 254, 'close': 255, 'anybody': 256, 'eyes': 257, 'best': 258, 'only': 259, 'run': 260, 'great': 261, 'name': 262, 'kept': 263, 'aren': 264, 'tried': 265, 'sing': 266, 'drunk': 267, 'sorry': 268, 'coming': 269, 'called': 270, 'doing': 271, 'perfect': 272, 'fast': 273, 'tall': 274, 'mean': 275, 'check': 276, 'problem': 277, 'beer': 278, 'school': 279, 'play': 280, 'almost': 281, 'walk': 282, 'angry': 283, 'boy': 284, 'and': 285, 'fine': 286, 'naive': 287, 'hand': 288, 'handle': 289, 'drive': 290, 'long': 291, 'swim': 292, 'two': 293, 'sad': 294, 'pretty': 295, 'thanks': 296, 'fired': 297, 'liked': 298, 'remember': 299, 'seat': 300, 'hat': 301, 'as': 302, 'use': 303, 'serious': 304, 'wine': 305, 'wants': 306, 'doesn': 307, 'kind': 308, 'stand': 309, 'music': 310, 'first': 311, 'start': 312, 'met': 313, 'working': 314, 'myself': 315, 'finished': 316, 'wanted': 317, 'hair': 318, 'forget': 319, 'knows': 320, 'bring': 321, 'enjoy': 322, 'plan': 323, 'tomorrow': 324, 'word': 325, 'guy': 326, 'born': 327, 'rich': 328, 'quiet': 329, 'food': 330, 'key': 331, 'quite': 332, 'fat': 333, 'follow': 334, 'ran': 335, 'sat': 336, 'once': 337, 'bus': 338, 'told': 339, 'light': 340, 'if': 341, 'those': 342, 'weird': 343, 'hot': 344, 'lying': 345, 'move': 346, 'care': 347, 'around': 348, 'outside': 349, 'kids': 350, 'married': 351, 'ate': 352, 'believe': 353, 'wife': 354, 'choice': 355, 'shut': 356, 'forgot': 357, 'works': 358, 'joke': 359, 'running': 360, 'mother': 361, 'cool': 362, 'soon': 363, 'dogs': 364, 'cry': 365, 'yourself': 366, 'change': 367, 'doctor': 368, 'scared': 369, 'hates': 370, 'coffee': 371, 'boston': 372, 'stopped': 373, 'looked': 374, 'luck': 375, 'strong': 376, 'caught': 377, 'talking': 378, 'nuts': 379, 'awesome': 380, 'shot': 381, 'study': 382, 'crying': 383, 'bag': 384, 'son': 385, 'seem': 386, 'listen': 387, 'wake': 388, 'lie': 389, 'worked': 390, 'lonely': 391, 'young': 392, 'needs': 393, 'song': 394, 'lunch': 395, 'next': 396, 'quickly': 397, 'missed': 398, 'father': 399, 'seen': 400, 'fell': 401, 'red': 402, 'write': 403, 'inside': 404, 'clean': 405, 'sign': 406, 'break': 407, 'cake': 408, 'happened': 409, 'changed': 410, 'whose': 411, 'girls': 412, 'books': 413, 'dream': 414, 'touch': 415, 'alive': 416, 'sweet': 417, 'deal': 418, 'fish': 419, 'bought': 420, 'often': 421, 'nervous': 422, 'warned': 423, 'owe': 424, 'fault': 425, 'getting': 426, 'little': 427, 'agree': 428, 'fix': 429, 'catch': 430, 'liar': 431, 'always': 432, 'trouble': 433, 'paid': 434, 'drop': 435, 'lazy': 436, 'tv': 437, 'night': 438, 'mind': 439, 'asleep': 440, 'gun': 441, 'brave': 442, 'shoes': 443, 'someone': 444, 'surprised': 445, 'tie': 446, 'which': 447, 'lives': 448, 'phone': 449, 'hold': 450, 'cried': 451, 'shy': 452, 'game': 453, 'after': 454, 'smart': 455, 'tea': 456, 'loved': 457, 'saved': 458, 'child': 459, 'wish': 460, 'laughed': 461, 'anything': 462, 'started': 463, 'empty': 464, 'began': 465, 'sound': 466, 'proud': 467, 'calm': 468, 'real': 469, 'cute': 470, 'rude': 471, 'cut': 472, 'maybe': 473, 'boss': 474, 'singing': 475, 'dinner': 476, 'somebody': 477, 'used': 478, 'fire': 479, 'glad': 480, 'hurts': 481, 'head': 482, 'guess': 483, 'yes': 484, 'prepared': 485, 'milk': 486, 'small': 487, 'afraid': 488, 'became': 489, 'clever': 490, 'arrived': 491, 'movie': 492, 'place': 493, 'smoke': 494, 'hit': 495, 'hands': 496, 'spoke': 497, 'last': 498, 'normal': 499, 'sleepy': 500, 'age': 501, 'asked': 502, 'team': 503, 'pen': 504, 'needed': 505, 'horse': 506, 'invited': 507, 'grab': 508, 'failed': 509, 'kidding': 510, 'box': 511, 'excited': 512, 'reading': 513, 'party': 514, 'list': 515, 'rest': 516, 'blame': 517, 'arm': 518, 'own': 519, 'oldest': 520, 'three': 521, 'lied': 522, 'helped': 523, 'timid': 524, 'dark': 525, 'duty': 526, 'smell': 527, 'laugh': 528, 'leaving': 529, 'rain': 530, 'drank': 531, 'might': 532, 'lose': 533, 'looking': 534, 'minute': 535, 'bike': 536, 'same': 537, 'couldn': 538, 'opened': 539, 'kiss': 540, 'tough': 541, 'far': 542, 'eating': 543, 'fight': 544, 'wise': 545, 'understand': 546, 'student': 547, 'important': 548, 'boat': 549, 'every': 550, 'story': 551, 'yesterday': 552, 'joking': 553, 'news': 554, 'jealous': 555, 'winning': 556, 'many': 557, 'meet': 558, 'people': 559, 'mom': 560, 'trusted': 561, 'chance': 562, 'town': 563, 'sounds': 564, 'trip': 565, 'sister': 566, 'fair': 567, 'save': 568, 'warn': 569, 'excuse': 570, 'thank': 571, 'waited': 572, 'girl': 573, 'trying': 574, 'blue': 575, 'broken': 576, 'cheated': 577, 'confused': 578, 'sent': 579, 'together': 580, 'lock': 581, 'later': 582, 'family': 583, 'wet': 584, 'guys': 585, 'retired': 586, 'dying': 587, 'face': 588, 'skinny': 589, 'even': 590, 'bored': 591, 'kissed': 592, 'act': 593, 'pain': 594, 'kid': 595, 'slept': 596, 'kill': 597, 'shopping': 598, 'polite': 599, 'killed': 600, 'nose': 601, 'beautiful': 602, 'satisfied': 603, 'boring': 604, 'into': 605, 'bicycle': 606, 'ill': 607, 'join': 608, 'ahead': 609, 'full': 610, 'relaxed': 611, 'woke': 612, 'walked': 613, 'clear': 614, 'wrote': 615, 'dressed': 616, 'bet': 617, 'unlucky': 618, 'snow': 619, 'another': 620, 'black': 621, 'few': 622, 'god': 623, 'ride': 624, 'week': 625, 'different': 626, 'short': 627, 'makes': 628, 'believed': 629, 'table': 630, 'slow': 631, 'weak': 632, 'obey': 633, 'awake': 634, 'ours': 635, 'step': 636, 'cats': 637, 'cooking': 638, 'refused': 639, 'war': 640, 'cops': 641, 'any': 642, 'coat': 643, 'or': 644, 'japanese': 645, 'danger': 646, 'followed': 647, 'keys': 648, 'turned': 649, 'dangerous': 650, 'baby': 651, 'betrayed': 652, 'message': 653, 'disgusting': 654, 'fit': 655, 'stuck': 656, 'smiled': 657, 'hired': 658, 'famous': 659, 'ignore': 660, 'drives': 661, 'count': 662, 'set': 663, 'thirsty': 664, 'fake': 665, 'secret': 666, 'feet': 667, 'comes': 668, 'exhausted': 669, 'sense': 670, 'second': 671, 'rules': 672, 'lit': 673, 'travel': 674, 'watching': 675, 'glasses': 676, 'amazing': 677, 'mistake': 678, 'children': 679, 'tonight': 680, 'brother': 681, 'dress': 682, 'hug': 683, 'refuse': 684, 'ugly': 685, 'awful': 686, 'blind': 687, 'men': 688, 'warm': 689, 'honest': 690, 'shall': 691, 'bite': 692, 'hey': 693, 'map': 694, 'innocent': 695, 'cruel': 696, 'guilty': 697, 'closed': 698, 'woman': 699, 'else': 700, 'feels': 701, 'english': 702, 'smells': 703, 'finally': 704, 'ambitious': 705, 'worth': 706, 'meant': 707, 'tree': 708, 'point': 709, 'chair': 710, 'behind': 711, 'drinking': 712, 'person': 713, 'thing': 714, 'welcome': 715, 'talked': 716, 'cook': 717, 'hero': 718, 'losing': 719, 'creative': 720, 'curious': 721, 'worried': 722, 'bath': 723, 'slowly': 724, 'teach': 725, 'silly': 726, 'explain': 727, 'meat': 728, 'survive': 729, 'summer': 730, 'impressed': 731, 'raining': 732, 'end': 733, 'having': 734, 'truth': 735, 'continue': 736, 'order': 737, 'expect': 738, 'apple': 739, 'feeling': 740, 'such': 741, 'speaks': 742, 'side': 743, 'shirt': 744, 'deep': 745, 'beg': 746, 'promise': 747, 'then': 748, 'choose': 749, 'worry': 750, 'shoot': 751, 'ruined': 752, 'dirty': 753, 'date': 754, 'tight': 755, 'mess': 756, 'dumped': 757, 'proof': 758, 'risk': 759, 'white': 760, 'happen': 761, 'law': 762, 'downstairs': 763, 'baked': 764, 'depressed': 765, 'bell': 766, 'breath': 767, 'six': 768, 'cannot': 769, 'rather': 770, 'picture': 771, 'bill': 772, 'mouth': 773, 'fate': 774, 'window': 775, 'heart': 776, 'beat': 777, 'hang': 778, 'stood': 779, 'naked': 780, 'idiot': 781, 'air': 782, 'green': 783, 'drinks': 784, 'decide': 785, 'grew': 786, 'also': 787, 'dance': 788, 'fear': 789, 'correct': 790, 'shocked': 791, 'locked': 792, 'send': 793, 'upstairs': 794, 'sleeping': 795, 'decided': 796, 'writing': 797, 'things': 798, 'jobs': 799, 'bird': 800, 'nearly': 801, 'resilient': 802, 'possible': 803, 'loud': 804, 'low': 805, 'park': 806, 'brought': 807, 'strange': 808, 'knife': 809, 'expensive': 810, 'doors': 811, 'students': 812, 'rang': 813, 'decision': 814, 'eye': 815, 'wash': 816, 'helps': 817, 'taste': 818, 'fly': 819, 'agreed': 820, 'wonderful': 821, 'patient': 822, 'poor': 823, 'lovely': 824, 'pick': 825, 'begin': 826, 'apologize': 827, 'starved': 828, 'touched': 829, 'unhappy': 830, 'grow': 831, 'escaped': 832, 'lawyer': 833, 'singer': 834, 'ears': 835, 'favor': 836, 'part': 837, 'fed': 838, 'artist': 839, 'listening': 840, 'near': 841, 'fishing': 842, 'lay': 843, 'high': 844, 'harm': 845, 'raise': 846, 'radio': 847, 'escape': 848, 'smiling': 849, 'death': 850, 'swimming': 851, 'enemy': 852, 'cup': 853, 'closer': 854, 'but': 855, 'candles': 856, 'armed': 857, 'cares': 858, 'forgive': 859, 'ice': 860, 'moving': 861, 'single': 862, 'sharp': 863, 'merciful': 864, 'punctual': 865, 'smile': 866, 'cash': 867, 'messed': 868, 'scream': 869, 'certain': 870, 'dancing': 871, 'driving': 872, 'watched': 873, 'confident': 874, 'safely': 875, 'annoying': 876, 'apples': 877, 'deserve': 878, 'plans': 879, 'learn': 880, 'missing': 881, 'yelling': 882, 'stole': 883, 'crime': 884, 'dry': 885, 'foolish': 886, 'pleased': 887, 'allow': 888, 'number': 889, 'moment': 890, 'suit': 891, 'shoe': 892, 'injured': 893, 'useless': 894, 'waiting': 895, 'camera': 896, 'ball': 897, 'grass': 898, 'rid': 899, 'cookies': 900, 'control': 901, 'holiday': 902, 'goal': 903, 'glass': 904, 'train': 905, 'laughing': 906, 'ordered': 907, 'pizza': 908, 'bank': 909, 'truly': 910, 'papers': 911, 'weight': 912, 'parents': 913, 'productive': 914, 'jump': 915, 'oh': 916, 'stayed': 917, 'deaf': 918, 'noticed': 919, 'quick': 920, 'built': 921, 'accept': 922, 'cheap': 923, 'pray': 924, 'burned': 925, 'fined': 926, 'golf': 927, 'soup': 928, 'sell': 929, 'eggs': 930, 'manage': 931, 'trapped': 932, 'half': 933, 'paint': 934, 'involved': 935, 'powerful': 936, 'shame': 937, 'sang': 938, 'gold': 939, 'huge': 940, 'talented': 941, 'push': 942, 'studying': 943, 'line': 944, 'advice': 945, 'available': 946, 'forgetful': 947, 'motivated': 948, 'helping': 949, 'gets': 950, 'leak': 951, 'shower': 952, 'tense': 953, 'special': 954, 'nonsense': 955, 'insane': 956, 'matter': 957, 'year': 958, 'eaten': 959, 'direct': 960, 'overworked': 961, 'plays': 962, 'their': 963, 'throw': 964, 'road': 965, 'afford': 966, 'store': 967, 'dad': 968, 'fever': 969, 'haven': 970, 'noise': 971, 'himself': 972, 'drill': 973, 'threatened': 974, 'protect': 975, 'briefly': 976, 'power': 977, 'example': 978, 'weather': 979, 'clothes': 980, 'hello': 981, 'attack': 982, 'birds': 983, 'dizzy': 984, 'hers': 985, 'pardon': 986, 'loaded': 987, 'sneaky': 988, 'thirty': 989, 'happens': 990, 'relax': 991, 'aside': 992, 'boys': 993, 'finish': 994, 'class': 995, 'dumb': 996, 'moved': 997, 'washed': 998, 'sincere': 999, 'hugged': 1000, 'resist': 1001, 'exciting': 1002, 'enjoyed': 1003, 'saint': 1004, 'pregnant': 1005, 'stubborn': 1006, 'arguing': 1007, 'smoking': 1008, 'loser': 1009, 'dreaming': 1010, 'feed': 1011, 'gear': 1012, 'note': 1013, 'taxi': 1014, 'powerless': 1015, 'saying': 1016, 'weapon': 1017, 'gambling': 1018, 'crafty': 1019, 'flowers': 1020, 'interested': 1021, 'making': 1022, 'vegetarian': 1023, 'reply': 1024, 'desk': 1025, 'clock': 1026, 'envious': 1027, 'pencil': 1028, 'fabulous': 1029, 'straight': 1030, 'held': 1031, 'words': 1032, 'cap': 1033, 'headache': 1034, 'badly': 1035, 'days': 1036, 'rained': 1037, 'astute': 1038, 'fantastic': 1039, 'ski': 1040, 'stinks': 1041, 'along': 1042, 'rush': 1043, 'doubt': 1044, 'promised': 1045, 'buying': 1046, 'matters': 1047, 'comment': 1048, 'ruthless': 1049, 'hated': 1050, 'bread': 1051, 'fruit': 1052, 'rock': 1053, 'cars': 1054, 'fool': 1055, 'psychic': 1056, 'staying': 1057, 'stunned': 1058, 'monday': 1059, 'doll': 1060, 'spring': 1061, 'talks': 1062, 'surprise': 1063, 'drowned': 1064, 'share': 1065, 'fall': 1066, 'romantic': 1067, 'thought': 1068, 'genius': 1069, 'divorced': 1070, 'fighting': 1071, 'grateful': 1072, 'positive': 1073, 'speaking': 1074, 'closely': 1075, 'while': 1076, 'thief': 1077, 'type': 1078, 'pale': 1079, 'tricked': 1080, 'adorable': 1081, 'prefer': 1082, 'rescued': 1083, 'respect': 1084, 'wore': 1085, 'concerned': 1086, 'simple': 1087, 'terrible': 1088, 'foot': 1089, 'peace': 1090, 'trusts': 1091, 'scary': 1092, 'wounded': 1093, 'floor': 1094, 'says': 1095, 'bright': 1096, 'cows': 1097, 'panting': 1098, 'spot': 1099, 'truck': 1100, 'diary': 1101, 'amused': 1102, 'prices': 1103, 'cheered': 1104, 'country': 1105, 'wind': 1106, 'evidence': 1107, 'match': 1108, 'charge': 1109, 'resourceful': 1110, 'allowed': 1111, 'city': 1112, 'ridiculous': 1113, 'office': 1114, 'answered': 1115, 'prisoners': 1116, 'than': 1117, 'without': 1118, 'legs': 1119, 'sore': 1120, 'wallet': 1121, 'letter': 1122, 'promoted': 1123, 'entered': 1124, 'hobby': 1125, 'paper': 1126, 'question': 1127, 'knees': 1128, 'daughter': 1129, 'lights': 1130, 'master': 1131, 'hi': 1132, 'runs': 1133, 'jumped': 1134, 'obeyed': 1135, 'bald': 1136, 'odd': 1137, 'marry': 1138, 'terrific': 1139, 'bless': 1140, 'pack': 1141, 'pass': 1142, 'walks': 1143, 'facts': 1144, 'envy': 1145, 'fixed': 1146, 'greedy': 1147, 'shaken': 1148, 'nap': 1149, 'voted': 1150, 'discreet': 1151, 'friendly': 1152, 'hide': 1153, 'finicky': 1154, 'healthy': 1155, 'twins': 1156, 'dope': 1157, 'vote': 1158, 'rifle': 1159, 'arrogant': 1160, 'easily': 1161, 'sugar': 1162, 'cab': 1163, 'sue': 1164, 'canadian': 1165, 'checked': 1166, 'cancer': 1167, 'waste': 1168, 'obvious': 1169, 'snowing': 1170, 'goes': 1171, 'gamble': 1172, 'draw': 1173, 'maid': 1174, 'rope': 1175, 'paris': 1176, 'deserved': 1177, 'movies': 1178, 'copy': 1179, 'outrank': 1180, 'blood': 1181, 'volunteered': 1182, 'prove': 1183, 'contented': 1184, 'intrigued': 1185, 'coach': 1186, 'unlocked': 1187, 'doctors': 1188, 'complain': 1189, 'van': 1190, 'parties': 1191, 'secrets': 1192, 'college': 1193, 'answers': 1194, 'details': 1195, 'wear': 1196, 'contagious': 1197, 'christmas': 1198, 'large': 1199, 'illegal': 1200, 'playing': 1201, 'earlier': 1202, 'brothers': 1203, 'cleaned': 1204, 'carefully': 1205, 'sons': 1206, 'played': 1207, 'tennis': 1208, 'extroverted': 1209, 'unambitious': 1210, 'blew': 1211, 'fresh': 1212, 'smaller': 1213, 'times': 1214, 'stolen': 1215, 'forgiven': 1216, 'traveling': 1217, 'church': 1218, 'taking': 1219, 'heavy': 1220, 'fortunate': 1221, 'under': 1222, 'rely': 1223, 'pants': 1224, 'style': 1225, 'wild': 1226, 'opinion': 1227, 'flight': 1228, 'leader': 1229, 'banged': 1230, 'forced': 1231, 'pushed': 1232, 'gently': 1233, 'okay': 1234, 'thin': 1235, 'fussy': 1236, 'course': 1237, 'swam': 1238, 'faster': 1239, 'fill': 1240, 'admit': 1241, 'disagree': 1242, 'twin': 1243, 'biased': 1244, 'cheat': 1245, 'cancel': 1246, 'eight': 1247, 'jerk': 1248, 'disagreed': 1249, 'gas': 1250, 'ashamed': 1251, 'chicken': 1252, 'smashed': 1253, 'through': 1254, 'wealthy': 1255, 'legal': 1256, 'silent': 1257, 'fainted': 1258, 'guessed': 1259, 'evil': 1260, 'denied': 1261, 'kicked': 1262, 'horrible': 1263, 'doubts': 1264, 'twice': 1265, 'mistaken': 1266, 'outraged': 1267, 'reliable': 1268, 'rumor': 1269, 'staring': 1270, 'stoned': 1271, 'scare': 1272, 'deny': 1273, 'ignored': 1274, 'sells': 1275, 'belong': 1276, 'despise': 1277, 'horses': 1278, 'surrendered': 1279, 'convinced': 1280, 'disgusted': 1281, 'expecting': 1282, 'gift': 1283, 'treat': 1284, 'pathetic': 1285, 'model': 1286, 'clearly': 1287, 'tastes': 1288, 'cousins': 1289, 'flew': 1290, 'uncle': 1291, 'scolded': 1292, 'sold': 1293, 'animals': 1294, 'file': 1295, 'price': 1296, 'congratulations': 1297, 'interrupt': 1298, 'towel': 1299, 'hour': 1300, 'partner': 1301, 'interesting': 1302, 'homework': 1303, 'learned': 1304, 'totally': 1305, 'kidnapped': 1306, 'wouldn': 1307, 'able': 1308, 'color': 1309, 'embarrassed': 1310, 'alarmed': 1311, 'ago': 1312, 'impossible': 1313, 'sour': 1314, 'gray': 1315, 'remove': 1316, 'alarm': 1317, 'lake': 1318, 'sky': 1319, 'ideas': 1320, 'charming': 1321, 'fuse': 1322, 'blown': 1323, 'flexible': 1324, 'top': 1325, 'drawer': 1326, 'yourselves': 1327, 'suddenly': 1328, 'candle': 1329, 'criminal': 1330, 'frightened': 1331, 'humiliated': 1332, 'disappointed': 1333, 'ever': 1334, 'tire': 1335, 'surrounded': 1336, 'courteous': 1337, 'talkative': 1338, 'loudly': 1339, 'raised': 1340, 'brainer': 1341, 'fashionable': 1342, 'handy': 1343, 'courageous': 1344, 'weekend': 1345, 'volume': 1346, 'sweater': 1347, 'phoned': 1348, 'hurried': 1349, 'cop': 1350, 'content': 1351, 'canceled': 1352, 'exercise': 1353, 'panicked': 1354, 'replace': 1355, 'cover': 1356, 'bother': 1357, 'confessed': 1358, 'rice': 1359, 'lips': 1360, 'dieting': 1361, 'engaged': 1362, 'selfish': 1363, 'flat': 1364, 'fact': 1365, 'cloudy': 1366, 'ship': 1367, 'objective': 1368, 'beef': 1369, 'admire': 1370, 'chess': 1371, 'opera': 1372, 'star': 1373, 'risks': 1374, 'understood': 1375, 'member': 1376, 'addicted': 1377, 'obedient': 1378, 'offended': 1379, 'trap': 1380, 'dreams': 1381, 'overslept': 1382, 'blow': 1383, 'dropped': 1384, 'freaked': 1385, 'soccer': 1386, 'winter': 1387, 'ring': 1388, 'ought': 1389, 'plane': 1390, 'tempted': 1391, 'return': 1392, 'delighted': 1393, 'fan': 1394, 'worse': 1395, 'test': 1396, 'business': 1397, 'offer': 1398, 'stuff': 1399, 'before': 1400, 'succeed': 1401, 'grumpy': 1402, 'annoy': 1403, 'judge': 1404, 'outgoing': 1405, 'keeps': 1406, 'slapped': 1407, 'wide': 1408, 'arrested': 1409, 'walking': 1410, 'sun': 1411, 'devastated': 1412, 'speechless': 1413, 'undressing': 1414, 'bargain': 1415, 'lend': 1416, 'prepare': 1417, 'pull': 1418, 'screaming': 1419, 'guest': 1420, 'shook': 1421, 'taken': 1422, 'prude': 1423, 'mercy': 1424, 'hardly': 1425, 'dreamer': 1426, 'mentioned': 1427, 'studied': 1428, 'appreciate': 1429, 'salad': 1430, 'notice': 1431, 'violence': 1432, 'mayor': 1433, 'witness': 1434, 'horrified': 1435, 'volunteer': 1436, 'calling': 1437, 'comfortable': 1438, 'trustworthy': 1439, 'sounded': 1440, 'incredible': 1441, 'irrelevant': 1442, 'its': 1443, 'windy': 1444, 'seeing': 1445, 'changes': 1446, 'repeat': 1447, 'sea': 1448, 'similar': 1449, 'sale': 1450, 'seemed': 1451, 'dishes': 1452, 'teachers': 1453, 'freedom': 1454, 'separated': 1455, 'disloyal': 1456, 'stalling': 1457, 'debt': 1458, 'sweat': 1459, 'breakfast': 1460, 'computer': 1461, 'frustrated': 1462, 'volunteering': 1463, 'company': 1464, 'necessary': 1465, 'complicated': 1466, 'sofa': 1467, 'repair': 1468, 'cards': 1469, 'responded': 1470, 'search': 1471, 'socks': 1472, 'studies': 1473, 'hilarious': 1474, 'weren': 1475, 'five': 1476, 'conceited': 1477, 'screw': 1478, 'others': 1479, 'arms': 1480, 'weapons': 1481, 'earth': 1482, 'pens': 1483, 'brown': 1484, 'kyoto': 1485, 'familiar': 1486, 'pulled': 1487, 'rarely': 1488, 'discouraged': 1489, 'sort': 1490, 'neighbor': 1491, 'emergency': 1492, 'sight': 1493, 'bothering': 1494, 'beginner': 1495, 'prisoner': 1496, 'hurting': 1497, 'challenge': 1498, 'letting': 1499, 'fascinating': 1500, 'bruised': 1501, 'firm': 1502, 'embarrass': 1503, 'continued': 1504, 'vacant': 1505, 'goodbye': 1506, 'nodded': 1507, 'east': 1508, 'sand': 1509, 'loosen': 1510, 'cooks': 1511, 'aboard': 1512, 'hung': 1513, 'north': 1514, 'art': 1515, 'screamed': 1516, 'survived': 1517, 'hiding': 1518, 'fad': 1519, 'alert': 1520, 'sec': 1521, 'panic': 1522, 'math': 1523, 'taxes': 1524, 'struggled': 1525, 'attend': 1526, 'jittery': 1527, 'popular': 1528, 'sloshed': 1529, 'teasing': 1530, 'rule': 1531, 'ironic': 1532, 'urgent': 1533, 'lift': 1534, 'timing': 1535, 'card': 1536, 'plants': 1537, 'fox': 1538, 'morning': 1539, 'snack': 1540, 'faint': 1541, 'handled': 1542, 'women': 1543, 'piano': 1544, 'rose': 1545, 'smelled': 1546, 'bleeding': 1547, 'faithful': 1548, 'homesick': 1549, 'starving': 1550, 'thrilled': 1551, 'nearby': 1552, 'unfair': 1553, 'burn': 1554, 'curse': 1555, 'garbage': 1556, 'genuine': 1557, 'lead': 1558, 'ended': 1559, 'pig': 1560, 'dating': 1561, 'shock': 1562, 'years': 1563, 'passed': 1564, 'respectful': 1565, 'pitch': 1566, 'demented': 1567, 'american': 1568, 'pie': 1569, 'caused': 1570, 'contributed': 1571, 'bananas': 1572, 'clue': 1573, 'salmon': 1574, 'skiing': 1575, 'hiking': 1576, 'nature': 1577, 'object': 1578, 'pool': 1579, 'observant': 1580, 'terrified': 1581, 'painful': 1582, 'saturday': 1583, 'personal': 1584, 'bragging': 1585, 'anyway': 1586, 'suits': 1587, 'vulgar': 1588, 'adopted': 1589, 'till': 1590, 'focus': 1591, 'sinking': 1592, 'mail': 1593, 'racist': 1594, 'form': 1595, 'hint': 1596, 'mug': 1597, 'uneasy': 1598, 'beard': 1599, 'video': 1600, 'prison': 1601, 'borrow': 1602, 'leg': 1603, 'spiders': 1604, 'oysters': 1605, 'protest': 1606, 'painted': 1607, 'attacked': 1608, 'against': 1609, 'astonished': 1610, 'untalented': 1611, 'forgotten': 1612, 'miracle': 1613, 'larger': 1614, 'roses': 1615, 'beauty': 1616, 'appeared': 1617, 'rubbish': 1618, 'helpless': 1619, 'precise': 1620, 'present': 1621, 'balls': 1622, 'solution': 1623, 'ten': 1624, 'writes': 1625, 'tongue': 1626, 'breathe': 1627, 'relieved': 1628, 'resign': 1629, 'voice': 1630, 'learning': 1631, 'hammer': 1632, 'tissue': 1633, 'remembered': 1634, 'seldom': 1635, 'taught': 1636, 'skeptical': 1637, 'zoo': 1638, 'rent': 1639, 'attorney': 1640, 'happening': 1641, 'unusual': 1642, 'tasted': 1643, 'bottle': 1644, 'leaves': 1645, 'tied': 1646, 'moon': 1647, 'exit': 1648, 'salt': 1649, 'each': 1650, 'cautious': 1651, 'wears': 1652, 'remain': 1653, 'rented': 1654, 'giving': 1655, 'cost': 1656, 'prize': 1657, 'punched': 1658, 'blushing': 1659, 'hopeless': 1660, 'crack': 1661, 'attention': 1662, 'brush': 1663, 'teeth': 1664, 'immediately': 1665, 'concentrate': 1666, 'street': 1667, 'reason': 1668, 'remained': 1669, 'arabic': 1670, 'ticket': 1671, 'bowed': 1672, 'insurance': 1673, 'chocolate': 1674, 'novel': 1675, 'beach': 1676, 'regret': 1677, 'month': 1678, 'retire': 1679, 'translate': 1680, 'sunday': 1681, 'fairly': 1682, 'rainy': 1683, 'sunny': 1684, 'umbrella': 1685, 'showed': 1686, 'gain': 1687, 'complaining': 1688, 'guard': 1689, 'soldiers': 1690, 'unique': 1691, 'lady': 1692, 'traitor': 1693, 'obnoxious': 1694, 'robbed': 1695, 'advance': 1696, 'teaches': 1697, 'raking': 1698, 'graduate': 1699, 'schedule': 1700, 'everywhere': 1701, 'photo': 1702, 'outnumbered': 1703, 'punished': 1704, 'aware': 1705, 'garden': 1706, 'depends': 1707, 'world': 1708, 'wall': 1709, 'shop': 1710, 'damage': 1711, 'driver': 1712, 'related': 1713, 'believes': 1714, 'registered': 1715, 'using': 1716, 'robots': 1717, 'knee': 1718, 'exam': 1719, 'comic': 1720, 'report': 1721, 'suggest': 1722, 'strive': 1723, 'christians': 1724, 'service': 1725, 'perfectly': 1726, 'choices': 1727, 'cheers': 1728, 'dozed': 1729, 'waved': 1730, 'beats': 1731, 'rested': 1732, 'lies': 1733, 'west': 1734, 'sober': 1735, 'snowed': 1736, 'fret': 1737, 'south': 1738, 'listened': 1739, 'baking': 1740, 'chubby': 1741, 'strict': 1742, 'cd': 1743, 'safer': 1744, 'jesus': 1745, 'wept': 1746, 'agrees': 1747, 'cds': 1748, 'fail': 1749, 'sensible': 1750, 'watchful': 1751, 'buried': 1752, 'beans': 1753, 'hesitated': 1754, 'recovered': 1755, 'succeeded': 1756, 'third': 1757, 'medic': 1758, 'blessed': 1759, 'falling': 1760, 'furious': 1761, 'stuffed': 1762, 'unarmed': 1763, 'scam': 1764, 'memorize': 1765, 'pity': 1766, 'owns': 1767, 'attentive': 1768, 'evening': 1769, 'donut': 1770, 'bigot': 1771, 'apologized': 1772, 'giddy': 1773, 'liars': 1774, 'honey': 1775, 'games': 1776, 'jokes': 1777, 'wonder': 1778, 'coward': 1779, 'farmer': 1780, 'bluffing': 1781, 'drowning': 1782, 'fearless': 1783, 'grounded': 1784, 'thinking': 1785, 'thorough': 1786, 'identify': 1787, 'deer': 1788, 'wolf': 1789, 'bedtime': 1790, 'pigs': 1791, 'sued': 1792, 'harder': 1793, 'crashed': 1794, 'unbelievable': 1795, 'nerve': 1796, 'ink': 1797, 'bossy': 1798, 'ain': 1799, 'included': 1800, 'questions': 1801, 'reasonable': 1802, 'beware': 1803, 'body': 1804, 'skate': 1805, 'circle': 1806, 'wins': 1807, 'deeply': 1808, 'cookie': 1809, 'hole': 1810, 'eats': 1811, 'fooled': 1812, 'skating': 1813, 'pinched': 1814, 'tokyo': 1815, 'muslim': 1816, 'borrowed': 1817, 'orders': 1818, 'tenure': 1819, 'cheese': 1820, 'yellow': 1821, 'mouse': 1822, 'behave': 1823, 'plumber': 1824, 'tourist': 1825, 'committed': 1826, 'dedicated': 1827, 'desperate': 1828, 'flattered': 1829, 'impatient': 1830, 'miserable': 1831, 'expert': 1832, 'uninsured': 1833, 'takes': 1834, 'relief': 1835, 'gorgeous': 1836, 'outdated': 1837, 'unlikely': 1838, 'seal': 1839, 'active': 1840, 'japan': 1841, 'packing': 1842, 'page': 1843, 'enemies': 1844, 'creepy': 1845, 'hiring': 1846, 'recycle': 1847, 'counts': 1848, 'gambler': 1849, 'corrected': 1850, 'flunk': 1851, 'dislike': 1852, 'gossip': 1853, 'honored': 1854, 'sisters': 1855, 'realize': 1856, 'data': 1857, 'caution': 1858, 'puppy': 1859, 'revenge': 1860, 'careless': 1861, 'guide': 1862, 'successful': 1863, 'remarried': 1864, 'likely': 1865, 'brand': 1866, 'redundant': 1867, 'risky': 1868, 'snap': 1869, 'evident': 1870, 'barked': 1871, 'melted': 1872, 'roof': 1873, 'leaks': 1874, 'annoys': 1875, 'fork': 1876, 'crook': 1877, 'guests': 1878, 'action': 1879, 'standing': 1880, 'tragedy': 1881, 'capsized': 1882, 'insult': 1883, 'meal': 1884, 'prayed': 1885, 'stared': 1886, 'cheating': 1887, 'husband': 1888, 'abhor': 1889, 'cooked': 1890, 'expected': 1891, 'baseball': 1892, 'army': 1893, 'supper': 1894, 'sword': 1895, 'parrot': 1896, 'destroy': 1897, 'celebrating': 1898, 'cracking': 1899, 'defenseless': 1900, 'handed': 1901, 'vacation': 1902, 'manager': 1903, 'modest': 1904, 'season': 1905, 'narrow': 1906, 'negotiate': 1907, 'neither': 1908, 'flinched': 1909, 'bores': 1910, 'calmed': 1911, 'disappeared': 1912, 'typist': 1913, 'assertive': 1914, 'blocked': 1915, 'feared': 1916, 'visited': 1917, 'front': 1918, 'suffered': 1919, 'neighbors': 1920, 'disaster': 1921, 'naughty': 1922, 'barking': 1923, 'cross': 1924, 'wire': 1925, 'juice': 1926, 'costs': 1927, 'useful': 1928, 'stairs': 1929, 'joy': 1930, 'distracted': 1931, 'pajamas': 1932, 'gentleman': 1933, 'minded': 1934, 'unconscious': 1935, 'embarrassing': 1936, 'politely': 1937, 'hybrid': 1938, 'empowered': 1939, 'australia': 1940, 'egg': 1941, 'bar': 1942, 'farm': 1943, 'cousin': 1944, 'between': 1945, 'living': 1946, 'counting': 1947, 'shape': 1948, 'washing': 1949, 'race': 1950, 'informed': 1951, 'compromise': 1952, 'planet': 1953, 'remembers': 1954, 'article': 1955, 'showing': 1956, 'ludicrous': 1957, 'limit': 1958, 'rough': 1959, 'russian': 1960, 'relaxing': 1961, 'sports': 1962, 'monster': 1963, 'headed': 1964, 'considered': 1965, 'mistakes': 1966, 'whatever': 1967, 'younger': 1968, 'add': 1969, 'policeman': 1970, 'pet': 1971, 'sandwich': 1972, 'barely': 1973, 'bolted': 1974, 'intervene': 1975, 'grade': 1976, 'lightly': 1977, 'soaking': 1978, 'other': 1979, 'privacy': 1980, 'colors': 1981, 'hotel': 1982, 'minutes': 1983, 'abroad': 1984, 'shouldn': 1985, 'sometimes': 1986, 'notebook': 1987, 'overwhelmed': 1988, 'worker': 1989, 'wreck': 1990, 'extremely': 1991, 'heavily': 1992, 'unexpected': 1993, 'downtown': 1994, 'none': 1995, 'aggressive': 1996, 'bitterly': 1997, 'disturbing': 1998, 'giggled': 1999, 'worst': 2000, 'handcuffed': 2001, 'meeting': 2002, 'cowards': 2003, 'jacket': 2004, 'problems': 2005, 'european': 2006, 'survivor': 2007, 'offend': 2008, 'desire': 2009, 'hospital': 2010, 'accident': 2011, 'lacks': 2012, 'chinese': 2013, 'address': 2014, 'jail': 2015, 'information': 2016, 'led': 2017, 'pot': 2018, 'offense': 2019, 'kissing': 2020, 'hours': 2021, 'gotten': 2022, 'seven': 2023, 'difficult': 2024, 'urgency': 2025, 'terms': 2026, 'suspicious': 2027, 'bigger': 2028, 'chosen': 2029, 'gunshot': 2030, 'dessert': 2031, 'until': 2032, 'avoiding': 2033, 'enjoying': 2034, 'settling': 2035, 'pretended': 2036, 'sealed': 2037, 'perhaps': 2038, 'elders': 2039, 'weeks': 2040, 'wow': 2041, 'froze': 2042, 'stink': 2043, 'skip': 2044, 'sighed': 2045, 'tidy': 2046, 'aim': 2047, 'bark': 2048, 'cringed': 2049, 'cured': 2050, 'seriously': 2051, 'carry': 2052, 'dig': 2053, 'calls': 2054, 'cpr': 2055, 'humble': 2056, 'paying': 2057, 'pooped': 2058, 'flies': 2059, 'yelled': 2060, 'gloat': 2061, 'coin': 2062, 'chuckled': 2063, 'guts': 2064, 'nerd': 2065, 'adore': 2066, 'taller': 2067, 'nailed': 2068, 'baker': 2069, 'fasting': 2070, 'psyched': 2071, 'puzzled': 2072, 'fatal': 2073, 'split': 2074, 'record': 2075, 'blushed': 2076, 'lame': 2077, 'coughed': 2078, 'listens': 2079, 'sweated': 2080, 'bore': 2081, 'realistic': 2082, 'ghosts': 2083, 'exist': 2084, 'spoon': 2085, 'poet': 2086, 'cranky': 2087, 'sushi': 2088, 'rewrote': 2089, 'lion': 2090, 'suppose': 2091, 'beaten': 2092, 'eighteen': 2093, 'freezing': 2094, 'restless': 2095, 'shooting': 2096, 'unbiased': 2097, 'begun': 2098, 'complex': 2099, 'bounce': 2100, 'forward': 2101, 'security': 2102, 'toys': 2103, 'senior': 2104, 'insecure': 2105, 'runner': 2106, 'diabetic': 2107, 'steal': 2108, 'visa': 2109, 'insist': 2110, 'violin': 2111, 'bacon': 2112, 'support': 2113, 'mask': 2114, 'brief': 2115, 'easygoing': 2116, 'diet': 2117, 'plastered': 2118, 'sensitive': 2119, 'unmarried': 2120, 'voting': 2121, 'bat': 2122, 'wig': 2123, 'apart': 2124, 'flaw': 2125, 'stealing': 2126, 'proceed': 2127, 'shake': 2128, 'beside': 2129, 'quietly': 2130, 'stir': 2131, 'worrying': 2132, 'sweep': 2133, 'differ': 2134, 'dvd': 2135, 'group': 2136, 'hypocrite': 2137, 'contact': 2138, 'holidays': 2139, 'owes': 2140, 'author': 2141, 'decorated': 2142, 'argue': 2143, 'nauseous': 2144, 'spinach': 2145, 'flu': 2146, 'history': 2147, 'picnics': 2148, 'usually': 2149, 'captured': 2150, 'detained': 2151, 'outdoors': 2152, 'testify': 2153, 'freshman': 2154, 'fascinated': 2155, 'quitter': 2156, 'overweight': 2157, 'unemployed': 2158, 'bear': 2159, 'planned': 2160, 'wednesday': 2161, 'snowman': 2162, 'beyond': 2163, 'undamaged': 2164, 'effort': 2165, 'ache': 2166, 'tooth': 2167, 'science': 2168, 'adores': 2169, 'nurse': 2170, 'awkward': 2171, 'sings': 2172, 'angel': 2173, 'wheel': 2174, 'alright': 2175, 'theirs': 2176, 'ford': 2177, 'moron': 2178, 'homeless': 2179, 'sweating': 2180, 'partners': 2181, 'causes': 2182, 'wipe': 2183, 'morons': 2184, 'adjust': 2185, 'ghost': 2186, 'round': 2187, 'bees': 2188, 'police': 2189, 'defend': 2190, 'rub': 2191, 'popcorn': 2192, 'bottom': 2193, 'painter': 2194, 'gloomy': 2195, 'surfing': 2196, 'photogenic': 2197, 'unfortunate': 2198, 'chose': 2199, 'drove': 2200, 'football': 2201, 'teaching': 2202, 'helmet': 2203, 'relied': 2204, 'refund': 2205, 'acquitted': 2206, 'coma': 2207, 'tipsy': 2208, 'begging': 2209, 'cooperating': 2210, 'experienced': 2211, 'heartbroken': 2212, 'interfering': 2213, 'introverted': 2214, 'replaceable': 2215, 'sympathetic': 2216, 'natural': 2217, 'soft': 2218, 'disgrace': 2219, 'shortcut': 2220, 'acceptable': 2221, 'inadequate': 2222, 'tax': 2223, 'terrifying': 2224, 'celebrate': 2225, 'jeans': 2226, 'sticky': 2227, 'breather': 2228, 'peculiar': 2229, 'greeted': 2230, 'reality': 2231, 'handsome': 2232, 'understands': 2233, 'unlock': 2234, 'lack': 2235, 'waffles': 2236, 'retreat': 2237, 'canadians': 2238, 'survivors': 2239, 'pleasure': 2240, 'comb': 2241, 'winner': 2242, 'picky': 2243, 'less': 2244, 'catholic': 2245, 'wizard': 2246, 'cane': 2247, 'excused': 2248, 'spell': 2249, 'climb': 2250, 'digging': 2251, 'dial': 2252, 'deceive': 2253, 'mention': 2254, 'speech': 2255, 'carrots': 2256, 'hunting': 2257, 'hunt': 2258, 'france': 2259, 'lover': 2260, 'grown': 2261, 'struck': 2262, 'pork': 2263, 'computers': 2264, 'surprises': 2265, 'receipt': 2266, 'website': 2267, 'allergies': 2268, 'hay': 2269, 'standards': 2270, 'toothache': 2271, 'knit': 2272, 'elephants': 2273, 'ocean': 2274, 'yolks': 2275, 'band': 2276, 'view': 2277, 'soap': 2278, 'pointed': 2279, 'recommend': 2280, 'rubbed': 2281, 'conservative': 2282, 'america': 2283, 'heading': 2284, 'ignoring': 2285, 'killing': 2286, 'paranoid': 2287, 'overreacting': 2288, 'riddle': 2289, 'threat': 2290, 'belongs': 2291, 'effective': 2292, 'settled': 2293, 'mars': 2294, 'smokes': 2295, 'tiny': 2296, 'numb': 2297, 'stomach': 2298, 'windows': 2299, 'parrots': 2300, 'tb': 2301, 'disliked': 2302, 'spit': 2303, 'upsetting': 2304, 'tank': 2305, 'mystery': 2306, 'smiles': 2307, 'goggles': 2308, 'owners': 2309, 'nightmare': 2310, 'size': 2311, 'mirror': 2312, 'quote': 2313, 'religious': 2314, 'build': 2315, 'copies': 2316, 'scientist': 2317, 'skipped': 2318, 'twisted': 2319, 'journalist': 2320, 'spelled': 2321, 'bathe': 2322, 'brushed': 2323, 'verify': 2324, 'scarf': 2325, 'grades': 2326, 'regrets': 2327, 'joined': 2328, 'hats': 2329, 'volunteers': 2330, 'reserved': 2331, 'signed': 2332, 'bug': 2333, 'apology': 2334, 'gym': 2335, 'total': 2336, 'persuaded': 2337, 'pure': 2338, 'nonstop': 2339, 'depressing': 2340, 'destiny': 2341, 'greasy': 2342, 'dictionary': 2343, 'rage': 2344, 'misses': 2345, 'rats': 2346, 'pretend': 2347, 'rising': 2348, 'gained': 2349, 'teen': 2350, 'solve': 2351, 'alike': 2352, 'temporary': 2353, 'moldy': 2354, 'praying': 2355, 'growing': 2356, 'dawn': 2357, 'changing': 2358, 'happiness': 2359, 'stain': 2360, 'burns': 2361, 'future': 2362, 'telling': 2363, 'storm': 2364, 'flute': 2365, 'invite': 2366, 'murder': 2367, 'tells': 2368, 'choosy': 2369, 'king': 2370, 'traffic': 2371, 'remote': 2372, 'classmate': 2373, 'colleague': 2374, 'memory': 2375, 'position': 2376, 'advise': 2377, 'completely': 2378, 'fond': 2379, 'confirm': 2380, 'responsible': 2381, 'religion': 2382, 'hid': 2383, 'candlelight': 2384, 'mathematics': 2385, 'outfit': 2386, 'spilled': 2387, 'boyfriend': 2388, 'hire': 2389, 'chef': 2390, 'learner': 2391, 'invincible': 2392, 'christian': 2393, 'handcrafted': 2394, 'concern': 2395, 'corner': 2396, 'crowded': 2397, 'fridge': 2398, 'garage': 2399, 'battery': 2400, 'owls': 2401, 'manners': 2402, 'packed': 2403, 'melting': 2404, 'frozen': 2405, 'path': 2406, 'server': 2407, 'cleared': 2408, 'fits': 2409, 'shoelaces': 2410, 'comforted': 2411, 'traveled': 2412, 'lots': 2413, 'turning': 2414, 'hidden': 2415, 'considerate': 2416, 'stranger': 2417, 'vegetables': 2418, 'accepted': 2419, 'opposite': 2420, 'objection': 2421, 'talents': 2422, 'probably': 2423, 'treated': 2424, 'medal': 2425, 'loose': 2426, 'repay': 2427, 'towels': 2428, 'spoiled': 2429, 'hearing': 2430, 'tattoo': 2431, 'slightly': 2432, 'sleeper': 2433, 'wasting': 2434, 'dated': 2435, 'loop': 2436, 'burning': 2437, 'cheek': 2438, 'sipped': 2439, 'squirrel': 2440, 'hop': 2441, 'snore': 2442, 'swore': 2443, 'rise': 2444, 'tries': 2445, 'cursed': 2446, 'seated': 2447, 'dj': 2448, 'sexy': 2449, 'exhaled': 2450, 'inhaled': 2451, 'tripped': 2452, 'loyal': 2453, 'above': 2454, 'below': 2455, 'seize': 2456, 'higher': 2457, 'swiss': 2458, 'absurd': 2459, 'human': 2460, 'shrugged': 2461, 'threw': 2462, 'immune': 2463, 'soaked': 2464, 'wasted': 2465, 'phony': 2466, 'chat': 2467, 'lighten': 2468, 'mama': 2469, 'notes': 2470, 'braked': 2471, 'snores': 2472, 'sunk': 2473, 'shout': 2474, 'flip': 2475, 'nasty': 2476, 'squinted': 2477, 'hunk': 2478, 'slob': 2479, 'monk': 2480, 'exercised': 2481, 'oppose': 2482, 'surrender': 2483, 'baffled': 2484, 'frantic': 2485, 'yen': 2486, 'poison': 2487, 'warmer': 2488, 'means': 2489, 'clap': 2490, 'release': 2491, 'icky': 2492, 'blinked': 2493, 'loss': 2494, 'drew': 2495, 'ramble': 2496, 'avoids': 2497, 'dare': 2498, 'jogging': 2499, 'honor': 2500, 'b': 2501, 'trips': 2502, 'dancer': 2503, 'surfer': 2504, 'adult': 2505, 'cultured': 2506, 'managing': 2507, 'rational': 2508, 'reformed': 2509, 'ticklish': 2510, 'iron': 2511, 'noisy': 2512, 'ladies': 2513, 'itch': 2514, 'recess': 2515, 'shrieked': 2516, 'whining': 2517, 'approve': 2518, 'spy': 2519, 'doomed': 2520, 'heroes': 2521, 'vanished': 2522, 'amuse': 2523, 'moody': 2524, 'futon': 2525, 'approved': 2526, 'despair': 2527, 'peas': 2528, 'dies': 2529, 'haircut': 2530, 'ham': 2531, 'cracked': 2532, 'braces': 2533, 'bled': 2534, 'thrilling': 2535, 'bribed': 2536, 'cough': 2537, 'designed': 2538, 'exaggerated': 2539, 'queasy': 2540, 'reborn': 2541, 'bonus': 2542, 'scammed': 2543, 'rights': 2544, 'sirens': 2545, 'camels': 2546, 'cities': 2547, 'grapes': 2548, 'sweets': 2549, 'trains': 2550, 'autumn': 2551, 'crew': 2552, 'lamp': 2553, 'rescheduled': 2554, 'crushed': 2555, 'drugged': 2556, 'elected': 2557, 'poems': 2558, 'songs': 2559, 'dentist': 2560, 'soldier': 2561, 'surgeon': 2562, 'adaptable': 2563, 'orphan': 2564, 'bilingual': 2565, 'impulsive': 2566, 'strike': 2567, 'surviving': 2568, 'gag': 2569, 'superb': 2570, 'viral': 2571, 'rental': 2572, 'midnight': 2573, 'russia': 2574, 'clapping': 2575, 'shouting': 2576, 'straighten': 2577, 'saturn': 2578, 'myth': 2579, 'doable': 2580, 'untrue': 2581, 'asian': 2582, 'spies': 2583, 'false': 2584, 'violent': 2585, 'wax': 2586, 'sync': 2587, 'ufo': 2588, 'absent': 2589, 'hoot': 2590, 'snob': 2591, 'qualified': 2592, 'avoid': 2593, 'clich': 2594, 'shovel': 2595, 'juggle': 2596, 'gate': 2597, 'tigers': 2598, 'crude': 2599, 'force': 2600, 'tease': 2601, 'tempt': 2602, 'enter': 2603, 'afternoon': 2604, 'lip': 2605, 'dislikes': 2606, 'writer': 2607, 'actor': 2608, 'respects': 2609, 'slacker': 2610, 'ex': 2611, 'con': 2612, 'london': 2613, 'banana': 2614, 'suntan': 2615, 'expelled': 2616, 'stroke': 2617, 'vision': 2618, 'sundays': 2619, 'ranch': 2620, 'voices': 2621, 'hiccup': 2622, 'mahjong': 2623, 'puzzles': 2624, 'stories': 2625, 'turtles': 2626, 'oven': 2627, 'stamp': 2628, 'plead': 2629, 'serve': 2630, 'korean': 2631, 'justice': 2632, 'barefoot': 2633, 'impolite': 2634, 'agony': 2635, 'pardoned': 2636, 'cooperate': 2637, 'musician': 2638, 'salesman': 2639, 'dehydrated': 2640, 'dependable': 2641, 'exercising': 2642, 'firing': 2643, 'meditating': 2644, 'bitter': 2645, 'optimistic': 2646, 'prejudiced': 2647, 'revolting': 2648, 'searching': 2649, 'idiots': 2650, 'tune': 2651, 'choked': 2652, 'bach': 2653, 'swims': 2654, 'teased': 2655, 'hottie': 2656, 'gossiping': 2657, 'grumbling': 2658, 'bunch': 2659, 'tower': 2660, 'logical': 2661, 'snag': 2662, 'bites': 2663, 'tricky': 2664, 'dice': 2665, 'talent': 2666, 'helpful': 2667, 'retaliated': 2668, 'crash': 2669, 'blast': 2670, 'escaping': 2671, 'quitting': 2672, 'retiring': 2673, 'stronger': 2674, 'disgust': 2675, 'screwed': 2676, 'amusing': 2677, 'callous': 2678, 'elusive': 2679, 'obscene': 2680, 'pro': 2681, 'insured': 2682, 'bullet': 2683, 'boil': 2684, 'whistle': 2685, 'mice': 2686, 'hatch': 2687, 'interfere': 2688, 'remind': 2689, 'sheep': 2690, 'bags': 2691, 'danced': 2692, 'acts': 2693, 'ambition': 2694, 'toyota': 2695, 'robot': 2696, 'slowpoke': 2697, 'southpaw': 2698, 'id': 2699, 'mud': 2700, 'bachelor': 2701, 'spain': 2702, 'chickened': 2703, 'dealt': 2704, 'disobeyed': 2705, 'downloaded': 2706, 'feverish': 2707, 'isolated': 2708, 'seizure': 2709, 'fanatics': 2710, 'politics': 2711, 'reptiles': 2712, 'weddings': 2713, 'bruise': 2714, 'laptop': 2715, 'returned': 2716, 'screams': 2717, 'rains': 2718, 'showered': 2719, 'misunderstood': 2720, 'outwitted': 2721, 'biking': 2722, 'scored': 2723, 'vitamins': 2724, 'convicted': 2725, 'dismissed': 2726, 'arrange': 2727, 'assist': 2728, 'addict': 2729, 'detective': 2730, 'foreigner': 2731, 'geologist': 2732, 'housewife': 2733, 'engineer': 2734, 'catching': 2735, 'frying': 2736, 'hardworking': 2737, 'training': 2738, 'ammo': 2739, 'persevering': 2740, 'spontaneous': 2741, 'captain': 2742, 'unconvinced': 2743, 'breathing': 2744, 'river': 2745, 'ages': 2746, 'handmade': 2747, 'outrage': 2748, 'improbable': 2749, 'inevitable': 2750, 'misleading': 2751, 'refreshing': 2752, 'typical': 2753, 'sufficient': 2754, 'humid': 2755, 'lemons': 2756, 'improvise': 2757, 'widow': 2758, 'niece': 2759, 'pour': 2760, 'lid': 2761, 'sharks': 2762, 'forgave': 2763, 'reads': 2764, 'stabbed': 2765, 'roll': 2766, 'nosy': 2767, 'chances': 2768, 'frankly': 2769, 'plastic': 2770, 'puzzle': 2771, 'doubtful': 2772, 'damp': 2773, 'engine': 2774, 'net': 2775, 'cure': 2776, 'pilots': 2777, 'gifts': 2778, 'tailor': 2779, 'deranged': 2780, 'yawn': 2781, 'walls': 2782, 'toes': 2783, 'experts': 2784, 'newcomers': 2785, 'newlyweds': 2786, 'unrelated': 2787, 'treasure': 2788, 'oar': 2789, 'startled': 2790, 'menace': 2791, 'wings': 2792, 'accidents': 2793, 'invisible': 2794, 'welcomed': 2795, 'golfer': 2796, 'maniac': 2797, 'dyslexic': 2798, 'boxing': 2799, 'rabbits': 2800, 'blinds': 2801, 'supply': 2802, 'bridge': 2803, 'delicately': 2804, 'disturb': 2805, 'meals': 2806, 'veggies': 2807, 'hamster': 2808, 'purpose': 2809, 'gardening': 2810, 'flow': 2811, 'croissant': 2812, 'noon': 2813, 'backward': 2814, 'oranges': 2815, 'moves': 2816, 'ratted': 2817, 'scares': 2818, 'bartender': 2819, 'biologist': 2820, 'senile': 2821, 'intelligent': 2822, 'heaven': 2823, 'professor': 2824, 'dumbfounded': 2825, 'reschedule': 2826, 'trout': 2827, 'confiscated': 2828, 'drugs': 2829, 'protected': 2830, 'reasons': 2831, 'halloween': 2832, 'chemistry': 2833, 'hypocrisy': 2834, 'paperwork': 2835, 'request': 2836, 'coughing': 2837, 'gunshots': 2838, 'lifted': 2839, 'adventure': 2840, 'soul': 2841, 'kleenex': 2842, 'blanket': 2843, 'escort': 2844, 'tires': 2845, 'rematch': 2846, 'cream': 2847, 'vengeance': 2848, 'unprepared': 2849, 'demonstrate': 2850, 'clerk': 2851, 'bookkeeper': 2852, 'alcoholic': 2853, 'disorganized': 2854, 'dissatisfied': 2855, 'homeschooled': 2856, 'housesitting': 2857, 'super': 2858, 'euros': 2859, 'trick': 2860, 'freaks': 2861, 'virus': 2862, 'hype': 2863, 'mandatory': 2864, 'habit': 2865, 'tradition': 2866, 'frightening': 2867, 'drug': 2868, 'asia': 2869, 'lower': 2870, 'itchy': 2871, 'pulse': 2872, 'orange': 2873, 'thinks': 2874, 'hassling': 2875, 'rome': 2876, 'italy': 2877, 'despises': 2878, 'insulted': 2879, 'obstinate': 2880, 'rejected': 2881, 'rode': 2882, 'camel': 2883, 'wisely': 2884, 'worships': 2885, 'bench': 2886, 'apologizing': 2887, 'million': 2888, 'explains': 2889, 'issue': 2890, 'curtain': 2891, 'switch': 2892, 'limits': 2893, 'scoffed': 2894, 'artists': 2895, 'deceived': 2896, 'accurate': 2897, 'rabbit': 2898, 'intern': 2899, 'merciless': 2900, 'campus': 2901, 'instead': 2902, 'slower': 2903, 'competed': 2904, 'depend': 2905, 'theory': 2906, 'pictures': 2907, 'ambushed': 2908, 'classmates': 2909, 'eater': 2910, 'seek': 2911, 'score': 2912, 'belt': 2913, 'cheaper': 2914, 'developed': 2915, 'notified': 2916, 'command': 2917, 'x': 2918, 'marks': 2919, 'seventh': 2920, 'unethical': 2921, 'steps': 2922, 'bachelors': 2923, 'ambulance': 2924, 'cocaine': 2925, 'startle': 2926, 'disable': 2927, 'fuss': 2928, 'threaten': 2929, 'goodnight': 2930, 'haste': 2931, 'blackmailed': 2932, 'vase': 2933, 'employs': 2934, 'glanced': 2935, 'grabbed': 2936, 'blond': 2937, 'curly': 2938, 'physicist': 2939, 'forty': 2940, 'incompetent': 2941, 'influential': 2942, 'unrealistic': 2943, 'texted': 2944, 'frugally': 2945, 'requested': 2946, 'sailor': 2947, 'imprisoned': 2948, 'pink': 2949, 'heed': 2950, 'handrail': 2951, 'comfort': 2952, 'chopin': 2953, 'tutor': 2954, 'mosquitoes': 2955, 'hangover': 2956, 'passport': 2957, 'proposal': 2958, 'intend': 2959, 'confidence': 2960, 'adventures': 2961, 'skirt': 2962, 'outlive': 2963, 'picked': 2964, 'ignorance': 2965, 'muscle': 2966, 'ripped': 2967, 'jest': 2968, 'airplane': 2969, 'victory': 2970, 'known': 2971, 'plate': 2972, 'passenger': 2973, 'daydreaming': 2974, 'discredited': 2975, 'flirting': 2976, 'awfully': 2977, 'concentrating': 2978, 'flabbergasted': 2979, 'panicking': 2980, 'uncomfortable': 2981, 'deliberate': 2982, 'horrendous': 2983, 'impressive': 2984, 'flimsy': 2985, 'club': 2986, 'conspiracy': 2987, 'starting': 2988, 'knock': 2989, 'enjoyable': 2990, 'meter': 2991, 'prediction': 2992, 'aching': 2993, 'shoulder': 2994, 'minors': 2995, 'complained': 2996, 'toy': 2997, 'reconsider': 2998, 'unsociable': 2999, 'flower': 3000, 'badgering': 3001, 'following': 3002, 'harassing': 3003, 'wood': 3004, 'rings': 3005, 'classified': 3006, 'exactly': 3007, 'crowd': 3008, 'lemon': 3009, 'market': 3010, 'thick': 3011, 'system': 3012, 'hunted': 3013, 'foxes': 3014, 'released': 3015, 'appalling': 3016, 'offensive': 3017, 'permanent': 3018, 'sickening': 3019, 'fishy': 3020, 'claims': 3021, 'hasn': 3022, 'imitated': 3023, 'minor': 3024, 'peeked': 3025, 'bait': 3026, 'strangled': 3027, 'hose': 3028, 'beers': 3029, 'visit': 3030, 'longer': 3031, 'flaws': 3032, 'p': 3033, 'witnesses': 3034, 'due': 3035, 'battle': 3036, 'handling': 3037, 'killers': 3038, 'pulling': 3039, 'revelation': 3040, 'asking': 3041, 'major': 3042, 'suffer': 3043, 'visitors': 3044, 'stitches': 3045, 'murderer': 3046, 'articulate': 3047, 'mocking': 3048, 'advised': 3049, 'pockets': 3050, 'blog': 3051, 'stones': 3052, 'blanks': 3053, 'acted': 3054, 'breathed': 3055, 'cycling': 3056, 'daydreamer': 3057, 'slim': 3058, 'unimpressed': 3059, 'kilos': 3060, 'aristocrat': 3061, 'overconfident': 3062, 'self': 3063, 'print': 3064, 'museum': 3065, 'absolutely': 3066, 'boiling': 3067, 'prophet': 3068, 'potato': 3069, 'imagine': 3070, 'sin': 3071, 'chilly': 3072, 'loads': 3073, 'roommate': 3074, 'carpet': 3075, 'spare': 3076, 'somewhere': 3077, 'emailed': 3078, 'mission': 3079, 'custom': 3080, 'roast': 3081, 'blamed': 3082, 'oiled': 3083, 'repeated': 3084, 'explosion': 3085, 'sliced': 3086, 'disqualified': 3087, 'stiff': 3088, 'consulted': 3089, 'rusty': 3090, 'beginning': 3091, 'laying': 3092, 'somewhat': 3093, 'supporting': 3094, 'supposed': 3095, 'laid': 3096, 'board': 3097, 'compliment': 3098, 'breaks': 3099, 'astonishing': 3100, 'neat': 3101, 'coincidence': 3102, 'anywhere': 3103, 'knowledge': 3104, 'rephrase': 3105, 'moons': 3106, 'faces': 3107, 'suitcase': 3108, 'bandage': 3109, 'schools': 3110, 'charity': 3111, 'teaser': 3112, 'slip': 3113, 'snails': 3114, 'correcting': 3115, 'losers': 3116, 'tickles': 3117, 'sip': 3118, 'trash': 3119, 'surprising': 3120, 'unimportant': 3121, 'attempt': 3122, 'brightened': 3123, 'th': 3124, 'families': 3125, 'hostages': 3126, 'tents': 3127, 'murdered': 3128, 'peaceful': 3129, 'disposable': 3130, 'painting': 3131, 'contacted': 3132, 'tuck': 3133, 'chartered': 3134, 'wheat': 3135, 'deadline': 3136, 'sacrifices': 3137, 'frequently': 3138, 'passengers': 3139, 'judged': 3140, 'infected': 3141, 'halfway': 3142, 'stock': 3143, 'slowing': 3144, 'unprejudiced': 3145, 'spotted': 3146, 'porcupine': 3147, 'guns': 3148, 'butter': 3149, 'toilet': 3150, 'prevent': 3151, 'yeah': 3152, 'oath': 3153, 'intimidate': 3154, 'racists': 3155, 'touching': 3156, 'four': 3157, 'seats': 3158, 'facebook': 3159, 'banker': 3160, 'habits': 3161, 'served': 3162, 'describe': 3163, 'rare': 3164, 'disconnect': 3165, 'plug': 3166, 'bowling': 3167, 'jewelry': 3168, 'cigars': 3169, 'cocky': 3170, 'blush': 3171, 'scribble': 3172, 'applauded': 3173, 'faults': 3174, 'sorrows': 3175, 'toothpick': 3176, 'piece': 3177, 'journey': 3178, 'averted': 3179, 'gaze': 3180, 'pianist': 3181, 'bragged': 3182, 'burst': 3183, 'tears': 3184, 'willingly': 3185, 'excess': 3186, 'ease': 3187, 'tightly': 3188, 'wearing': 3189, 'jimmied': 3190, 'morocco': 3191, 'response': 3192, 'loses': 3193, 'defeat': 3194, 'cardiologist': 3195, 'behaving': 3196, 'oddly': 3197, 'barks': 3198, 'concert': 3199, 'electrician': 3200, 'older': 3201, 'peel': 3202, 'folded': 3203, 'email': 3204, 'flights': 3205, 'girlfriend': 3206, 'neck': 3207, 'faith': 3208, 'opponents': 3209, 'brewed': 3210, 'costume': 3211, 'most': 3212, 'reservations': 3213, 'doorbell': 3214, 'reviewed': 3215, 'risked': 3216, 'simply': 3217, 'sprang': 3218, 'stepped': 3219, 'tested': 3220, 'value': 3221, 'candor': 3222, 'steak': 3223, 'german': 3224, 'wagon': 3225, 'social': 3226, 'drafting': 3227, 'indebted': 3228, 'progress': 3229, 'either': 3230, 'mood': 3231, 'intimidated': 3232, 'appropriate': 3233, 'locker': 3234, 'snows': 3235, 'bugged': 3236, 'serves': 3237, 'delicious': 3238, 'debate': 3239, 'excruciating': 3240, 'fling': 3241, 'consuming': 3242, 'appointment': 3243, 'alcohol': 3244, 'trees': 3245, 'swollen': 3246, 'package': 3247, 'allies': 3248, 'ends': 3249, 'poaching': 3250, 'believing': 3251, 'natured': 3252, 'sonata': 3253, 'willed': 3254, 'intervened': 3255, 'fooling': 3256, 'tiger': 3257, 'poem': 3258, 'organ': 3259, 'common': 3260, 'coal': 3261, 'closing': 3262, 'faded': 3263, 'tender': 3264, 'zipper': 3265, 'snickered': 3266, 'investors': 3267, 'questioned': 3268, 'thieves': 3269, 'infuriating': 3270, 'favorite': 3271, 'encouraged': 3272, 'salted': 3273, 'text': 3274, 'scandal': 3275, 'oral': 3276, 'anxiously': 3277, 'shortly': 3278, 'conscientious': 3279, 'forest': 3280, 'tempting': 3281, 'fled': 3282, 'cheer': 3283, 'cuff': 3284, 'moaned': 3285, 'chill': 3286, 'prepaid': 3287, 'shouted': 3288, 'poured': 3289, 'dived': 3290, 'knits': 3291, 'rocks': 3292, 'bottoms': 3293, 'whistled': 3294, 'flabby': 3295, 'bogus': 3296, 'bulky': 3297, 'taboo': 3298, 'shadow': 3299, 'cheats': 3300, 'yawned': 3301, 'generous': 3302, 'resigned': 3303, 'faking': 3304, 'assume': 3305, 'tapes': 3306, 'jazz': 3307, 'glue': 3308, 'protested': 3309, 'humming': 3310, 'neutral': 3311, 'foggy': 3312, 'curt': 3313, 'gargled': 3314, 'reacted': 3315, 'snorted': 3316, 'hell': 3317, 'drag': 3318, 'dump': 3319, 'heel': 3320, 'abandon': 3321, 'litter': 3322, 'heroic': 3323, 'mocked': 3324, 'caviar': 3325, 'carded': 3326, 'ax': 3327, 'hives': 3328, 'improvised': 3329, 'r': 3330, 'space': 3331, 'sympathize': 3332, 'canned': 3333, 'framed': 3334, 'weighed': 3335, 'priest': 3336, 'purist': 3337, 'agent': 3338, 'famished': 3339, 'gullible': 3340, 'hungover': 3341, 'rebel': 3342, 'truthful': 3343, 'worn': 3344, 'elk': 3345, 'amazed': 3346, 'heal': 3347, 'plant': 3348, 'hideous': 3349, 'suicide': 3350, 'hip': 3351, 'cared': 3352, 'filming': 3353, 'gawking': 3354, 'whiff': 3355, 'approves': 3356, 'insisted': 3357, 'sniffled': 3358, 'stutters': 3359, 'arabs': 3360, 'starve': 3361, 'adults': 3362, 'gross': 3363, 'drown': 3364, 'mock': 3365, 'sass': 3366, 'exhale': 3367, 'dug': 3368, 'british': 3369, 'grouch': 3370, 'jesuit': 3371, 'tycoon': 3372, 'acquired': 3373, 'classes': 3374, 'poker': 3375, 'unwell': 3376, 'forbid': 3377, 'fought': 3378, 'celery': 3379, 'crowds': 3380, 'flying': 3381, 'clocks': 3382, 'garlic': 3383, 'poetry': 3384, 'yacht': 3385, 'resent': 3386, 'queen': 3387, 'firefox': 3388, 'pony': 3389, 'nights': 3390, 'trainee': 3391, 'obese': 3392, 'parole': 3393, 'organized': 3394, 'resentful': 3395, 'damaged': 3396, 'sickens': 3397, 'bomb': 3398, 'hoax': 3399, 'parody': 3400, 'sequel': 3401, 'instinct': 3402, 'obsolete': 3403, 'occupied': 3404, 'suicidal': 3405, 'mortal': 3406, 'aches': 3407, 'gentle': 3408, 'obeys': 3409, 'livid': 3410, 'cutie': 3411, 'frowning': 3412, 'heap': 3413, 'rad': 3414, 'embraced': 3415, 'pun': 3416, 'basic': 3417, 'graduated': 3418, 'testified': 3419, 'snoring': 3420, 'tools': 3421, 'candy': 3422, 'rebuild': 3423, 'respond': 3424, 'anxious': 3425, 'stalled': 3426, 'winners': 3427, 'bummer': 3428, 'fiasco': 3429, 'hassle': 3430, 'coke': 3431, 'intruding': 3432, 'boats': 3433, 'sink': 3434, 'purr': 3435, 'gasps': 3436, 'lines': 3437, 'birthday': 3438, 'tan': 3439, 'kite': 3440, 'gazed': 3441, 'bankrupt': 3442, 'delicate': 3443, 'jelly': 3444, 'outlaw': 3445, 'henpecked': 3446, 'ached': 3447, 'hungarian': 3448, 'nail': 3449, 'draft': 3450, 'guarantee': 3451, 'mishap': 3452, 'mondays': 3453, 'insects': 3454, 'ironing': 3455, 'karaoke': 3456, 'lawyers': 3457, 'zealots': 3458, 'amnesia': 3459, 'hiccups': 3460, 'thud': 3461, 'almonds': 3462, 'castles': 3463, 'lobster': 3464, 'sashimi': 3465, 'seafood': 3466, 'upstate': 3467, 'lasagna': 3468, 'sunsets': 3469, 'muffins': 3470, 'decline': 3471, 'asap': 3472, 'surgery': 3473, 'predicted': 3474, 'cattle': 3475, 'sneeze': 3476, 'urge': 3477, 'cleaning': 3478, 'hammered': 3479, 'unharmed': 3480, 'memo': 3481, 'scold': 3482, 'merchant': 3483, 'minister': 3484, 'thumbs': 3485, 'farsighted': 3486, 'illiterate': 3487, 'methodical': 3488, 'remodeling': 3489, 'killer': 3490, 'credible': 3491, 'fluke': 3492, 'classic': 3493, 'firefly': 3494, 'ambush': 3495, 'dishonest': 3496, 'forbidden': 3497, 'inspiring': 3498, 'vibrating': 3499, 'frank': 3500, 'clues': 3501, 'mum': 3502, 'joints': 3503, 'itches': 3504, 'tummy': 3505, 'ditched': 3506, 'brains': 3507, 'prudish': 3508, 'types': 3509, 'looker': 3510, 'poking': 3511, 'resisting': 3512, 'flag': 3513, 'quarreled': 3514, 'babies': 3515, 'unsafe': 3516, 'hectic': 3517, 'draws': 3518, 'felon': 3519, 'mason': 3520, 'pilot': 3521, 'tofu': 3522, 'maps': 3523, 'harmless': 3524, 'sauce': 3525, 'rear': 3526, 'landed': 3527, 'couple': 3528, 'letdown': 3529, 'atm': 3530, 'reinstated': 3531, 'anytime': 3532, 'boxes': 3533, 'crows': 3534, 'rap': 3535, 'freak': 3536, 'overdo': 3537, 'fasten': 3538, 'fetch': 3539, 'fold': 3540, 'racket': 3541, 'intrigues': 3542, 'puts': 3543, 'airs': 3544, 'whisky': 3545, 'swindled': 3546, 'comedian': 3547, 'frat': 3548, 'gardener': 3549, 'newcomer': 3550, 'hypnotism': 3551, 'egypt': 3552, 'booked': 3553, 'compete': 3554, 'carp': 3555, 'dried': 3556, 'sunburned': 3557, 'tomatoes': 3558, 'funerals': 3559, 'heat': 3560, 'rug': 3561, 'alibi': 3562, 'dandruff': 3563, 'diabetes': 3564, 'immunity': 3565, 'imagined': 3566, 'lent': 3567, 'cartoons': 3568, 'westerns': 3569, 'interest': 3570, 'barbecue': 3571, 'comedies': 3572, 'eggplant': 3573, 'brownies': 3574, 'internet': 3575, 'caffeine': 3576, 'guidance': 3577, 'tape': 3578, 'shave': 3579, 'bills': 3580, 'orchids': 3581, 'pattern': 3582, 'assaulted': 3583, 'patrol': 3584, 'petrified': 3585, 'double': 3586, 'cameraman': 3587, 'lifeguard': 3588, 'masochist': 3589, 'owl': 3590, 'adventurous': 3591, 'nearsighted': 3592, 'hazardous': 3593, 'poisonous': 3594, 'ethical': 3595, 'option': 3596, 'burnt': 3597, 'enticing': 3598, 'mushroom': 3599, 'travesty': 3600, 'artificial': 3601, 'dirt': 3602, 'loan': 3603, 'secure': 3604, 'scarce': 3605, 'koalas': 3606, 'kites': 3607, 'merry': 3608, 'shrank': 3609, 'shift': 3610, 'grey': 3611, 'natto': 3612, 'objected': 3613, 'october': 3614, 'wonders': 3615, 'planning': 3616, 'rake': 3617, 'admired': 3618, 'graceful': 3619, 'spanish': 3620, 'squabbling': 3621, 'whimpering': 3622, 'pagoda': 3623, 'barbaric': 3624, 'growled': 3625, 'stank': 3626, 'actors': 3627, 'melons': 3628, 'farce': 3629, 'hogwash': 3630, 'private': 3631, 'friday': 3632, 'exaggerates': 3633, 'ipad': 3634, 'client': 3635, 'pirate': 3636, 'player': 3637, 'welder': 3638, 'athletic': 3639, 'likeable': 3640, 'reckless': 3641, 'tireless': 3642, 'tolerant': 3643, 'learns': 3644, 'dazed': 3645, 'falls': 3646, 'sobbing': 3647, 'earned': 3648, 'declared': 3649, 'raw': 3650, 'ponchos': 3651, 'shared': 3652, 'sailing': 3653, 'camp': 3654, 'comedians': 3655, 'fixing': 3656, 'gardeners': 3657, 'gentlemen': 3658, 'incorrect': 3659, 'fools': 3660, 'past': 3661, 'resigning': 3662, 'soulmates': 3663, 'blessing': 3664, 'prospect': 3665, 'weakling': 3666, 'dude': 3667, 'gpa': 3668, 'jello': 3669, 'recover': 3670, 'devil': 3671, 'mustn': 3672, 'atlantis': 3673, 'consult': 3674, 'rip': 3675, 'yell': 3676, 'groans': 3677, 'floating': 3678, 'barber': 3679, 'hobo': 3680, 'recently': 3681, 'picasso': 3682, 'joker': 3683, 'acrobat': 3684, 'shares': 3685, 'soundly': 3686, 'tenacious': 3687, 'historian': 3688, 'nonsmoker': 3689, 'sophomore': 3690, 'sneezed': 3691, 'brazil': 3692, 'witch': 3693, 'weekly': 3694, 'appreciated': 3695, 'budge': 3696, 'reach': 3697, 'disregarded': 3698, 'dilemma': 3699, 'refreshed': 3700, 'goosebumps': 3701, 'diploma': 3702, 'grenade': 3703, 'heartburn': 3704, 'pneumonia': 3705, 'journal': 3706, 'astrology': 3707, 'mysteries': 3708, 'pop': 3709, 'temper': 3710, 'astronomy': 3711, 'libraries': 3712, 'fortune': 3713, 'envelopes': 3714, 'subtitles': 3715, 'planted': 3716, 'require': 3717, 'umbrellas': 3718, 'strongly': 3719, 'divorce': 3720, 'martini': 3721, 'pal': 3722, 'raccoon': 3723, 'scooter': 3724, 'dumbstruck': 3725, 'raffle': 3726, 'gladly': 3727, 'programmer': 3728, 'shutterbug': 3729, 'ambidextrous': 3730, 'freaking': 3731, 'fbi': 3732, 'attic': 3733, 'inviting': 3734, 'beggar': 3735, 'row': 3736, 'sitting': 3737, 'drawn': 3738, 'accessible': 3739, 'excessive': 3740, 'april': 3741, 'snowstorm': 3742, 'sunflower': 3743, 'balmy': 3744, 'conceivable': 3745, 'cooler': 3746, 'fetched': 3747, 'regrettable': 3748, 'transparent': 3749, 'unnecessary': 3750, 'camping': 3751, 'darts': 3752, 'fleas': 3753, 'inbox': 3754, 'stung': 3755, 'oil': 3756, 'pets': 3757, 'pump': 3758, 'ending': 3759, 'defeated': 3760, 'idolized': 3761, 'scene': 3762, 'repulses': 3763, 'shots': 3764, 'pitied': 3765, 'precautions': 3766, 'kindly': 3767, 'avoidable': 3768, 'blackmail': 3769, 'brilliant': 3770, 'idle': 3771, 'affair': 3772, 'tragic': 3773, 'troubling': 3774, 'creaked': 3775, 'jury': 3776, 'mass': 3777, 'icy': 3778, 'singers': 3779, 'amateurs': 3780, 'traitors': 3781, 'insanity': 3782, 'official': 3783, 'puzzling': 3784, 'required': 3785, 'sabotage': 3786, 'shameful': 3787, 'norm': 3788, 'avoided': 3789, 'raft': 3790, 'coughs': 3791, 'charisma': 3792, 'chickens': 3793, 'drummer': 3794, 'gourmet': 3795, 'gymnast': 3796, 'owner': 3797, 'hockey': 3798, 'ponies': 3799, 'sleeps': 3800, 'calmly': 3801, 'steals': 3802, 'swears': 3803, 'abducted': 3804, 'cheerful': 3805, 'selected': 3806, 'unshaven': 3807, 'robbery': 3808, 'speed': 3809, 'swordfish': 3810, 'demand': 3811, 'crisis': 3812, 'injuries': 3813, 'evacuate': 3814, 'withdraw': 3815, 'supplies': 3816, 'downsizing': 3817, 'historians': 3818, 'lifeguards': 3819, 'mates': 3820, 'fails': 3821, 'razor': 3822, 'hamlet': 3823, 'abandoned': 3824, 'distant': 3825, 'failure': 3826, 'lunatic': 3827, 'shivering': 3828, 'zip': 3829, 'leaf': 3830, 'brakes': 3831, 'arrest': 3832, 'nests': 3833, 'elaborate': 3834, 'champagne': 3835, 'click': 3836, 'link': 3837, 'compare': 3838, 'ants': 3839, 'latin': 3840, 'ignorant': 3841, 'petty': 3842, 'fry': 3843, 'rung': 3844, 'carried': 3845, 'chewed': 3846, 'gum': 3847, 'deals': 3848, 'grain': 3849, 'roughly': 3850, 'earns': 3851, 'fills': 3852, 'hanged': 3853, 'ego': 3854, 'remorse': 3855, 'daredevil': 3856, 'dramatist': 3857, 'osaka': 3858, 'land': 3859, 'miles': 3860, 'wakes': 3861, 'raging': 3862, 'ballistic': 3863, 'scripts': 3864, 'buff': 3865, 'timer': 3866, 'undergrad': 3867, 'georgia': 3868, 'tickled': 3869, 'trusting': 3870, 'warnings': 3871, 'darkened': 3872, 'nails': 3873, 'hamburger': 3874, 'baited': 3875, 'hook': 3876, 'bid': 3877, 'cactus': 3878, 'webcam': 3879, 'shelter': 3880, 'register': 3881, 'vulnerable': 3882, 'bee': 3883, 'sting': 3884, 'breakdown': 3885, 'hypocrites': 3886, 'backache': 3887, 'migraine': 3888, 'sailboat': 3889, 'earache': 3890, 'discs': 3891, 'savings': 3892, 'sleeve': 3893, 'jackpot': 3894, 'navy': 3895, 'bitten': 3896, 'challenges': 3897, 'folk': 3898, 'sauerkraut': 3899, 'odds': 3900, 'watermelon': 3901, 'film': 3902, 'dam': 3903, 'earring': 3904, 'balance': 3905, 'hamburgers': 3906, 'performing': 3907, 'album': 3908, 'keyboard': 3909, 'protection': 3910, 'oversleep': 3911, 'silently': 3912, 'paused': 3913, 'pruned': 3914, 'sunrise': 3915, 'swallowed': 3916, 'swept': 3917, 'geography': 3918, 'otherwise': 3919, 'highway': 3920, 'plates': 3921, 'confess': 3922, 'workout': 3923, 'sympathy': 3924, 'mugged': 3925, 'misinformed': 3926, 'trespassing': 3927, 'harvard': 3928, 'shotgun': 3929, 'stick': 3930, 'trainer': 3931, 'salesperson': 3932, 'accountant': 3933, 'astronomer': 3934, 'bringing': 3935, 'pear': 3936, 'irreplaceable': 3937, 'guessing': 3938, 'dubious': 3939, 'evicted': 3940, 'pride': 3941, 'rumors': 3942, 'notarized': 3943, 'warranted': 3944, 'curfew': 3945, 'reward': 3946, 'pieces': 3947, 'ways': 3948, 'cooled': 3949, 'optional': 3950, 'massacre': 3951, 'convenient': 3952, 'disastrous': 3953, 'wobbly': 3954, 'grim': 3955, 'pipe': 3956, 'confidential': 3957, 'nicely': 3958, 'imprecise': 3959, 'unauthorized': 3960, 'onerous': 3961, 'straws': 3962, 'conquers': 3963, 'prevail': 3964, 'online': 3965, 'opposites': 3966, 'attract': 3967, 'production': 3968, 'thorns': 3969, 'figure': 3970, 'attractive': 3971, 'turner': 3972, 'hyperactive': 3973, 'silence': 3974, 'golden': 3975, 'lullaby': 3976, 'scale': 3977, 'aspirin': 3978, 'termites': 3979, 'essential': 3980, 'fir': 3981, 'defense': 3982, 'undeniable': 3983, 'cage': 3984, 'bounced': 3985, 'donkey': 3986, 'brayed': 3987, 'squeaked': 3988, 'rotates': 3989, 'jammed': 3990, 'dull': 3991, 'motor': 3992, 'meager': 3993, 'tactic': 3994, 'gods': 3995, 'deported': 3996, 'cannibals': 3997, 'bucket': 3998, 'coconut': 3999, 'extortion': 4000, 'gibberish': 4001, 'insulting': 4002, 'irregular': 4003, 'justified': 4004, 'pointless': 4005, 'priceless': 4006, 'tasteless': 4007, 'worrisome': 4008, 'silver': 4009, 'thursday': 4010, 'behaved': 4011, 'despised': 4012, 'appear': 4013, 'flinch': 4014, 'expects': 4015, 'iq': 4016, 'iphone': 4017, 'skin': 4018, 'frostbite': 4019, 'jeweller': 4020, 'pushover': 4021, 'teenager': 4022, 'custody': 4023, 'therapy': 4024, 'intolerant': 4025, 'stuttering': 4026, 'unfaithful': 4027, 'trained': 4028, 'sneezes': 4029, 'travels': 4030, 'fanatic': 4031, 'delirious': 4032, 'sarcastic': 4033, 'suffocating': 4034, 'hibernate': 4035, 'acrylic': 4036, 'liquid': 4037, 'vaccine': 4038, 'warrant': 4039, 'suppliers': 4040, 'parks': 4041, 'canoe': 4042, 'journalists': 4043, 'delay': 4044, 'target': 4045, 'arrive': 4046, 'drama': 4047, 'woods': 4048, 'actresses': 4049, 'error': 4050, 'diplomatic': 4051, 'particular': 4052, 'remarkable': 4053, 'scaring': 4054, 'scratched': 4055, 'revolt': 4056, 'brewing': 4057, 'admission': 4058, 'buddhist': 4059, 'believer': 4060, 'attendance': 4061, 'contains': 4062, 'hops': 4063, 'chirping': 4064, 'pillow': 4065, 'rackets': 4066, 'aloud': 4067, 'menu': 4068, 'divide': 4069, 'conquer': 4070, 'copycat': 4071, 'patronize': 4072, 'relaxes': 4073, 'dust': 4074, 'shelf': 4075, 'endorse': 4076, 'breakable': 4077, 'lab': 4078, 'broom': 4079, 'wrench': 4080, 'thanksgiving': 4081, 'od': 4082, 'foolishly': 4083, 'mile': 4084, 'cartwheel': 4085, 'footsteps': 4086, 'fishmonger': 4087, 'witted': 4088, 'heartless': 4089, 'judgement': 4090, 'retaliate': 4091, 'gives': 4092, 'rolled': 4093, 'weighs': 4094, 'lottery': 4095, 'creationist': 4096, 'walker': 4097, 'filthy': 4098, 'critic': 4099, 'ghostwriter': 4100, 'keeper': 4101, 'meth': 4102, 'englishman': 4103, 'pushing': 4104, 'fifty': 4105, 'employed': 4106, 'scapegoat': 4107, 'hedgehogs': 4108, 'torn': 4109, 'sooty': 4110, 'baggage': 4111, 'eludes': 4112, 'untidy': 4113, 'economy': 4114, 'customers': 4115, 'portugal': 4116, 'grilling': 4117, 'chips': 4118, 'peanuts': 4119, 'clutch': 4120, 'impartial': 4121, 'exclude': 4122, 'detest': 4123, 'vodka': 4124, 'miserably': 4125, 'tests': 4126, 'fractured': 4127, 'goat': 4128, 'complaint': 4129, 'telescope': 4130, 'frizzy': 4131, 'appetite': 4132, 'patience': 4133, 'siblings': 4134, 'invoice': 4135, 'rehearse': 4136, 'cameras': 4137, 'nephews': 4138, 'tickets': 4139, 'explosions': 4140, 'jog': 4141, 'redecorated': 4142, 'imagination': 4143, 'irish': 4144, 'disco': 4145, 'raspberries': 4146, 'translating': 4147, 'windsurfing': 4148, 'lived': 4149, 'poverty': 4150, 'bearded': 4151, 'butterflies': 4152, 'fairy': 4153, 'tales': 4154, 'promises': 4155, 'photocopies': 4156, 'mopped': 4157, 'pad': 4158, 'secretary': 4159, 'envelope': 4160, 'lotion': 4161, 'inspiration': 4162, 'doubted': 4163, 'trunk': 4164, 'trumpet': 4165, 'couch': 4166, 'slammed': 4167, 'nine': 4168, 'cigarettes': 4169, 'ankle': 4170, 'unloaded': 4171, 'guitar': 4172, 'paraphrasing': 4173, 'television': 4174, 'election': 4175, 'introduce': 4176, 'mature': 4177, 'photographer': 4178, 'bats': 4179, 'harassed': 4180, 'claustrophobic': 4181, 'singapore': 4182, 'gaining': 4183, 'poorer': 4184, 'health': 4185, 'bathtub': 4186, 'magician': 4187, 'pacifist': 4188, 'delusional': 4189, 'denying': 4190, 'slave': 4191, 'balcony': 4192, 'selling': 4193, 'terribly': 4194, 'unenthusiastic': 4195, 'misjudged': 4196, 'bliss': 4197, 'satisfactory': 4198, 'chained': 4199, 'milkman': 4200, 'improved': 4201, 'deadly': 4202, 'parallel': 4203, 'frustrating': 4204, 'preventable': 4205, 'relevant': 4206, 'extreme': 4207, 'distraction': 4208, 'possibility': 4209, 'proven': 4210, 'typo': 4211, 'vague': 4212, 'experiment': 4213, 'investment': 4214, 'recipe': 4215, 'booby': 4216, 'bound': 4217, 'disappointing': 4218, 'disconcerting': 4219, 'heartbreaking': 4220, 'brass': 4221, 'merely': 4222, 'disease': 4223, 'pertinent': 4224, 'unforgettable': 4225, 'valuable': 4226, 'greece': 4227, 'profile': 4228, 'lesson': 4229, 'trade': 4230, 'squabble': 4231, 'focused': 4232, 'monopolies': 4233, 'universal': 4234, 'budget': 4235, 'meows': 4236, 'fuel': 4237, 'goals': 4238, 'lofty': 4239, 'mailbox': 4240, 'immortal': 4241, 'forever': 4242, 'restored': 4243, 'strength': 4244, 'postcard': 4245, 'aid': 4246, 'pigeon': 4247, 'toed': 4248, 'ghostly': 4249, 'lonesome': 4250, 'antiques': 4251, 'happily': 4252, 'supermodel': 4253, 'warning': 4254, 'intent': 4255, 'promising': 4256, 'immature': 4257, 'maximum': 4258, 'area': 4259, 'stale': 4260, 'case': 4261, 'coast': 4262, 'crow': 4263, 'doorknob': 4264, 'flame': 4265, 'muddy': 4266, 'fog': 4267, 'caved': 4268, 'drying': 4269, 'backfired': 4270, 'stars': 4271, 'telephone': 4272, 'waves': 4273, 'carnations': 4274, 'shaggy': 4275, 'triangle': 4276, 'astounding': 4277, 'project': 4278, 'outlandish': 4279, 'outrageous': 4280, 'plagiarism': 4281, 'unbearable': 4282, 'tighten': 4283, 'instantly': 4284, 'lemonade': 4285, 'unwanted': 4286, 'headaches': 4287, 'groaned': 4288, 'mustache': 4289, 'john': 4290, 'candidate': 4291, 'carpenter': 4292, 'librarian': 4293, 'machinist': 4294, 'imposter': 4295, 'competitive': 4296, 'parent': 4297, 'names': 4298, 'partying': 4299, 'potatoes': 4300, 'pays': 4301, 'drum': 4302, 'refuses': 4303, 'stressed': 4304, 'crusader': 4305, 'unbeatable': 4306, 'unreliable': 4307, 'victorious': 4308, 'payday': 4309, 'affects': 4310, 'argued': 4311, 'chatted': 4312, 'contract': 4313, 'strategy': 4314, 'assistance': 4315, 'sacrifice': 4316, 'undefeated': 4317, 'convince': 4318, 'writers': 4319, 'contributing': 4320, 'honeymooning': 4321, 'agreement': 4322, 'saving': 4323, 'pumpkin': 4324, 'station': 4325, 'funeral': 4326, 'bakery': 4327, 'float': 4328, 'sulking': 4329, 'scar': 4330, 'softy': 4331, 'gal': 4332, 'princess': 4333, 'wimp': 4334, 'imminent': 4335, 'stray': 4336, 'whale': 4337, 'mammal': 4338, 'acid': 4339, 'metals': 4340, 'sales': 4341, 'final': 4342, 'anyhow': 4343, 'ducks': 4344, 'jellyfish': 4345, 'absorbs': 4346, 'bunnies': 4347, 'button': 4348, 'credit': 4349, 'rooms': 4350, 'chew': 4351, 'chivalry': 4352, 'lap': 4353, 'complaints': 4354, 'increasing': 4355, 'cyprus': 4356, 'island': 4357, 'tip': 4358, 'detect': 4359, 'sarcasm': 4360, 'slam': 4361, 'grandma': 4362, 'samosa': 4363, 'grief': 4364, 'abused': 4365, 'irritated': 4366, 'boarded': 4367, 'chased': 4368, 'illness': 4369, 'ferrari': 4370, 'sigh': 4371, 'bleed': 4372, 'square': 4373, 'jaw': 4374, 'mutton': 4375, 'chops': 4376, 'hoped': 4377, 'fellow': 4378, 'apt': 4379, 'indeed': 4380, 'rugby': 4381, 'lean': 4382, 'sociable': 4383, 'experience': 4384, 'motivation': 4385, 'lays': 4386, 'wisecrack': 4387, 'motioned': 4388, 'muttered': 4389, 'cages': 4390, 'reached': 4391, 'sixty': 4392, 'saluted': 4393, 'shined': 4394, 'swearing': 4395, 'ohio': 4396, 'chain': 4397, 'smoker': 4398, 'kisser': 4399, 'bloomer': 4400, 'cannon': 4401, 'scriptwriter': 4402, 'fifties': 4403, 'kitchen': 4404, 'sentry': 4405, 'public': 4406, 'cheeks': 4407, 'pudding': 4408, 'honesty': 4409, 'virtue': 4410, 'thai': 4411, 'reunion': 4412, 'wedding': 4413, 'swimmer': 4414, 'noodles': 4415, 'peeling': 4416, 'director': 4417, 'vip': 4418, 'gauge': 4419, 'collect': 4420, 'postcards': 4421, 'checking': 4422, 'research': 4423, 'cent': 4424, 'bribes': 4425, 'cereal': 4426, 'radios': 4427, 'fully': 4428, 'premonition': 4429, 'nowhere': 4430, 'uniform': 4431, 'dishwasher': 4432, 'runny': 4433, 'appendicitis': 4434, 'eyesight': 4435, 'chapped': 4436, 'lucid': 4437, 'elbow': 4438, 'woodpecker': 4439, 'highly': 4440, 'sees': 4441, 'attitude': 4442, 'chairs': 4443, 'italian': 4444, 'blackberries': 4445, 'managed': 4446, 'medical': 4447, 'hangers': 4448, 'instructions': 4449, 'colds': 4450, 'property': 4451, 'received': 4452, 'revised': 4453, 'motion': 4454, 'backwards': 4455, 'suppressed': 4456, 'medicine': 4457, 'wanna': 4458, 'given': 4459, 'schooled': 4460, 'usual': 4461, 'sack': 4462, 'tolerate': 4463, 'daiquiri': 4464, 'skim': 4465, 'kick': 4466, 'butt': 4467, 'patiently': 4468, 'perfectionist': 4469, 'building': 4470, 'thirst': 4471, 'apartment': 4472, 'underwear': 4473, 'basement': 4474, 'bathroom': 4475, 'incredibly': 4476, 'loner': 4477, 'blaming': 4478, 'disagreeing': 4479, 'presentable': 4480, 'customer': 4481, 'practice': 4482, 'practising': 4483, 'judo': 4484, 'undecided': 4485, 'victim': 4486, 'figured': 4487, 'worries': 4488, 'comprehensive': 4489, 'laundry': 4490, 'significant': 4491, 'jasmine': 4492, 'permissible': 4493, 'profitable': 4494, 'childish': 4495, 'drizzle': 4496, 'bothers': 4497, 'cow': 4498, 'shark': 4499, 'uses': 4500, 'solar': 4501, 'hunch': 4502, 'magic': 4503, 'cause': 4504, 'brain': 4505, 'comedy': 4506, 'dreary': 4507, 'slippery': 4508, 'eleven': 4509, 'arranged': 4510, 'backpack': 4511, 'fantasy': 4512, 'placebo': 4513, 'non': 4514, 'refundable': 4515, 'negotiable': 4516, 'subjective': 4517, 'clunky': 4518, 'limbo': 4519, 'stuffy': 4520, 'unbearably': 4521, 'asians': 4522, 'jupiter': 4523, 'overreact': 4524, 'fianc': 4525, 'e': 4526, 'napkin': 4527, 'merlin': 4528, 'monkeys': 4529, 'mozart': 4530, 'passion': 4531, 'aunt': 4532, 'catnip': 4533, 'shrimp': 4534, 'gritty': 4535, 'gums': 4536, 'complete': 4537, 'throat': 4538, 'trousers': 4539, 'whole': 4540, 'items': 4541, 'dances': 4542, 'supported': 4543, 'excluded': 4544, 'nutritious': 4545, 'ostriches': 4546, 'limited': 4547, 'mumble': 4548, 'boards': 4549, 'boiled': 4550, 'chatterbox': 4551, 'mannered': 4552, 'skinned': 4553, 'laced': 4554, 'shinjuku': 4555, 'shaved': 4556, 'buys': 4557, 'blonde': 4558, 'poisoned': 4559, 'penniless': 4560, 'snakes': 4561, 'someday': 4562, 'scales': 4563, 'taxis': 4564, 'thailand': 4565, 'info': 4566, 'unavoidable': 4567, 'suffice': 4568, 'months': 4569, 'imitation': 4570, 'discouraging': 4571, 'reasoning': 4572, 'specialty': 4573, 'original': 4574, 'uncommon': 4575, 'preposterous': 4576, 'ringing': 4577, 'blouse': 4578, 'cheering': 4579, 'ceased': 4580, 'crops': 4581, 'drooling': 4582, 'folder': 4583, 'decent': 4584, 'dusty': 4585, 'ground': 4586, 'rags': 4587, 'monkey': 4588, 'shining': 4589, 'deepens': 4590, 'leaked': 4591, 'pond': 4592, 'stakes': 4593, 'bare': 4594, 'abated': 4595, 'howling': 4596, 'knives': 4597, 'spoons': 4598, 'motive': 4599, 'condition': 4600, 'elevator': 4601, 'chorus': 4602, 'minds': 4603, 'forum': 4604, 'grave': 4605, 'newspaper': 4606, 'devastating': 4607, 'handbag': 4608, 'inefficient': 4609, 'indian': 4610, 'mango': 4611, 'sheet': 4612, 'tin': 4613, 'metal': 4614, 'collects': 4615, 'comics': 4616, 'struggle': 4617, 'pacemaker': 4618, 'tonsillitis': 4619, 'biochemist': 4620, 'diver': 4621, 'lumberjack': 4622, 'pharmacist': 4623, 'politician': 4624, 'anarchist': 4625, 'architect': 4626, 'astronaut': 4627, 'economist': 4628, 'inspector': 4629, 'level': 4630, 'multilingual': 4631, 'presumptuous': 4632, 'youngest': 4633, 'gifted': 4634, 'cave': 4635, 'banjo': 4636, 'prefers': 4637, 'blondes': 4638, 'sorted': 4639, 'shaking': 4640, 'cellmate': 4641, 'traumatized': 4642, 'silk': 4643, 'ties': 4644, 'contest': 4645, 'races': 4646, 'overtime': 4647, 'coffees': 4648, 'concerns': 4649, 'language': 4650, 'teams': 4651, 'ourselves': 4652, 'situation': 4653, 'inform': 4654, 'among': 4655, 'strangers': 4656, 'champions': 4657, 'bizarre': 4658, 'opportunity': 4659, 'brunch': 4660, 'sunset': 4661}\n"
     ]
    }
   ],
   "source": [
    "print(eng_tokenizer.word_index)"
   ]
  },
  {
   "cell_type": "code",
   "execution_count": 11,
   "metadata": {},
   "outputs": [
    {
     "data": {
      "text/plain": [
       "[[30, 1], [1132, 1], [1132, 1]]"
      ]
     },
     "execution_count": 11,
     "metadata": {},
     "output_type": "execute_result"
    }
   ],
   "source": [
    "input_text = eng_tokenizer.texts_to_sequences(lines.eng)\n",
    "input_text[:3]"
   ]
  },
  {
   "cell_type": "code",
   "execution_count": 12,
   "metadata": {},
   "outputs": [],
   "source": [
    "fra_tokenizer = Tokenizer()\n",
    "fra_tokenizer.fit_on_texts(lines.fra)\n",
    "target_text = fra_tokenizer.texts_to_sequences(lines.fra)"
   ]
  },
  {
   "cell_type": "code",
   "execution_count": 13,
   "metadata": {},
   "outputs": [
    {
     "data": {
      "text/plain": [
       "[[1, 91, 12, 2], [1, 1068, 12, 2], [1, 1068, 3, 2]]"
      ]
     },
     "execution_count": 13,
     "metadata": {},
     "output_type": "execute_result"
    }
   ],
   "source": [
    "target_text[:3]"
   ]
  },
  {
   "cell_type": "code",
   "execution_count": 14,
   "metadata": {},
   "outputs": [
    {
     "name": "stdout",
     "output_type": "stream",
     "text": [
      "영어 단어장의 크기 : 4662\n",
      "프랑스어 단어장의 크기 : 7326\n"
     ]
    }
   ],
   "source": [
    "eng_vocab_size = len(eng_tokenizer.word_index) + 1\n",
    "fra_vocab_size = len(fra_tokenizer.word_index) + 1\n",
    "print('영어 단어장의 크기 :', eng_vocab_size)\n",
    "print('프랑스어 단어장의 크기 :', fra_vocab_size)"
   ]
  },
  {
   "cell_type": "code",
   "execution_count": 15,
   "metadata": {},
   "outputs": [
    {
     "name": "stdout",
     "output_type": "stream",
     "text": [
      "영어 시퀀스의 최대 길이 8\n",
      "프랑스어 시퀀스의 최대 길이 17\n"
     ]
    }
   ],
   "source": [
    "max_eng_seq_len = max([len(line) for line in input_text])\n",
    "max_fra_seq_len = max([len(line) for line in target_text])\n",
    "print('영어 시퀀스의 최대 길이', max_eng_seq_len)\n",
    "print('프랑스어 시퀀스의 최대 길이', max_fra_seq_len)"
   ]
  },
  {
   "cell_type": "code",
   "execution_count": 16,
   "metadata": {},
   "outputs": [
    {
     "name": "stdout",
     "output_type": "stream",
     "text": [
      "전체 샘플의 수 : 33000\n",
      "영어 단어장의 크기 : 4662\n",
      "프랑스어 단어장의 크기 : 7326\n",
      "영어 시퀀스의 최대 길이 8\n",
      "프랑스어 시퀀스의 최대 길이 17\n"
     ]
    }
   ],
   "source": [
    "print('전체 샘플의 수 :',len(lines))\n",
    "print('영어 단어장의 크기 :', eng_vocab_size)\n",
    "print('프랑스어 단어장의 크기 :', fra_vocab_size)\n",
    "print('영어 시퀀스의 최대 길이', max_eng_seq_len)\n",
    "print('프랑스어 시퀀스의 최대 길이', max_fra_seq_len)"
   ]
  },
  {
   "cell_type": "markdown",
   "metadata": {},
   "source": [
    "### for teacher forcing"
   ]
  },
  {
   "cell_type": "code",
   "execution_count": 17,
   "metadata": {},
   "outputs": [],
   "source": [
    "sos_token = '<start>'\n",
    "eos_token = '<end>'\n",
    "\n",
    "encoder_input = input_text\n",
    "# 종료 토큰 제거\n",
    "decoder_input = [[ char for char in line if char != fra_tokenizer.word_index[eos_token] ] for line in target_text] \n",
    "# 시작 토큰 제거\n",
    "decoder_target = [[ char for char in line if char != fra_tokenizer.word_index[sos_token] ] for line in target_text]"
   ]
  },
  {
   "cell_type": "markdown",
   "metadata": {},
   "source": [
    "### padding"
   ]
  },
  {
   "cell_type": "code",
   "execution_count": 19,
   "metadata": {},
   "outputs": [
    {
     "name": "stdout",
     "output_type": "stream",
     "text": [
      "영어 데이터의 크기(shape) : (33000, 8)\n",
      "프랑스어 입력데이터의 크기(shape) : (33000, 17)\n",
      "프랑스어 출력데이터의 크기(shape) : (33000, 17)\n"
     ]
    }
   ],
   "source": [
    "encoder_input = pad_sequences(encoder_input, maxlen = max_eng_seq_len, padding='post')\n",
    "decoder_input = pad_sequences(decoder_input, maxlen = max_fra_seq_len, padding='post')\n",
    "decoder_target = pad_sequences(decoder_target, maxlen = max_fra_seq_len, padding='post')\n",
    "print('영어 데이터의 크기(shape) :',np.shape(encoder_input))\n",
    "print('프랑스어 입력데이터의 크기(shape) :',np.shape(decoder_input))\n",
    "print('프랑스어 출력데이터의 크기(shape) :',np.shape(decoder_target))"
   ]
  },
  {
   "cell_type": "markdown",
   "metadata": {},
   "source": [
    "### train validation split "
   ]
  },
  {
   "cell_type": "code",
   "execution_count": 20,
   "metadata": {},
   "outputs": [],
   "source": [
    "indices = np.arange(encoder_input.shape[0])\n",
    "np.random.shuffle(indices)\n",
    "\n",
    "encoder_input = encoder_input[indices]\n",
    "decoder_input = decoder_input[indices]\n",
    "decoder_target = decoder_target[indices]"
   ]
  },
  {
   "cell_type": "code",
   "execution_count": 21,
   "metadata": {},
   "outputs": [
    {
     "name": "stdout",
     "output_type": "stream",
     "text": [
      "(30000, 8)\n",
      "(30000, 17)\n",
      "(30000, 17)\n",
      "(3000, 8)\n",
      "(3000, 17)\n",
      "(3000, 17)\n"
     ]
    }
   ],
   "source": [
    "n_of_val = 3000\n",
    "\n",
    "encoder_input_train = encoder_input[:-n_of_val]\n",
    "decoder_input_train = decoder_input[:-n_of_val]\n",
    "decoder_target_train = decoder_target[:-n_of_val]\n",
    "\n",
    "encoder_input_test = encoder_input[-n_of_val:]\n",
    "decoder_input_test = decoder_input[-n_of_val:]\n",
    "decoder_target_test = decoder_target[-n_of_val:]\n",
    "\n",
    "print(encoder_input_train.shape)\n",
    "print(decoder_input_train.shape)\n",
    "print(decoder_target_train.shape)\n",
    "print(encoder_input_test.shape)\n",
    "print(decoder_input_test.shape)\n",
    "print(decoder_target_test.shape)"
   ]
  },
  {
   "cell_type": "markdown",
   "metadata": {},
   "source": [
    "## Train"
   ]
  },
  {
   "cell_type": "markdown",
   "metadata": {},
   "source": [
    "### encoder"
   ]
  },
  {
   "cell_type": "code",
   "execution_count": 22,
   "metadata": {},
   "outputs": [],
   "source": [
    "encoder_inputs = Input(shape=(None,))\n",
    "# encoder embedding\n",
    "enc_emb = Embedding(eng_vocab_size, 256, input_length=max_eng_seq_len)(encoder_inputs)\n",
    "enc_masking = Masking(mask_value=0.0)(enc_emb)\n",
    "encoder_lstm = LSTM(units = 256, return_state = True)\n",
    "encoder_outputs, state_h, state_c = encoder_lstm(enc_masking)\n",
    "encoder_states = [state_h, state_c]"
   ]
  },
  {
   "cell_type": "markdown",
   "metadata": {},
   "source": [
    "### decoder"
   ]
  },
  {
   "cell_type": "code",
   "execution_count": 23,
   "metadata": {},
   "outputs": [],
   "source": [
    "decoder_inputs = Input(shape=(None,))\n",
    "# decoder embedding\n",
    "dec_emb = Embedding(fra_vocab_size, 256)(decoder_inputs)\n",
    "dec_masking = Masking(mask_value=0.0)(dec_emb)\n",
    "decoder_lstm = LSTM(units = 256, return_sequences = True, return_state=True)\n",
    "decoder_outputs, _, _= decoder_lstm(dec_masking, initial_state = encoder_states)\n",
    "\n",
    "decoder_softmax_layer = Dense(fra_vocab_size, activation='softmax')\n",
    "decoder_outputs = decoder_softmax_layer(decoder_outputs)"
   ]
  },
  {
   "cell_type": "code",
   "execution_count": 24,
   "metadata": {},
   "outputs": [
    {
     "name": "stdout",
     "output_type": "stream",
     "text": [
      "Model: \"functional_1\"\n",
      "__________________________________________________________________________________________________\n",
      "Layer (type)                    Output Shape         Param #     Connected to                     \n",
      "==================================================================================================\n",
      "input_1 (InputLayer)            [(None, None)]       0                                            \n",
      "__________________________________________________________________________________________________\n",
      "input_2 (InputLayer)            [(None, None)]       0                                            \n",
      "__________________________________________________________________________________________________\n",
      "embedding (Embedding)           (None, None, 256)    1193472     input_1[0][0]                    \n",
      "__________________________________________________________________________________________________\n",
      "embedding_1 (Embedding)         (None, None, 256)    1875456     input_2[0][0]                    \n",
      "__________________________________________________________________________________________________\n",
      "masking (Masking)               (None, None, 256)    0           embedding[0][0]                  \n",
      "__________________________________________________________________________________________________\n",
      "masking_1 (Masking)             (None, None, 256)    0           embedding_1[0][0]                \n",
      "__________________________________________________________________________________________________\n",
      "lstm (LSTM)                     [(None, 256), (None, 525312      masking[0][0]                    \n",
      "__________________________________________________________________________________________________\n",
      "lstm_1 (LSTM)                   [(None, None, 256),  525312      masking_1[0][0]                  \n",
      "                                                                 lstm[0][1]                       \n",
      "                                                                 lstm[0][2]                       \n",
      "__________________________________________________________________________________________________\n",
      "dense (Dense)                   (None, None, 7326)   1882782     lstm_1[0][0]                     \n",
      "==================================================================================================\n",
      "Total params: 6,002,334\n",
      "Trainable params: 6,002,334\n",
      "Non-trainable params: 0\n",
      "__________________________________________________________________________________________________\n"
     ]
    }
   ],
   "source": [
    "model = Model([encoder_inputs, decoder_inputs], decoder_outputs)\n",
    "model.summary()"
   ]
  },
  {
   "cell_type": "code",
   "execution_count": 25,
   "metadata": {},
   "outputs": [],
   "source": [
    "model.compile(optimizer=\"rmsprop\", loss='sparse_categorical_crossentropy', metrics=['acc'])"
   ]
  },
  {
   "cell_type": "code",
   "execution_count": 26,
   "metadata": {},
   "outputs": [
    {
     "name": "stdout",
     "output_type": "stream",
     "text": [
      "Epoch 1/50\n",
      "938/938 [==============================] - 19s 21ms/step - loss: 1.5271 - acc: 0.7613 - val_loss: 1.2567 - val_acc: 0.8019\n",
      "Epoch 2/50\n",
      "938/938 [==============================] - 18s 19ms/step - loss: 1.1435 - acc: 0.8166 - val_loss: 1.0918 - val_acc: 0.8274\n",
      "Epoch 3/50\n",
      "938/938 [==============================] - 18s 19ms/step - loss: 1.0098 - acc: 0.8352 - val_loss: 0.9972 - val_acc: 0.8398\n",
      "Epoch 4/50\n",
      "938/938 [==============================] - 18s 19ms/step - loss: 0.9203 - acc: 0.8476 - val_loss: 0.9353 - val_acc: 0.8481\n",
      "Epoch 5/50\n",
      "938/938 [==============================] - 18s 19ms/step - loss: 0.8537 - acc: 0.8578 - val_loss: 0.8928 - val_acc: 0.8538\n",
      "Epoch 6/50\n",
      "938/938 [==============================] - 18s 19ms/step - loss: 0.7982 - acc: 0.8663 - val_loss: 0.8583 - val_acc: 0.8599\n",
      "Epoch 7/50\n",
      "938/938 [==============================] - 18s 19ms/step - loss: 0.7557 - acc: 0.8742 - val_loss: 0.8393 - val_acc: 0.8647\n",
      "Epoch 8/50\n",
      "938/938 [==============================] - 18s 19ms/step - loss: 0.7217 - acc: 0.8809 - val_loss: 0.8259 - val_acc: 0.8668\n",
      "Epoch 9/50\n",
      "938/938 [==============================] - 18s 19ms/step - loss: 0.6948 - acc: 0.8870 - val_loss: 0.8178 - val_acc: 0.8705\n",
      "Epoch 10/50\n",
      "938/938 [==============================] - 18s 19ms/step - loss: 0.6767 - acc: 0.8924 - val_loss: 0.8174 - val_acc: 0.8733\n",
      "Epoch 11/50\n",
      "938/938 [==============================] - 18s 19ms/step - loss: 0.6663 - acc: 0.8972 - val_loss: 0.8227 - val_acc: 0.8733\n",
      "Epoch 12/50\n",
      "938/938 [==============================] - 18s 19ms/step - loss: 0.6500 - acc: 0.9010 - val_loss: 0.8076 - val_acc: 0.8756\n",
      "Epoch 13/50\n",
      "938/938 [==============================] - 18s 19ms/step - loss: 0.6324 - acc: 0.9047 - val_loss: 0.8021 - val_acc: 0.8764\n",
      "Epoch 14/50\n",
      "938/938 [==============================] - 18s 19ms/step - loss: 0.6148 - acc: 0.9082 - val_loss: 0.8043 - val_acc: 0.8772\n",
      "Epoch 15/50\n",
      "938/938 [==============================] - 18s 19ms/step - loss: 0.6081 - acc: 0.9105 - val_loss: 0.8090 - val_acc: 0.8781\n",
      "Epoch 16/50\n",
      "938/938 [==============================] - 18s 19ms/step - loss: 0.6019 - acc: 0.9132 - val_loss: 0.8118 - val_acc: 0.8786\n",
      "Epoch 17/50\n",
      "938/938 [==============================] - 18s 19ms/step - loss: 0.5908 - acc: 0.9153 - val_loss: 0.8064 - val_acc: 0.8784\n",
      "Epoch 18/50\n",
      "938/938 [==============================] - 18s 19ms/step - loss: 0.5807 - acc: 0.9175 - val_loss: 0.8120 - val_acc: 0.8796\n",
      "Epoch 19/50\n",
      "938/938 [==============================] - 18s 19ms/step - loss: 0.5757 - acc: 0.9188 - val_loss: 0.8134 - val_acc: 0.8793\n",
      "Epoch 20/50\n",
      "938/938 [==============================] - 18s 19ms/step - loss: 0.5694 - acc: 0.9210 - val_loss: 0.8128 - val_acc: 0.8810\n",
      "Epoch 21/50\n",
      "938/938 [==============================] - 18s 19ms/step - loss: 0.5604 - acc: 0.9220 - val_loss: 0.8092 - val_acc: 0.8812\n",
      "Epoch 22/50\n",
      "938/938 [==============================] - 18s 19ms/step - loss: 0.5525 - acc: 0.9235 - val_loss: 0.8081 - val_acc: 0.8800\n",
      "Epoch 23/50\n",
      "938/938 [==============================] - 18s 19ms/step - loss: 0.5455 - acc: 0.9241 - val_loss: 0.8063 - val_acc: 0.8812\n",
      "Epoch 24/50\n",
      "938/938 [==============================] - 18s 19ms/step - loss: 0.5393 - acc: 0.9251 - val_loss: 0.8033 - val_acc: 0.8810\n",
      "Epoch 25/50\n",
      "938/938 [==============================] - 18s 19ms/step - loss: 0.5327 - acc: 0.9261 - val_loss: 0.8030 - val_acc: 0.8803\n",
      "Epoch 26/50\n",
      "938/938 [==============================] - 18s 20ms/step - loss: 0.5266 - acc: 0.9269 - val_loss: 0.8026 - val_acc: 0.8806\n",
      "Epoch 27/50\n",
      "938/938 [==============================] - 17s 18ms/step - loss: 0.5209 - acc: 0.9278 - val_loss: 0.7988 - val_acc: 0.8825\n",
      "Epoch 28/50\n",
      "938/938 [==============================] - 18s 19ms/step - loss: 0.5132 - acc: 0.9286 - val_loss: 0.7988 - val_acc: 0.8820\n",
      "Epoch 29/50\n",
      "938/938 [==============================] - 18s 19ms/step - loss: 0.5082 - acc: 0.9293 - val_loss: 0.7987 - val_acc: 0.8814\n",
      "Epoch 30/50\n",
      "938/938 [==============================] - 18s 19ms/step - loss: 0.5042 - acc: 0.9296 - val_loss: 0.7976 - val_acc: 0.8816\n",
      "Epoch 31/50\n",
      "938/938 [==============================] - 18s 19ms/step - loss: 0.5016 - acc: 0.9301 - val_loss: 0.7933 - val_acc: 0.8817\n",
      "Epoch 32/50\n",
      "938/938 [==============================] - 18s 19ms/step - loss: 0.4977 - acc: 0.9300 - val_loss: 0.7946 - val_acc: 0.8828\n",
      "Epoch 33/50\n",
      "938/938 [==============================] - 18s 19ms/step - loss: 0.4942 - acc: 0.9308 - val_loss: 0.7929 - val_acc: 0.8821\n",
      "Epoch 34/50\n",
      "938/938 [==============================] - 18s 19ms/step - loss: 0.4902 - acc: 0.9319 - val_loss: 0.7943 - val_acc: 0.8815\n",
      "Epoch 35/50\n",
      "938/938 [==============================] - 18s 19ms/step - loss: 0.4873 - acc: 0.9318 - val_loss: 0.7925 - val_acc: 0.8813\n",
      "Epoch 36/50\n",
      "938/938 [==============================] - 18s 19ms/step - loss: 0.4841 - acc: 0.9322 - val_loss: 0.7924 - val_acc: 0.8817\n",
      "Epoch 37/50\n",
      "938/938 [==============================] - 18s 19ms/step - loss: 0.4820 - acc: 0.9326 - val_loss: 0.7935 - val_acc: 0.8814\n",
      "Epoch 38/50\n",
      "938/938 [==============================] - 18s 19ms/step - loss: 0.4797 - acc: 0.9330 - val_loss: 0.7924 - val_acc: 0.8803\n",
      "Epoch 39/50\n",
      "938/938 [==============================] - 18s 19ms/step - loss: 0.4768 - acc: 0.9336 - val_loss: 0.7942 - val_acc: 0.8815\n",
      "Epoch 40/50\n",
      "938/938 [==============================] - 18s 19ms/step - loss: 0.4755 - acc: 0.9337 - val_loss: 0.7940 - val_acc: 0.8811\n",
      "Epoch 41/50\n",
      "938/938 [==============================] - 18s 19ms/step - loss: 0.4728 - acc: 0.9340 - val_loss: 0.7940 - val_acc: 0.8812\n",
      "Epoch 42/50\n",
      "938/938 [==============================] - 18s 19ms/step - loss: 0.4714 - acc: 0.9343 - val_loss: 0.7940 - val_acc: 0.8807\n",
      "Epoch 43/50\n",
      "938/938 [==============================] - 18s 19ms/step - loss: 0.4692 - acc: 0.9348 - val_loss: 0.7915 - val_acc: 0.8808\n",
      "Epoch 44/50\n",
      "938/938 [==============================] - 18s 19ms/step - loss: 0.4686 - acc: 0.9349 - val_loss: 0.7946 - val_acc: 0.8815\n",
      "Epoch 45/50\n",
      "938/938 [==============================] - 18s 19ms/step - loss: 0.4670 - acc: 0.9353 - val_loss: 0.7941 - val_acc: 0.8810\n",
      "Epoch 46/50\n",
      "938/938 [==============================] - 18s 19ms/step - loss: 0.4652 - acc: 0.9352 - val_loss: 0.7937 - val_acc: 0.8807\n",
      "Epoch 47/50\n",
      "938/938 [==============================] - 18s 19ms/step - loss: 0.4638 - acc: 0.9356 - val_loss: 0.7967 - val_acc: 0.8818\n",
      "Epoch 48/50\n",
      "938/938 [==============================] - 18s 19ms/step - loss: 0.4620 - acc: 0.9356 - val_loss: 0.7957 - val_acc: 0.8803\n",
      "Epoch 49/50\n",
      "938/938 [==============================] - 18s 19ms/step - loss: 0.4608 - acc: 0.9359 - val_loss: 0.7973 - val_acc: 0.8809\n",
      "Epoch 50/50\n",
      "938/938 [==============================] - 18s 19ms/step - loss: 0.4593 - acc: 0.9361 - val_loss: 0.7975 - val_acc: 0.8813\n"
     ]
    },
    {
     "data": {
      "text/plain": [
       "<tensorflow.python.keras.callbacks.History at 0x7fddbd32bc50>"
      ]
     },
     "execution_count": 26,
     "metadata": {},
     "output_type": "execute_result"
    }
   ],
   "source": [
    "model.fit([encoder_input_train, decoder_input_train],decoder_target_train,\n",
    "          validation_data = ([encoder_input_test, decoder_input_test], decoder_target_test),\n",
    "          batch_size = 32, epochs = 50)"
   ]
  },
  {
   "cell_type": "markdown",
   "metadata": {},
   "source": [
    "## Test"
   ]
  },
  {
   "cell_type": "markdown",
   "metadata": {},
   "source": [
    "### encoder"
   ]
  },
  {
   "cell_type": "code",
   "execution_count": 27,
   "metadata": {},
   "outputs": [
    {
     "name": "stdout",
     "output_type": "stream",
     "text": [
      "Model: \"functional_3\"\n",
      "_________________________________________________________________\n",
      "Layer (type)                 Output Shape              Param #   \n",
      "=================================================================\n",
      "input_1 (InputLayer)         [(None, None)]            0         \n",
      "_________________________________________________________________\n",
      "embedding (Embedding)        (None, None, 256)         1193472   \n",
      "_________________________________________________________________\n",
      "masking (Masking)            (None, None, 256)         0         \n",
      "_________________________________________________________________\n",
      "lstm (LSTM)                  [(None, 256), (None, 256) 525312    \n",
      "=================================================================\n",
      "Total params: 1,718,784\n",
      "Trainable params: 1,718,784\n",
      "Non-trainable params: 0\n",
      "_________________________________________________________________\n"
     ]
    }
   ],
   "source": [
    "encoder_model = Model(inputs = encoder_inputs, outputs = encoder_states)\n",
    "encoder_model.summary()"
   ]
  },
  {
   "cell_type": "markdown",
   "metadata": {},
   "source": [
    "### decoder"
   ]
  },
  {
   "cell_type": "code",
   "execution_count": 28,
   "metadata": {},
   "outputs": [],
   "source": [
    "decoder_state_input_h = Input(shape=(256,))\n",
    "decoder_state_input_c = Input(shape=(256,))\n",
    "decoder_states_inputs = [decoder_state_input_h, decoder_state_input_c]\n",
    "\n",
    "dec_emb2 = Embedding(fra_vocab_size, 256)(decoder_inputs)\n",
    "decoder_outputs2, state_h2, state_c2 = decoder_lstm(dec_emb2, initial_state = decoder_states_inputs)\n",
    "decoder_states2 = [state_h2, state_c2]\n",
    "\n",
    "decoder_outputs2 = decoder_softmax_layer(decoder_outputs2)"
   ]
  },
  {
   "cell_type": "code",
   "execution_count": 29,
   "metadata": {},
   "outputs": [
    {
     "name": "stdout",
     "output_type": "stream",
     "text": [
      "Model: \"functional_5\"\n",
      "__________________________________________________________________________________________________\n",
      "Layer (type)                    Output Shape         Param #     Connected to                     \n",
      "==================================================================================================\n",
      "input_2 (InputLayer)            [(None, None)]       0                                            \n",
      "__________________________________________________________________________________________________\n",
      "embedding_2 (Embedding)         (None, None, 256)    1875456     input_2[0][0]                    \n",
      "__________________________________________________________________________________________________\n",
      "input_3 (InputLayer)            [(None, 256)]        0                                            \n",
      "__________________________________________________________________________________________________\n",
      "input_4 (InputLayer)            [(None, 256)]        0                                            \n",
      "__________________________________________________________________________________________________\n",
      "lstm_1 (LSTM)                   [(None, None, 256),  525312      embedding_2[0][0]                \n",
      "                                                                 input_3[0][0]                    \n",
      "                                                                 input_4[0][0]                    \n",
      "__________________________________________________________________________________________________\n",
      "dense (Dense)                   (None, None, 7326)   1882782     lstm_1[1][0]                     \n",
      "==================================================================================================\n",
      "Total params: 4,283,550\n",
      "Trainable params: 4,283,550\n",
      "Non-trainable params: 0\n",
      "__________________________________________________________________________________________________\n"
     ]
    }
   ],
   "source": [
    "decoder_model = Model(inputs=[decoder_inputs] + decoder_states_inputs, outputs=[decoder_outputs2] + decoder_states2)\n",
    "decoder_model.summary()"
   ]
  },
  {
   "cell_type": "code",
   "execution_count": 30,
   "metadata": {},
   "outputs": [],
   "source": [
    "eng2idx = eng_tokenizer.word_index\n",
    "fra2idx = fra_tokenizer.word_index\n",
    "idx2eng = eng_tokenizer.index_word\n",
    "idx2fra = fra_tokenizer.index_word"
   ]
  },
  {
   "cell_type": "code",
   "execution_count": 36,
   "metadata": {},
   "outputs": [],
   "source": [
    "def decode_sequence(input_seq):\n",
    "    # 입력으로부터 인코더의 상태를 얻음\n",
    "    states_value = encoder_model.predict(input_seq)\n",
    "\n",
    "    # <SOS>에 해당하는 원-핫 벡터 생성\n",
    "    target_seq = np.zeros((1,1))\n",
    "    target_seq[0, 0] = fra2idx['<start>']\n",
    "    \n",
    "    stop_condition = False\n",
    "    decoded_sentence = \"\"\n",
    "\n",
    "    # stop_condition이 True가 될 때까지 루프 반복\n",
    "    while not stop_condition:\n",
    "        # 이점 시점의 상태 states_value를 현 시점의 초기 상태로 사용\n",
    "        output_tokens, h, c = decoder_model.predict([target_seq] + states_value)\n",
    "\n",
    "        # 예측 결과를 문자로 변환\n",
    "        sampled_token_index = np.argmax(output_tokens[0, -1, :])\n",
    "        sampled_char = idx2fra[sampled_token_index]\n",
    "\n",
    "        # 현재 시점의 예측 문자를 예측 문장에 추가\n",
    "        decoded_sentence += ' '+sampled_char\n",
    "\n",
    "        # <eos>에 도달하거나 최대 길이를 넘으면 중단.\n",
    "        if (sampled_char == '<end>' or\n",
    "           len(decoded_sentence) > max_fra_seq_len):\n",
    "            stop_condition = True\n",
    "\n",
    "        # 현재 시점의 예측 결과를 다음 시점의 입력으로 사용하기 위해 저장\n",
    "        target_seq = np.zeros((1, 1))\n",
    "        target_seq[0, 0] = sampled_token_index\n",
    "\n",
    "        # 현재 시점의 상태를 다음 시점의 상태로 사용하기 위해 저장\n",
    "        states_value = [h, c]\n",
    "\n",
    "    return decoded_sentence"
   ]
  },
  {
   "cell_type": "code",
   "execution_count": 37,
   "metadata": {},
   "outputs": [],
   "source": [
    "# 원문의 정수 시퀀스를 텍스트 시퀀스로 변환\n",
    "def seq2src(input_seq):\n",
    "    temp=''\n",
    "    for i in input_seq:\n",
    "        if(i!=0):\n",
    "            temp = temp + idx2eng[i]+' '\n",
    "    return temp"
   ]
  },
  {
   "cell_type": "code",
   "execution_count": 38,
   "metadata": {},
   "outputs": [],
   "source": [
    "# 번역문의 정수 시퀀스를 텍스트 시퀀스로 변환\n",
    "def seq2tar(input_seq):\n",
    "    temp=''\n",
    "    for i in input_seq:\n",
    "        if((i!=0 and i!=fra2idx['<start>']) and i!=fra2idx['<end>']):\n",
    "            temp = temp + idx2fra[i] + ' '\n",
    "    return temp"
   ]
  },
  {
   "cell_type": "code",
   "execution_count": 48,
   "metadata": {},
   "outputs": [
    {
     "name": "stdout",
     "output_type": "stream",
     "text": [
      "-----------------------------------\n",
      "입력 문장: they re all alike . \n",
      "정답 문장: ils sont tous semblables . \n",
      "번역기가 번역한 문장:  elles sont tous tou\n",
      "-----------------------------------\n",
      "입력 문장: what do you see ? \n",
      "정답 문장: que voyez vous ? \n",
      "번역기가 번역한 문장:  que vous vous ? \n",
      "-----------------------------------\n",
      "입력 문장: don t be so angry . \n",
      "정답 문장: ne te mets pas en col re . \n",
      "번역기가 번역한 문장:  ne ne pas pas ! \n",
      "-----------------------------------\n",
      "입력 문장: she can handle it . \n",
      "정답 문장: elle sait y faire . \n",
      "번역기가 번역한 문장:  elle peut cela . cel\n",
      "-----------------------------------\n",
      "입력 문장: you re demented . \n",
      "정답 문장: vous tes fous . \n",
      "번역기가 번역한 문장:  vous tes tes . . vou\n"
     ]
    }
   ],
   "source": [
    "for seq_index in [1,100,301,777,2222]:\n",
    "    input_seq = encoder_input_test[seq_index: seq_index + 1]\n",
    "    decoded_sentence = decode_sequence(input_seq)\n",
    "    print(35 * \"-\")\n",
    "    print('입력 문장:', seq2src(encoder_input_test[seq_index]))\n",
    "    print('정답 문장:', seq2tar(decoder_input_test[seq_index]))\n",
    "    print('번역기가 번역한 문장:', decoded_sentence[:len(decoded_sentence)-1])"
   ]
  },
  {
   "cell_type": "markdown",
   "metadata": {},
   "source": [
    "## Report"
   ]
  },
  {
   "cell_type": "markdown",
   "metadata": {},
   "source": [
    "seq2seq를 이용하여 번역기(영어-프랑스어)를 만들어 봤습니다.  \n",
    "단어 단위에서 구현하였습니다.  \n",
    "<br>\n",
    "결과는 다음과 같습니다.  \n",
    "<br>\n",
    "입력 문장: they re all alike .   \n",
    "정답 문장: ils sont tous semblables .   \n",
    "번역기가 번역한 문장:  elles sont tous tou  \n",
    "\n",
    "입력 문장: what do you see ?   \n",
    "정답 문장: que voyez vous ?   \n",
    "번역기가 번역한 문장:  que vous vous ?   \n",
    "\n",
    "입력 문장: don t be so angry .  \n",
    "정답 문장: ne te mets pas en col re .  \n",
    "번역기가 번역한 문장:  ne ne pas pas !  \n",
    "\n",
    "입력 문장: she can handle it .  \n",
    "정답 문장: elle sait y faire .  \n",
    "번역기가 번역한 문장:  elle peut cela . cel  \n",
    "\n",
    "입력 문장: you re demented .  \n",
    "정답 문장: vous tes fous .  \n",
    "번역기가 번역한 문장:  vous tes tes . . vou  \n",
    "<br>\n",
    "어느정도 유사하지만 결과가 완벽하지는 않습니다."
   ]
  }
 ],
 "metadata": {
  "kernelspec": {
   "display_name": "aiffel",
   "language": "python",
   "name": "aiffel"
  },
  "language_info": {
   "codemirror_mode": {
    "name": "ipython",
    "version": 3
   },
   "file_extension": ".py",
   "mimetype": "text/x-python",
   "name": "python",
   "nbconvert_exporter": "python",
   "pygments_lexer": "ipython3",
   "version": "3.7.6"
  },
  "toc": {
   "base_numbering": 1,
   "nav_menu": {},
   "number_sections": true,
   "sideBar": true,
   "skip_h1_title": true,
   "title_cell": "Table of Contents",
   "title_sidebar": "Contents",
   "toc_cell": false,
   "toc_position": {
    "height": "calc(100% - 180px)",
    "left": "10px",
    "top": "150px",
    "width": "384px"
   },
   "toc_section_display": true,
   "toc_window_display": true
  }
 },
 "nbformat": 4,
 "nbformat_minor": 4
}
